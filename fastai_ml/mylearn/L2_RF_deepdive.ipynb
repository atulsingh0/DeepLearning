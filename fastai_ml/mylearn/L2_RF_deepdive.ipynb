{
 "cells": [
  {
   "cell_type": "code",
   "execution_count": 1,
   "metadata": {},
   "outputs": [],
   "source": [
    "# import \n",
    "import numpy as np\n",
    "import pandas as pd\n",
    "import matplotlib.pyplot as plt\n",
    "import myutils\n",
    "\n",
    "%matplotlib inline"
   ]
  },
  {
   "cell_type": "code",
   "execution_count": 2,
   "metadata": {},
   "outputs": [],
   "source": [
    "# fast.ai import\n",
    "from fastai.imports import *\n",
    "from fastai.structured import *"
   ]
  },
  {
   "cell_type": "code",
   "execution_count": 3,
   "metadata": {},
   "outputs": [],
   "source": [
    "from sklearn.ensemble import RandomForestRegressor"
   ]
  },
  {
   "cell_type": "code",
   "execution_count": 4,
   "metadata": {},
   "outputs": [],
   "source": [
    "path='../../../datasets/bulldozers/'"
   ]
  },
  {
   "cell_type": "code",
   "execution_count": 5,
   "metadata": {},
   "outputs": [
    {
     "name": "stdout",
     "output_type": "stream",
     "text": [
      "SalesID,SalePrice,MachineID,ModelID,datasource,auctioneerID,YearMade,MachineHoursCurrentMeter,UsageBand,saledate,fiModelDesc,fiBaseModel,fiSecondaryDesc,fiModelSeries,fiModelDescriptor,ProductSize,fiProductClassDesc,state,ProductGroup,ProductGroupDesc,Drive_System,Enclosure,Forks,Pad_Type,Ride_Control,Stick,Transmission,Turbocharged,Blade_Extension,Blade_Width,Enclosure_Type,Engine_Horsepower,Hydraulics,Pushblock,Ripper,Scarifier,Tip_Control,Tire_Size,Coupler,Coupler_System,Grouser_Tracks,Hydraulics_Flow,Track_Type,Undercarriage_Pad_Width,Stick_Length,Thumb,Pattern_Changer,Grouser_Type,Backhoe_Mounting,Blade_Type,Travel_Controls,Differential_Type,Steering_Controls\n",
      "1139246,66000,999089,3157,121,3,2004,68,Low,11/16/2006 0:00,521D,521,D,,,,Wheel Loader - 110.0 to 120.0 Horsepower,Alabama,WL,Wheel Loader,,EROPS w AC,None or Unspecified,,None or Unspecified,,,,,,,,2 Valve,,,,,None or Unspecified,None or Unspecified,,,,,,,,,,,,,Standard,Conventional\n",
      "1139248,57000,117657,77,121,3,1996,4640,Low,3/26/2004 0:00,950FII,950,F,II,,Medium,Wheel Loader - 150.0 to 175.0 Horsepower,North Carolina,WL,Wheel Loader,,EROPS w AC,None or Unspecified,,None or Unspecified,,,,,,,,2 Valve,,,,,23.5,None or Unspecified,,,,,,,,,,,,,Standard,Conventional\n"
     ]
    }
   ],
   "source": [
    "!head -3 {path}Train.csv"
   ]
  },
  {
   "cell_type": "code",
   "execution_count": 6,
   "metadata": {},
   "outputs": [
    {
     "data": {
      "text/plain": [
       "65"
      ]
     },
     "execution_count": 6,
     "metadata": {},
     "output_type": "execute_result"
    }
   ],
   "source": [
    "# Reading the data\n",
    "df_raw = pd.read_feather('tmp/raw')\n",
    "len(df_raw.columns)"
   ]
  },
  {
   "cell_type": "code",
   "execution_count": 7,
   "metadata": {},
   "outputs": [
    {
     "name": "stdout",
     "output_type": "stream",
     "text": [
      "SalesID                          0\n",
      "SalePrice                        0\n",
      "MachineID                        0\n",
      "ModelID                          0\n",
      "datasource                       0\n",
      "auctioneerID                 20136\n",
      "YearMade                         0\n",
      "MachineHoursCurrentMeter    258360\n",
      "UsageBand                   331486\n",
      "fiModelDesc                      0\n",
      "fiBaseModel                      0\n",
      "fiSecondaryDesc             137191\n",
      "fiModelSeries               344217\n",
      "fiModelDescriptor           329206\n",
      "ProductSize                 210775\n",
      "fiProductClassDesc               0\n",
      "state                            0\n",
      "ProductGroup                     0\n",
      "ProductGroupDesc                 0\n",
      "Drive_System                296764\n",
      "Enclosure                      325\n",
      "Forks                       209048\n",
      "Pad_Type                    321991\n",
      "Ride_Control                252519\n",
      "Stick                       321991\n",
      "Transmission                217895\n",
      "Turbocharged                321991\n",
      "Blade_Extension             375906\n",
      "Blade_Width                 375906\n",
      "Enclosure_Type              375906\n",
      "Engine_Horsepower           375906\n",
      "Hydraulics                   80555\n",
      "Pushblock                   375906\n",
      "Ripper                      296988\n",
      "Scarifier                   375895\n",
      "Tip_Control                 375906\n",
      "Tire_Size                   306407\n",
      "Coupler                     187173\n",
      "Coupler_System              357667\n",
      "Grouser_Tracks              357763\n",
      "Hydraulics_Flow             357763\n",
      "Track_Type                  301972\n",
      "Undercarriage_Pad_Width     301253\n",
      "Stick_Length                301907\n",
      "Thumb                       301837\n",
      "Pattern_Changer             301907\n",
      "Grouser_Type                301972\n",
      "Backhoe_Mounting            322453\n",
      "Blade_Type                  321292\n",
      "Travel_Controls             321291\n",
      "Differential_Type           331714\n",
      "Steering_Controls           331756\n",
      "saleYear                         0\n",
      "saleMonth                        0\n",
      "saleWeek                         0\n",
      "saleDay                          0\n",
      "saleDayofweek                    0\n",
      "saleDayofyear                    0\n",
      "saleIs_month_end                 0\n",
      "saleIs_month_start               0\n",
      "saleIs_quarter_end               0\n",
      "saleIs_quarter_start             0\n",
      "saleIs_year_end                  0\n",
      "saleIs_year_start                0\n",
      "saleElapsed                      0\n",
      "dtype: int64\n"
     ]
    }
   ],
   "source": [
    "myutils.display_df(myutils.df_null(df_raw))"
   ]
  },
  {
   "cell_type": "code",
   "execution_count": 8,
   "metadata": {},
   "outputs": [],
   "source": [
    "df, y, miss_dict = proc_df(df_raw, 'SalePrice')"
   ]
  },
  {
   "cell_type": "code",
   "execution_count": 9,
   "metadata": {},
   "outputs": [
    {
     "data": {
      "text/plain": [
       "66"
      ]
     },
     "execution_count": 9,
     "metadata": {},
     "output_type": "execute_result"
    }
   ],
   "source": [
    "len(df.columns)"
   ]
  },
  {
   "cell_type": "code",
   "execution_count": 10,
   "metadata": {},
   "outputs": [
    {
     "data": {
      "text/plain": [
       "(Index(['SalesID', 'MachineID', 'ModelID', 'datasource', 'auctioneerID',\n",
       "        'YearMade', 'MachineHoursCurrentMeter', 'UsageBand', 'fiModelDesc',\n",
       "        'fiBaseModel', 'fiSecondaryDesc', 'fiModelSeries', 'fiModelDescriptor',\n",
       "        'ProductSize', 'fiProductClassDesc', 'state', 'ProductGroup',\n",
       "        'ProductGroupDesc', 'Drive_System', 'Enclosure', 'Forks', 'Pad_Type',\n",
       "        'Ride_Control', 'Stick', 'Transmission', 'Turbocharged',\n",
       "        'Blade_Extension', 'Blade_Width', 'Enclosure_Type', 'Engine_Horsepower',\n",
       "        'Hydraulics', 'Pushblock', 'Ripper', 'Scarifier', 'Tip_Control',\n",
       "        'Tire_Size', 'Coupler', 'Coupler_System', 'Grouser_Tracks',\n",
       "        'Hydraulics_Flow', 'Track_Type', 'Undercarriage_Pad_Width',\n",
       "        'Stick_Length', 'Thumb', 'Pattern_Changer', 'Grouser_Type',\n",
       "        'Backhoe_Mounting', 'Blade_Type', 'Travel_Controls',\n",
       "        'Differential_Type', 'Steering_Controls', 'saleYear', 'saleMonth',\n",
       "        'saleWeek', 'saleDay', 'saleDayofweek', 'saleDayofyear',\n",
       "        'saleIs_month_end', 'saleIs_month_start', 'saleIs_quarter_end',\n",
       "        'saleIs_quarter_start', 'saleIs_year_end', 'saleIs_year_start',\n",
       "        'saleElapsed', 'auctioneerID_na', 'MachineHoursCurrentMeter_na'],\n",
       "       dtype='object'),\n",
       " Index(['SalesID', 'SalePrice', 'MachineID', 'ModelID', 'datasource',\n",
       "        'auctioneerID', 'YearMade', 'MachineHoursCurrentMeter', 'UsageBand',\n",
       "        'fiModelDesc', 'fiBaseModel', 'fiSecondaryDesc', 'fiModelSeries',\n",
       "        'fiModelDescriptor', 'ProductSize', 'fiProductClassDesc', 'state',\n",
       "        'ProductGroup', 'ProductGroupDesc', 'Drive_System', 'Enclosure',\n",
       "        'Forks', 'Pad_Type', 'Ride_Control', 'Stick', 'Transmission',\n",
       "        'Turbocharged', 'Blade_Extension', 'Blade_Width', 'Enclosure_Type',\n",
       "        'Engine_Horsepower', 'Hydraulics', 'Pushblock', 'Ripper', 'Scarifier',\n",
       "        'Tip_Control', 'Tire_Size', 'Coupler', 'Coupler_System',\n",
       "        'Grouser_Tracks', 'Hydraulics_Flow', 'Track_Type',\n",
       "        'Undercarriage_Pad_Width', 'Stick_Length', 'Thumb', 'Pattern_Changer',\n",
       "        'Grouser_Type', 'Backhoe_Mounting', 'Blade_Type', 'Travel_Controls',\n",
       "        'Differential_Type', 'Steering_Controls', 'saleYear', 'saleMonth',\n",
       "        'saleWeek', 'saleDay', 'saleDayofweek', 'saleDayofyear',\n",
       "        'saleIs_month_end', 'saleIs_month_start', 'saleIs_quarter_end',\n",
       "        'saleIs_quarter_start', 'saleIs_year_end', 'saleIs_year_start',\n",
       "        'saleElapsed'],\n",
       "       dtype='object'))"
      ]
     },
     "execution_count": 10,
     "metadata": {},
     "output_type": "execute_result"
    }
   ],
   "source": [
    "df.columns, df_raw.columns"
   ]
  },
  {
   "cell_type": "code",
   "execution_count": 11,
   "metadata": {},
   "outputs": [
    {
     "data": {
      "text/plain": [
       "0.9830949696885208"
      ]
     },
     "execution_count": 11,
     "metadata": {},
     "output_type": "execute_result"
    }
   ],
   "source": [
    "clf = RandomForestRegressor(n_jobs=-1)\n",
    "clf.fit(df, y)\n",
    "clf.score(df, y)  #return r2 score"
   ]
  },
  {
   "cell_type": "code",
   "execution_count": 12,
   "metadata": {},
   "outputs": [
    {
     "data": {
      "text/plain": [
       "\u001b[0;31mSignature:\u001b[0m \u001b[0mclf\u001b[0m\u001b[0;34m.\u001b[0m\u001b[0mscore\u001b[0m\u001b[0;34m(\u001b[0m\u001b[0mX\u001b[0m\u001b[0;34m,\u001b[0m \u001b[0my\u001b[0m\u001b[0;34m,\u001b[0m \u001b[0msample_weight\u001b[0m\u001b[0;34m=\u001b[0m\u001b[0;32mNone\u001b[0m\u001b[0;34m)\u001b[0m\u001b[0;34m\u001b[0m\u001b[0m\n",
       "\u001b[0;31mSource:\u001b[0m   \n",
       "    \u001b[0;32mdef\u001b[0m \u001b[0mscore\u001b[0m\u001b[0;34m(\u001b[0m\u001b[0mself\u001b[0m\u001b[0;34m,\u001b[0m \u001b[0mX\u001b[0m\u001b[0;34m,\u001b[0m \u001b[0my\u001b[0m\u001b[0;34m,\u001b[0m \u001b[0msample_weight\u001b[0m\u001b[0;34m=\u001b[0m\u001b[0;32mNone\u001b[0m\u001b[0;34m)\u001b[0m\u001b[0;34m:\u001b[0m\u001b[0;34m\u001b[0m\n",
       "\u001b[0;34m\u001b[0m        \u001b[0;34m\"\"\"Returns the coefficient of determination R^2 of the prediction.\u001b[0m\n",
       "\u001b[0;34m\u001b[0m\n",
       "\u001b[0;34m        The coefficient R^2 is defined as (1 - u/v), where u is the residual\u001b[0m\n",
       "\u001b[0;34m        sum of squares ((y_true - y_pred) ** 2).sum() and v is the total\u001b[0m\n",
       "\u001b[0;34m        sum of squares ((y_true - y_true.mean()) ** 2).sum().\u001b[0m\n",
       "\u001b[0;34m        The best possible score is 1.0 and it can be negative (because the\u001b[0m\n",
       "\u001b[0;34m        model can be arbitrarily worse). A constant model that always\u001b[0m\n",
       "\u001b[0;34m        predicts the expected value of y, disregarding the input features,\u001b[0m\n",
       "\u001b[0;34m        would get a R^2 score of 0.0.\u001b[0m\n",
       "\u001b[0;34m\u001b[0m\n",
       "\u001b[0;34m        Parameters\u001b[0m\n",
       "\u001b[0;34m        ----------\u001b[0m\n",
       "\u001b[0;34m        X : array-like, shape = (n_samples, n_features)\u001b[0m\n",
       "\u001b[0;34m            Test samples.\u001b[0m\n",
       "\u001b[0;34m\u001b[0m\n",
       "\u001b[0;34m        y : array-like, shape = (n_samples) or (n_samples, n_outputs)\u001b[0m\n",
       "\u001b[0;34m            True values for X.\u001b[0m\n",
       "\u001b[0;34m\u001b[0m\n",
       "\u001b[0;34m        sample_weight : array-like, shape = [n_samples], optional\u001b[0m\n",
       "\u001b[0;34m            Sample weights.\u001b[0m\n",
       "\u001b[0;34m\u001b[0m\n",
       "\u001b[0;34m        Returns\u001b[0m\n",
       "\u001b[0;34m        -------\u001b[0m\n",
       "\u001b[0;34m        score : float\u001b[0m\n",
       "\u001b[0;34m            R^2 of self.predict(X) wrt. y.\u001b[0m\n",
       "\u001b[0;34m        \"\"\"\u001b[0m\u001b[0;34m\u001b[0m\n",
       "\u001b[0;34m\u001b[0m\u001b[0;34m\u001b[0m\n",
       "\u001b[0;34m\u001b[0m        \u001b[0;32mfrom\u001b[0m \u001b[0;34m.\u001b[0m\u001b[0mmetrics\u001b[0m \u001b[0;32mimport\u001b[0m \u001b[0mr2_score\u001b[0m\u001b[0;34m\u001b[0m\n",
       "\u001b[0;34m\u001b[0m        \u001b[0;32mreturn\u001b[0m \u001b[0mr2_score\u001b[0m\u001b[0;34m(\u001b[0m\u001b[0my\u001b[0m\u001b[0;34m,\u001b[0m \u001b[0mself\u001b[0m\u001b[0;34m.\u001b[0m\u001b[0mpredict\u001b[0m\u001b[0;34m(\u001b[0m\u001b[0mX\u001b[0m\u001b[0;34m)\u001b[0m\u001b[0;34m,\u001b[0m \u001b[0msample_weight\u001b[0m\u001b[0;34m=\u001b[0m\u001b[0msample_weight\u001b[0m\u001b[0;34m,\u001b[0m\u001b[0;34m\u001b[0m\n",
       "\u001b[0;34m\u001b[0m                        \u001b[0mmultioutput\u001b[0m\u001b[0;34m=\u001b[0m\u001b[0;34m'variance_weighted'\u001b[0m\u001b[0;34m)\u001b[0m\u001b[0;34m\u001b[0m\u001b[0m\n",
       "\u001b[0;31mFile:\u001b[0m      ~/anaconda/envs/gpu/lib/python3.6/site-packages/sklearn/base.py\n",
       "\u001b[0;31mType:\u001b[0m      method\n"
      ]
     },
     "metadata": {},
     "output_type": "display_data"
    }
   ],
   "source": [
    "??clf.score"
   ]
  },
  {
   "cell_type": "code",
   "execution_count": 13,
   "metadata": {},
   "outputs": [
    {
     "name": "stdout",
     "output_type": "stream",
     "text": [
      "(387125, 66) (14000, 66)\n",
      "(387125,) (14000,)\n"
     ]
    }
   ],
   "source": [
    "X_train, X_test, y_train, y_test = myutils.split_vals_no(df, y, 14000)"
   ]
  },
  {
   "cell_type": "code",
   "execution_count": 14,
   "metadata": {},
   "outputs": [
    {
     "name": "stdout",
     "output_type": "stream",
     "text": [
      "CPU times: user 1min 13s, sys: 377 ms, total: 1min 14s\n",
      "Wall time: 22.5 s\n"
     ]
    },
    {
     "data": {
      "text/plain": [
       "0.9827919711818245"
      ]
     },
     "execution_count": 14,
     "metadata": {},
     "output_type": "execute_result"
    }
   ],
   "source": [
    "clf2 = RandomForestRegressor(n_jobs=-1)\n",
    "%time clf2.fit(X_train, y_train)\n",
    "clf2.score(X_train, y_train)"
   ]
  },
  {
   "cell_type": "code",
   "execution_count": 15,
   "metadata": {},
   "outputs": [
    {
     "data": {
      "text/plain": [
       "0.87840312512985"
      ]
     },
     "execution_count": 15,
     "metadata": {},
     "output_type": "execute_result"
    }
   ],
   "source": [
    "clf2.score(X_test, y_test)"
   ]
  },
  {
   "cell_type": "code",
   "execution_count": 16,
   "metadata": {},
   "outputs": [
    {
     "name": "stdout",
     "output_type": "stream",
     "text": [
      "training rmse, validation rmse, training score, validation score and/or oob_score\n",
      "[0.09074184304152885, 0.25921398682157576, 0.9827919711818245, 0.87840312512985]\n"
     ]
    }
   ],
   "source": [
    "myutils.print_score(clf2, X_train, y_train, X_test, y_test)"
   ]
  },
  {
   "cell_type": "markdown",
   "metadata": {},
   "source": [
    "### For speeding the model, lets train it on sampled data"
   ]
  },
  {
   "cell_type": "code",
   "execution_count": 17,
   "metadata": {},
   "outputs": [
    {
     "data": {
      "text/plain": [
       "65"
      ]
     },
     "execution_count": 17,
     "metadata": {},
     "output_type": "execute_result"
    }
   ],
   "source": [
    "len(df_raw.columns)"
   ]
  },
  {
   "cell_type": "code",
   "execution_count": 28,
   "metadata": {},
   "outputs": [
    {
     "name": "stdout",
     "output_type": "stream",
     "text": [
      "(20000, 65) (10000, 65)\n",
      "(20000,) (10000,)\n"
     ]
    }
   ],
   "source": [
    "df_trn, y_trn, _ = proc_df(df_raw, 'SalePrice', subset=30000)\n",
    "X_trn, _, y_trn, _ = myutils.split_vals_no(df_trn, y_trn, 10000)"
   ]
  },
  {
   "cell_type": "code",
   "execution_count": 19,
   "metadata": {},
   "outputs": [
    {
     "data": {
      "text/plain": [
       "65"
      ]
     },
     "execution_count": 19,
     "metadata": {},
     "output_type": "execute_result"
    }
   ],
   "source": [
    "len(df_raw.columns)"
   ]
  },
  {
   "cell_type": "code",
   "execution_count": 20,
   "metadata": {},
   "outputs": [
    {
     "name": "stdout",
     "output_type": "stream",
     "text": [
      "CPU times: user 1.46 s, sys: 3.96 ms, total: 1.47 s\n",
      "Wall time: 446 ms\n",
      "training rmse, validation rmse, training score, validation score and/or oob_score\n",
      "[0.11058796982558232, 0.3529469066243972, 0.9745917202668072, 0.7745634602889973]\n"
     ]
    }
   ],
   "source": [
    "clf3 = RandomForestRegressor(n_jobs=-1)\n",
    "%time clf3.fit(X_trn, y_trn)\n",
    "myutils.print_score(clf3, X_trn, y_trn, X_test.drop('auctioneerID_na', axis=1), y_test)"
   ]
  },
  {
   "cell_type": "markdown",
   "metadata": {},
   "source": [
    "### Bulding a small tree"
   ]
  },
  {
   "cell_type": "code",
   "execution_count": 21,
   "metadata": {},
   "outputs": [
    {
     "name": "stdout",
     "output_type": "stream",
     "text": [
      "CPU times: user 91.3 ms, sys: 39 µs, total: 91.3 ms\n",
      "Wall time: 162 ms\n",
      "training rmse, validation rmse, training score, validation score and/or oob_score\n",
      "[0.48844248359385795, 0.5317185844483021, 0.5043371689075458, 0.4883544164905186]\n"
     ]
    }
   ],
   "source": [
    "clf4 = RandomForestRegressor(n_jobs=-1, n_estimators=1, bootstrap=False, max_depth=3)\n",
    "%time clf4.fit(X_trn, y_trn)\n",
    "myutils.print_score(clf4, X_trn, y_trn, X_test.drop('auctioneerID_na', axis=1), y_test)"
   ]
  },
  {
   "cell_type": "code",
   "execution_count": 22,
   "metadata": {},
   "outputs": [
    {
     "data": {
      "image/svg+xml": [
       "<?xml version=\"1.0\" encoding=\"UTF-8\" standalone=\"no\"?>\n",
       "<!DOCTYPE svg PUBLIC \"-//W3C//DTD SVG 1.1//EN\"\n",
       " \"http://www.w3.org/Graphics/SVG/1.1/DTD/svg11.dtd\">\n",
       "<!-- Generated by graphviz version 2.40.1 (20161225.0304)\n",
       " -->\n",
       "<!-- Title: Tree Pages: 1 -->\n",
       "<svg width=\"720pt\" height=\"434pt\"\n",
       " viewBox=\"0.00 0.00 720.00 434.49\" xmlns=\"http://www.w3.org/2000/svg\" xmlns:xlink=\"http://www.w3.org/1999/xlink\">\n",
       "<g id=\"graph0\" class=\"graph\" transform=\"scale(.7787 .7787) rotate(0) translate(4 554)\">\n",
       "<title>Tree</title>\n",
       "<polygon fill=\"#ffffff\" stroke=\"transparent\" points=\"-4,4 -4,-554 920.6667,-554 920.6667,4 -4,4\"/>\n",
       "<!-- 0 -->\n",
       "<g id=\"node1\" class=\"node\">\n",
       "<title>0</title>\n",
       "<polygon fill=\"#e58139\" fill-opacity=\"0.686275\" stroke=\"#000000\" points=\"167.6667,-336.5 27.6667,-336.5 27.6667,-268.5 167.6667,-268.5 167.6667,-336.5\"/>\n",
       "<text text-anchor=\"start\" x=\"35.6667\" y=\"-321.3\" font-family=\"Times,serif\" font-size=\"14.00\" fill=\"#000000\">Coupler_System ≤ 0.5</text>\n",
       "<text text-anchor=\"start\" x=\"62.6667\" y=\"-306.3\" font-family=\"Times,serif\" font-size=\"14.00\" fill=\"#000000\">mse = 0.481</text>\n",
       "<text text-anchor=\"start\" x=\"50.6667\" y=\"-291.3\" font-family=\"Times,serif\" font-size=\"14.00\" fill=\"#000000\">samples = 10000</text>\n",
       "<text text-anchor=\"start\" x=\"56.1667\" y=\"-276.3\" font-family=\"Times,serif\" font-size=\"14.00\" fill=\"#000000\">value = 10.173</text>\n",
       "</g>\n",
       "<!-- 1 -->\n",
       "<g id=\"node2\" class=\"node\">\n",
       "<title>1</title>\n",
       "<polygon fill=\"#e58139\" fill-opacity=\"0.776471\" stroke=\"#000000\" points=\"388.6667,-372.5 284.6667,-372.5 284.6667,-304.5 388.6667,-304.5 388.6667,-372.5\"/>\n",
       "<text text-anchor=\"start\" x=\"292.6667\" y=\"-357.3\" font-family=\"Times,serif\" font-size=\"14.00\" fill=\"#000000\">Enclosure ≤ 2.0</text>\n",
       "<text text-anchor=\"start\" x=\"301.6667\" y=\"-342.3\" font-family=\"Times,serif\" font-size=\"14.00\" fill=\"#000000\">mse = 0.402</text>\n",
       "<text text-anchor=\"start\" x=\"292.6667\" y=\"-327.3\" font-family=\"Times,serif\" font-size=\"14.00\" fill=\"#000000\">samples = 8285</text>\n",
       "<text text-anchor=\"start\" x=\"295.1667\" y=\"-312.3\" font-family=\"Times,serif\" font-size=\"14.00\" fill=\"#000000\">value = 10.337</text>\n",
       "</g>\n",
       "<!-- 0&#45;&gt;1 -->\n",
       "<g id=\"edge1\" class=\"edge\">\n",
       "<title>0&#45;&gt;1</title>\n",
       "<path fill=\"none\" stroke=\"#000000\" d=\"M167.7597,-313.0579C201.5873,-318.1533 241.826,-324.2144 274.5418,-329.1423\"/>\n",
       "<polygon fill=\"#000000\" stroke=\"#000000\" points=\"274.0283,-332.6043 284.4381,-330.6329 275.071,-325.6824 274.0283,-332.6043\"/>\n",
       "<text text-anchor=\"middle\" x=\"264.3246\" y=\"-341.7804\" font-family=\"Times,serif\" font-size=\"14.00\" fill=\"#000000\">True</text>\n",
       "</g>\n",
       "<!-- 8 -->\n",
       "<g id=\"node9\" class=\"node\">\n",
       "<title>8</title>\n",
       "<polygon fill=\"#e58139\" fill-opacity=\"0.250980\" stroke=\"#000000\" points=\"400.6667,-245.5 272.6667,-245.5 272.6667,-177.5 400.6667,-177.5 400.6667,-245.5\"/>\n",
       "<text text-anchor=\"start\" x=\"280.6667\" y=\"-230.3\" font-family=\"Times,serif\" font-size=\"14.00\" fill=\"#000000\">YearMade ≤ 1999.5</text>\n",
       "<text text-anchor=\"start\" x=\"301.6667\" y=\"-215.3\" font-family=\"Times,serif\" font-size=\"14.00\" fill=\"#000000\">mse = 0.107</text>\n",
       "<text text-anchor=\"start\" x=\"292.6667\" y=\"-200.3\" font-family=\"Times,serif\" font-size=\"14.00\" fill=\"#000000\">samples = 1715</text>\n",
       "<text text-anchor=\"start\" x=\"298.6667\" y=\"-185.3\" font-family=\"Times,serif\" font-size=\"14.00\" fill=\"#000000\">value = 9.382</text>\n",
       "</g>\n",
       "<!-- 0&#45;&gt;8 -->\n",
       "<g id=\"edge8\" class=\"edge\">\n",
       "<title>0&#45;&gt;8</title>\n",
       "<path fill=\"none\" stroke=\"#000000\" d=\"M167.7597,-275.8119C197.5886,-264.4544 232.4025,-251.1989 262.6476,-239.683\"/>\n",
       "<polygon fill=\"#000000\" stroke=\"#000000\" points=\"264.1948,-242.8391 272.2948,-236.0098 261.7039,-236.2972 264.1948,-242.8391\"/>\n",
       "<text text-anchor=\"middle\" x=\"249.4839\" y=\"-222.0794\" font-family=\"Times,serif\" font-size=\"14.00\" fill=\"#000000\">False</text>\n",
       "</g>\n",
       "<!-- 2 -->\n",
       "<g id=\"node3\" class=\"node\">\n",
       "<title>2</title>\n",
       "<polygon fill=\"#e58139\" fill-opacity=\"0.580392\" stroke=\"#000000\" points=\"658.6667,-486.5 538.6667,-486.5 538.6667,-418.5 658.6667,-418.5 658.6667,-486.5\"/>\n",
       "<text text-anchor=\"start\" x=\"546.6667\" y=\"-471.3\" font-family=\"Times,serif\" font-size=\"14.00\" fill=\"#000000\">ModelID ≤ 4588.0</text>\n",
       "<text text-anchor=\"start\" x=\"563.6667\" y=\"-456.3\" font-family=\"Times,serif\" font-size=\"14.00\" fill=\"#000000\">mse = 0.316</text>\n",
       "<text text-anchor=\"start\" x=\"554.6667\" y=\"-441.3\" font-family=\"Times,serif\" font-size=\"14.00\" fill=\"#000000\">samples = 2293</text>\n",
       "<text text-anchor=\"start\" x=\"560.6667\" y=\"-426.3\" font-family=\"Times,serif\" font-size=\"14.00\" fill=\"#000000\">value = 9.982</text>\n",
       "</g>\n",
       "<!-- 1&#45;&gt;2 -->\n",
       "<g id=\"edge2\" class=\"edge\">\n",
       "<title>1&#45;&gt;2</title>\n",
       "<path fill=\"none\" stroke=\"#000000\" d=\"M388.7427,-361.159C429.0069,-378.6786 485.1304,-403.0987 529.2172,-422.2815\"/>\n",
       "<polygon fill=\"#000000\" stroke=\"#000000\" points=\"527.866,-425.5105 538.4321,-426.2911 530.6589,-419.0918 527.866,-425.5105\"/>\n",
       "</g>\n",
       "<!-- 5 -->\n",
       "<g id=\"node6\" class=\"node\">\n",
       "<title>5</title>\n",
       "<polygon fill=\"#e58139\" fill-opacity=\"0.850980\" stroke=\"#000000\" points=\"650.6667,-372.5 546.6667,-372.5 546.6667,-304.5 650.6667,-304.5 650.6667,-372.5\"/>\n",
       "<text text-anchor=\"start\" x=\"554.6667\" y=\"-357.3\" font-family=\"Times,serif\" font-size=\"14.00\" fill=\"#000000\">Enclosure ≤ 4.5</text>\n",
       "<text text-anchor=\"start\" x=\"563.6667\" y=\"-342.3\" font-family=\"Times,serif\" font-size=\"14.00\" fill=\"#000000\">mse = 0.369</text>\n",
       "<text text-anchor=\"start\" x=\"554.6667\" y=\"-327.3\" font-family=\"Times,serif\" font-size=\"14.00\" fill=\"#000000\">samples = 5992</text>\n",
       "<text text-anchor=\"start\" x=\"557.1667\" y=\"-312.3\" font-family=\"Times,serif\" font-size=\"14.00\" fill=\"#000000\">value = 10.472</text>\n",
       "</g>\n",
       "<!-- 1&#45;&gt;5 -->\n",
       "<g id=\"edge5\" class=\"edge\">\n",
       "<title>1&#45;&gt;5</title>\n",
       "<path fill=\"none\" stroke=\"#000000\" d=\"M388.7427,-338.5C431.1079,-338.5 491.0304,-338.5 536.016,-338.5\"/>\n",
       "<polygon fill=\"#000000\" stroke=\"#000000\" points=\"536.2412,-342.0001 546.2412,-338.5 536.2411,-335.0001 536.2412,-342.0001\"/>\n",
       "</g>\n",
       "<!-- 3 -->\n",
       "<g id=\"node4\" class=\"node\">\n",
       "<title>3</title>\n",
       "<polygon fill=\"#e58139\" fill-opacity=\"0.741176\" stroke=\"#000000\" points=\"893.1667,-550 794.1667,-550 794.1667,-497 893.1667,-497 893.1667,-550\"/>\n",
       "<text text-anchor=\"start\" x=\"808.6667\" y=\"-534.8\" font-family=\"Times,serif\" font-size=\"14.00\" fill=\"#000000\">mse = 0.285</text>\n",
       "<text text-anchor=\"start\" x=\"803.1667\" y=\"-519.8\" font-family=\"Times,serif\" font-size=\"14.00\" fill=\"#000000\">samples = 999</text>\n",
       "<text text-anchor=\"start\" x=\"802.1667\" y=\"-504.8\" font-family=\"Times,serif\" font-size=\"14.00\" fill=\"#000000\">value = 10.272</text>\n",
       "</g>\n",
       "<!-- 2&#45;&gt;3 -->\n",
       "<g id=\"edge3\" class=\"edge\">\n",
       "<title>2&#45;&gt;3</title>\n",
       "<path fill=\"none\" stroke=\"#000000\" d=\"M658.9142,-469.9595C697.0222,-481.003 746.0771,-495.219 784.0613,-506.2266\"/>\n",
       "<polygon fill=\"#000000\" stroke=\"#000000\" points=\"783.3843,-509.6744 793.9633,-509.0962 785.3327,-502.951 783.3843,-509.6744\"/>\n",
       "</g>\n",
       "<!-- 4 -->\n",
       "<g id=\"node5\" class=\"node\">\n",
       "<title>4</title>\n",
       "<polygon fill=\"#e58139\" fill-opacity=\"0.458824\" stroke=\"#000000\" points=\"895.6667,-479 791.6667,-479 791.6667,-426 895.6667,-426 895.6667,-479\"/>\n",
       "<text text-anchor=\"start\" x=\"808.6667\" y=\"-463.8\" font-family=\"Times,serif\" font-size=\"14.00\" fill=\"#000000\">mse = 0.224</text>\n",
       "<text text-anchor=\"start\" x=\"799.6667\" y=\"-448.8\" font-family=\"Times,serif\" font-size=\"14.00\" fill=\"#000000\">samples = 1294</text>\n",
       "<text text-anchor=\"start\" x=\"805.6667\" y=\"-433.8\" font-family=\"Times,serif\" font-size=\"14.00\" fill=\"#000000\">value = 9.758</text>\n",
       "</g>\n",
       "<!-- 2&#45;&gt;4 -->\n",
       "<g id=\"edge4\" class=\"edge\">\n",
       "<title>2&#45;&gt;4</title>\n",
       "<path fill=\"none\" stroke=\"#000000\" d=\"M658.9142,-452.5C696.083,-452.5 743.6658,-452.5 781.233,-452.5\"/>\n",
       "<polygon fill=\"#000000\" stroke=\"#000000\" points=\"781.5463,-456.0001 791.5463,-452.5 781.5462,-449.0001 781.5463,-456.0001\"/>\n",
       "</g>\n",
       "<!-- 6 -->\n",
       "<g id=\"node7\" class=\"node\">\n",
       "<title>6</title>\n",
       "<polygon fill=\"#e58139\" stroke=\"#000000\" points=\"895.6667,-408 791.6667,-408 791.6667,-355 895.6667,-355 895.6667,-408\"/>\n",
       "<text text-anchor=\"start\" x=\"808.6667\" y=\"-392.8\" font-family=\"Times,serif\" font-size=\"14.00\" fill=\"#000000\">mse = 0.289</text>\n",
       "<text text-anchor=\"start\" x=\"799.6667\" y=\"-377.8\" font-family=\"Times,serif\" font-size=\"14.00\" fill=\"#000000\">samples = 3211</text>\n",
       "<text text-anchor=\"start\" x=\"802.1667\" y=\"-362.8\" font-family=\"Times,serif\" font-size=\"14.00\" fill=\"#000000\">value = 10.746</text>\n",
       "</g>\n",
       "<!-- 5&#45;&gt;6 -->\n",
       "<g id=\"edge6\" class=\"edge\">\n",
       "<title>5&#45;&gt;6</title>\n",
       "<path fill=\"none\" stroke=\"#000000\" d=\"M650.9248,-347.6718C689.1437,-354.3796 741.1401,-363.5055 781.4953,-370.5883\"/>\n",
       "<polygon fill=\"#000000\" stroke=\"#000000\" points=\"781.0343,-374.0608 791.4888,-372.3423 782.2445,-367.1662 781.0343,-374.0608\"/>\n",
       "</g>\n",
       "<!-- 7 -->\n",
       "<g id=\"node8\" class=\"node\">\n",
       "<title>7</title>\n",
       "<polygon fill=\"#e58139\" fill-opacity=\"0.678431\" stroke=\"#000000\" points=\"895.6667,-337 791.6667,-337 791.6667,-284 895.6667,-284 895.6667,-337\"/>\n",
       "<text text-anchor=\"start\" x=\"808.6667\" y=\"-321.8\" font-family=\"Times,serif\" font-size=\"14.00\" fill=\"#000000\">mse = 0.275</text>\n",
       "<text text-anchor=\"start\" x=\"799.6667\" y=\"-306.8\" font-family=\"Times,serif\" font-size=\"14.00\" fill=\"#000000\">samples = 2781</text>\n",
       "<text text-anchor=\"start\" x=\"802.1667\" y=\"-291.8\" font-family=\"Times,serif\" font-size=\"14.00\" fill=\"#000000\">value = 10.157</text>\n",
       "</g>\n",
       "<!-- 5&#45;&gt;7 -->\n",
       "<g id=\"edge7\" class=\"edge\">\n",
       "<title>5&#45;&gt;7</title>\n",
       "<path fill=\"none\" stroke=\"#000000\" d=\"M650.9248,-332.5276C689.1437,-328.1598 741.1401,-322.2173 781.4953,-317.6053\"/>\n",
       "<polygon fill=\"#000000\" stroke=\"#000000\" points=\"781.951,-321.0761 791.4888,-316.4632 781.1561,-314.1214 781.951,-321.0761\"/>\n",
       "</g>\n",
       "<!-- 9 -->\n",
       "<g id=\"node10\" class=\"node\">\n",
       "<title>9</title>\n",
       "<polygon fill=\"#e58139\" fill-opacity=\"0.050980\" stroke=\"#000000\" points=\"680.1667,-245.5 517.1667,-245.5 517.1667,-177.5 680.1667,-177.5 680.1667,-245.5\"/>\n",
       "<text text-anchor=\"start\" x=\"525.1667\" y=\"-230.3\" font-family=\"Times,serif\" font-size=\"14.00\" fill=\"#000000\">fiProductClassDesc ≤ 40.5</text>\n",
       "<text text-anchor=\"start\" x=\"563.6667\" y=\"-215.3\" font-family=\"Times,serif\" font-size=\"14.00\" fill=\"#000000\">mse = 0.098</text>\n",
       "<text text-anchor=\"start\" x=\"558.1667\" y=\"-200.3\" font-family=\"Times,serif\" font-size=\"14.00\" fill=\"#000000\">samples = 303</text>\n",
       "<text text-anchor=\"start\" x=\"560.6667\" y=\"-185.3\" font-family=\"Times,serif\" font-size=\"14.00\" fill=\"#000000\">value = 9.014</text>\n",
       "</g>\n",
       "<!-- 8&#45;&gt;9 -->\n",
       "<g id=\"edge9\" class=\"edge\">\n",
       "<title>8&#45;&gt;9</title>\n",
       "<path fill=\"none\" stroke=\"#000000\" d=\"M400.7591,-211.5C432.61,-211.5 471.6743,-211.5 506.6571,-211.5\"/>\n",
       "<polygon fill=\"#000000\" stroke=\"#000000\" points=\"506.8866,-215.0001 516.8866,-211.5 506.8865,-208.0001 506.8866,-215.0001\"/>\n",
       "</g>\n",
       "<!-- 12 -->\n",
       "<g id=\"node13\" class=\"node\">\n",
       "<title>12</title>\n",
       "<polygon fill=\"#e58139\" fill-opacity=\"0.294118\" stroke=\"#000000\" points=\"685.6667,-131.5 511.6667,-131.5 511.6667,-63.5 685.6667,-63.5 685.6667,-131.5\"/>\n",
       "<text text-anchor=\"start\" x=\"519.6667\" y=\"-116.3\" font-family=\"Times,serif\" font-size=\"14.00\" fill=\"#000000\">saleElapsed ≤ 1193572864.0</text>\n",
       "<text text-anchor=\"start\" x=\"563.6667\" y=\"-101.3\" font-family=\"Times,serif\" font-size=\"14.00\" fill=\"#000000\">mse = 0.074</text>\n",
       "<text text-anchor=\"start\" x=\"554.6667\" y=\"-86.3\" font-family=\"Times,serif\" font-size=\"14.00\" fill=\"#000000\">samples = 1412</text>\n",
       "<text text-anchor=\"start\" x=\"560.6667\" y=\"-71.3\" font-family=\"Times,serif\" font-size=\"14.00\" fill=\"#000000\">value = 9.461</text>\n",
       "</g>\n",
       "<!-- 8&#45;&gt;12 -->\n",
       "<g id=\"edge12\" class=\"edge\">\n",
       "<title>8&#45;&gt;12</title>\n",
       "<path fill=\"none\" stroke=\"#000000\" d=\"M400.7591,-183.6125C433.8569,-169.2111 474.7439,-151.4206 510.746,-135.7556\"/>\n",
       "<polygon fill=\"#000000\" stroke=\"#000000\" points=\"512.4984,-138.8101 520.2716,-131.6108 509.7055,-132.3914 512.4984,-138.8101\"/>\n",
       "</g>\n",
       "<!-- 10 -->\n",
       "<g id=\"node11\" class=\"node\">\n",
       "<title>10</title>\n",
       "<polygon fill=\"transparent\" stroke=\"#000000\" points=\"892.1667,-266 795.1667,-266 795.1667,-213 892.1667,-213 892.1667,-266\"/>\n",
       "<text text-anchor=\"start\" x=\"808.6667\" y=\"-250.8\" font-family=\"Times,serif\" font-size=\"14.00\" fill=\"#000000\">mse = 0.071</text>\n",
       "<text text-anchor=\"start\" x=\"803.1667\" y=\"-235.8\" font-family=\"Times,serif\" font-size=\"14.00\" fill=\"#000000\">samples = 195</text>\n",
       "<text text-anchor=\"start\" x=\"805.6667\" y=\"-220.8\" font-family=\"Times,serif\" font-size=\"14.00\" fill=\"#000000\">value = 8.923</text>\n",
       "</g>\n",
       "<!-- 9&#45;&gt;10 -->\n",
       "<g id=\"edge10\" class=\"edge\">\n",
       "<title>9&#45;&gt;10</title>\n",
       "<path fill=\"none\" stroke=\"#000000\" d=\"M680.2481,-220.8236C714.3903,-224.7256 753.3236,-229.1751 784.6224,-232.7521\"/>\n",
       "<polygon fill=\"#000000\" stroke=\"#000000\" points=\"784.5933,-236.2715 794.9261,-233.9296 785.3882,-229.3167 784.5933,-236.2715\"/>\n",
       "</g>\n",
       "<!-- 11 -->\n",
       "<g id=\"node12\" class=\"node\">\n",
       "<title>11</title>\n",
       "<polygon fill=\"#e58139\" fill-opacity=\"0.141176\" stroke=\"#000000\" points=\"892.1667,-195 795.1667,-195 795.1667,-142 892.1667,-142 892.1667,-195\"/>\n",
       "<text text-anchor=\"start\" x=\"808.6667\" y=\"-179.8\" font-family=\"Times,serif\" font-size=\"14.00\" fill=\"#000000\">mse = 0.105</text>\n",
       "<text text-anchor=\"start\" x=\"803.1667\" y=\"-164.8\" font-family=\"Times,serif\" font-size=\"14.00\" fill=\"#000000\">samples = 108</text>\n",
       "<text text-anchor=\"start\" x=\"805.6667\" y=\"-149.8\" font-family=\"Times,serif\" font-size=\"14.00\" fill=\"#000000\">value = 9.179</text>\n",
       "</g>\n",
       "<!-- 9&#45;&gt;11 -->\n",
       "<g id=\"edge11\" class=\"edge\">\n",
       "<title>9&#45;&gt;11</title>\n",
       "<path fill=\"none\" stroke=\"#000000\" d=\"M680.2481,-197.1816C714.5387,-191.1633 753.6622,-184.2967 785.0302,-178.7913\"/>\n",
       "<polygon fill=\"#000000\" stroke=\"#000000\" points=\"785.6817,-182.2305 794.9261,-177.0545 784.4716,-175.3359 785.6817,-182.2305\"/>\n",
       "</g>\n",
       "<!-- 13 -->\n",
       "<g id=\"node14\" class=\"node\">\n",
       "<title>13</title>\n",
       "<polygon fill=\"#e58139\" fill-opacity=\"0.337255\" stroke=\"#000000\" points=\"892.1667,-124 795.1667,-124 795.1667,-71 892.1667,-71 892.1667,-124\"/>\n",
       "<text text-anchor=\"start\" x=\"808.6667\" y=\"-108.8\" font-family=\"Times,serif\" font-size=\"14.00\" fill=\"#000000\">mse = 0.059</text>\n",
       "<text text-anchor=\"start\" x=\"803.1667\" y=\"-93.8\" font-family=\"Times,serif\" font-size=\"14.00\" fill=\"#000000\">samples = 867</text>\n",
       "<text text-anchor=\"start\" x=\"805.6667\" y=\"-78.8\" font-family=\"Times,serif\" font-size=\"14.00\" fill=\"#000000\">value = 9.535</text>\n",
       "</g>\n",
       "<!-- 12&#45;&gt;13 -->\n",
       "<g id=\"edge13\" class=\"edge\">\n",
       "<title>12&#45;&gt;13</title>\n",
       "<path fill=\"none\" stroke=\"#000000\" d=\"M685.7343,-97.5C718.5842,-97.5 755.1534,-97.5 784.8236,-97.5\"/>\n",
       "<polygon fill=\"#000000\" stroke=\"#000000\" points=\"785.0132,-101.0001 795.0131,-97.5 785.0131,-94.0001 785.0132,-101.0001\"/>\n",
       "</g>\n",
       "<!-- 14 -->\n",
       "<g id=\"node15\" class=\"node\">\n",
       "<title>14</title>\n",
       "<polygon fill=\"#e58139\" fill-opacity=\"0.231373\" stroke=\"#000000\" points=\"892.1667,-53 795.1667,-53 795.1667,0 892.1667,0 892.1667,-53\"/>\n",
       "<text text-anchor=\"start\" x=\"808.6667\" y=\"-37.8\" font-family=\"Times,serif\" font-size=\"14.00\" fill=\"#000000\">mse = 0.075</text>\n",
       "<text text-anchor=\"start\" x=\"803.1667\" y=\"-22.8\" font-family=\"Times,serif\" font-size=\"14.00\" fill=\"#000000\">samples = 545</text>\n",
       "<text text-anchor=\"start\" x=\"805.6667\" y=\"-7.8\" font-family=\"Times,serif\" font-size=\"14.00\" fill=\"#000000\">value = 9.342</text>\n",
       "</g>\n",
       "<!-- 12&#45;&gt;14 -->\n",
       "<g id=\"edge14\" class=\"edge\">\n",
       "<title>12&#45;&gt;14</title>\n",
       "<path fill=\"none\" stroke=\"#000000\" d=\"M685.7343,-72.2681C718.7276,-62.7068 755.4728,-52.0582 785.2119,-43.44\"/>\n",
       "<polygon fill=\"#000000\" stroke=\"#000000\" points=\"786.3826,-46.7448 795.0131,-40.5996 784.4341,-40.0214 786.3826,-46.7448\"/>\n",
       "</g>\n",
       "</g>\n",
       "</svg>\n"
      ],
      "text/plain": [
       "<graphviz.files.Source at 0x7f28e8875208>"
      ]
     },
     "metadata": {},
     "output_type": "display_data"
    }
   ],
   "source": [
    "draw_tree(clf4.estimators_[0], df_trn, precision=3)"
   ]
  },
  {
   "cell_type": "code",
   "execution_count": 23,
   "metadata": {},
   "outputs": [
    {
     "data": {
      "text/plain": [
       "\u001b[0;31mSignature:\u001b[0m \u001b[0mdraw_tree\u001b[0m\u001b[0;34m(\u001b[0m\u001b[0mt\u001b[0m\u001b[0;34m,\u001b[0m \u001b[0mdf\u001b[0m\u001b[0;34m,\u001b[0m \u001b[0msize\u001b[0m\u001b[0;34m=\u001b[0m\u001b[0;36m10\u001b[0m\u001b[0;34m,\u001b[0m \u001b[0mratio\u001b[0m\u001b[0;34m=\u001b[0m\u001b[0;36m0.6\u001b[0m\u001b[0;34m,\u001b[0m \u001b[0mprecision\u001b[0m\u001b[0;34m=\u001b[0m\u001b[0;36m0\u001b[0m\u001b[0;34m)\u001b[0m\u001b[0;34m\u001b[0m\u001b[0m\n",
       "\u001b[0;31mSource:\u001b[0m   \n",
       "\u001b[0;32mdef\u001b[0m \u001b[0mdraw_tree\u001b[0m\u001b[0;34m(\u001b[0m\u001b[0mt\u001b[0m\u001b[0;34m,\u001b[0m \u001b[0mdf\u001b[0m\u001b[0;34m,\u001b[0m \u001b[0msize\u001b[0m\u001b[0;34m=\u001b[0m\u001b[0;36m10\u001b[0m\u001b[0;34m,\u001b[0m \u001b[0mratio\u001b[0m\u001b[0;34m=\u001b[0m\u001b[0;36m0.6\u001b[0m\u001b[0;34m,\u001b[0m \u001b[0mprecision\u001b[0m\u001b[0;34m=\u001b[0m\u001b[0;36m0\u001b[0m\u001b[0;34m)\u001b[0m\u001b[0;34m:\u001b[0m\u001b[0;34m\u001b[0m\n",
       "\u001b[0;34m\u001b[0m    \u001b[0;34m\"\"\" Draws a representation of a random forest in IPython.\u001b[0m\n",
       "\u001b[0;34m\u001b[0m\n",
       "\u001b[0;34m    Parameters:\u001b[0m\n",
       "\u001b[0;34m    -----------\u001b[0m\n",
       "\u001b[0;34m    t: The tree you wish to draw\u001b[0m\n",
       "\u001b[0;34m    df: The data used to train the tree. This is used to get the names of the features.\u001b[0m\n",
       "\u001b[0;34m    \"\"\"\u001b[0m\u001b[0;34m\u001b[0m\n",
       "\u001b[0;34m\u001b[0m    \u001b[0ms\u001b[0m\u001b[0;34m=\u001b[0m\u001b[0mexport_graphviz\u001b[0m\u001b[0;34m(\u001b[0m\u001b[0mt\u001b[0m\u001b[0;34m,\u001b[0m \u001b[0mout_file\u001b[0m\u001b[0;34m=\u001b[0m\u001b[0;32mNone\u001b[0m\u001b[0;34m,\u001b[0m \u001b[0mfeature_names\u001b[0m\u001b[0;34m=\u001b[0m\u001b[0mdf\u001b[0m\u001b[0;34m.\u001b[0m\u001b[0mcolumns\u001b[0m\u001b[0;34m,\u001b[0m \u001b[0mfilled\u001b[0m\u001b[0;34m=\u001b[0m\u001b[0;32mTrue\u001b[0m\u001b[0;34m,\u001b[0m\u001b[0;34m\u001b[0m\n",
       "\u001b[0;34m\u001b[0m                      \u001b[0mspecial_characters\u001b[0m\u001b[0;34m=\u001b[0m\u001b[0;32mTrue\u001b[0m\u001b[0;34m,\u001b[0m \u001b[0mrotate\u001b[0m\u001b[0;34m=\u001b[0m\u001b[0;32mTrue\u001b[0m\u001b[0;34m,\u001b[0m \u001b[0mprecision\u001b[0m\u001b[0;34m=\u001b[0m\u001b[0mprecision\u001b[0m\u001b[0;34m)\u001b[0m\u001b[0;34m\u001b[0m\n",
       "\u001b[0;34m\u001b[0m    \u001b[0mIPython\u001b[0m\u001b[0;34m.\u001b[0m\u001b[0mdisplay\u001b[0m\u001b[0;34m.\u001b[0m\u001b[0mdisplay\u001b[0m\u001b[0;34m(\u001b[0m\u001b[0mgraphviz\u001b[0m\u001b[0;34m.\u001b[0m\u001b[0mSource\u001b[0m\u001b[0;34m(\u001b[0m\u001b[0mre\u001b[0m\u001b[0;34m.\u001b[0m\u001b[0msub\u001b[0m\u001b[0;34m(\u001b[0m\u001b[0;34m'Tree {'\u001b[0m\u001b[0;34m,\u001b[0m\u001b[0;34m\u001b[0m\n",
       "\u001b[0;34m\u001b[0m       \u001b[0;34mf'Tree {{ size={size}; ratio={ratio}'\u001b[0m\u001b[0;34m,\u001b[0m \u001b[0ms\u001b[0m\u001b[0;34m)\u001b[0m\u001b[0;34m)\u001b[0m\u001b[0;34m)\u001b[0m\u001b[0;34m\u001b[0m\u001b[0m\n",
       "\u001b[0;31mFile:\u001b[0m      ~/anaconda/envs/gpu/lib/python3.6/site-packages/fastai/structured.py\n",
       "\u001b[0;31mType:\u001b[0m      function\n"
      ]
     },
     "metadata": {},
     "output_type": "display_data"
    }
   ],
   "source": [
    "??draw_tree"
   ]
  },
  {
   "cell_type": "markdown",
   "metadata": {},
   "source": [
    "#### Let's see what happen if we create bigger tree"
   ]
  },
  {
   "cell_type": "code",
   "execution_count": 24,
   "metadata": {},
   "outputs": [
    {
     "name": "stdout",
     "output_type": "stream",
     "text": [
      "CPU times: user 194 ms, sys: 3.93 ms, total: 198 ms\n",
      "Wall time: 244 ms\n",
      "training rmse, validation rmse, training score, validation score and/or oob_score\n",
      "[9.729507111180988e-17, 0.47453706286422614, 1.0, 0.5924829107239453]\n"
     ]
    }
   ],
   "source": [
    "clf5 = RandomForestRegressor(n_jobs=-1, n_estimators=1, bootstrap=False)\n",
    "%time clf5.fit(X_trn, y_trn)\n",
    "myutils.print_score(clf5, X_trn, y_trn, X_test.drop('auctioneerID_na', axis=1), y_test)"
   ]
  },
  {
   "cell_type": "markdown",
   "metadata": {},
   "source": [
    "### Bagging  \n",
    "n_estimators = no of trees created by sklearn, default is 10."
   ]
  },
  {
   "cell_type": "code",
   "execution_count": 29,
   "metadata": {},
   "outputs": [
    {
     "name": "stdout",
     "output_type": "stream",
     "text": [
      "CPU times: user 3.45 s, sys: 3.98 ms, total: 3.46 s\n",
      "Wall time: 1.09 s\n",
      "training rmse, validation rmse, training score, validation score and/or oob_score\n",
      "[0.10397557653477098, 0.3340223881008198, 0.978145166243663, 0.7980905232586694]\n"
     ]
    }
   ],
   "source": [
    "clf = RandomForestRegressor(n_jobs=-1)\n",
    "%time clf.fit(X_trn, y_trn)\n",
    "myutils.print_score(clf, X_trn, y_trn, X_test.drop('auctioneerID_na', axis=1), y_test)"
   ]
  },
  {
   "cell_type": "markdown",
   "metadata": {},
   "source": [
    "Grabbing each tree"
   ]
  },
  {
   "cell_type": "code",
   "execution_count": 35,
   "metadata": {},
   "outputs": [
    {
     "data": {
      "text/plain": [
       "(10, 14000)"
      ]
     },
     "execution_count": 35,
     "metadata": {},
     "output_type": "execute_result"
    }
   ],
   "source": [
    "preds = np.stack([t.predict(X_test.drop('auctioneerID_na', axis=1)) for t in clf.estimators_])\n",
    "preds.shape"
   ]
  },
  {
   "cell_type": "code",
   "execution_count": 39,
   "metadata": {},
   "outputs": [
    {
     "data": {
      "text/plain": [
       "array([11.07442, 10.98529, 11.17044, 10.9682 , 11.3621 , 11.08214, 11.17044, 10.859  , 11.3621 , 11.26446])"
      ]
     },
     "execution_count": 39,
     "metadata": {},
     "output_type": "execute_result"
    }
   ],
   "source": [
    "preds[:, 0]"
   ]
  },
  {
   "cell_type": "code",
   "execution_count": 38,
   "metadata": {},
   "outputs": [
    {
     "data": {
      "text/plain": [
       "11.129859262983155"
      ]
     },
     "execution_count": 38,
     "metadata": {},
     "output_type": "execute_result"
    }
   ],
   "source": [
    "np.mean(preds[:, 0], axis=0)"
   ]
  },
  {
   "cell_type": "code",
   "execution_count": 40,
   "metadata": {},
   "outputs": [
    {
     "data": {
      "text/plain": [
       "11.302204433654575"
      ]
     },
     "execution_count": 40,
     "metadata": {},
     "output_type": "execute_result"
    }
   ],
   "source": [
    "y_test[0]"
   ]
  },
  {
   "cell_type": "code",
   "execution_count": 52,
   "metadata": {},
   "outputs": [
    {
     "data": {
      "text/plain": [
       "[<matplotlib.lines.Line2D at 0x7f28e0e8fef0>]"
      ]
     },
     "execution_count": 52,
     "metadata": {},
     "output_type": "execute_result"
    },
    {
     "data": {
      "image/png": "[encoded data removed]",
      "text/plain": [
       "<Figure size 432x288 with 1 Axes>"
      ]
     },
     "metadata": {},
     "output_type": "display_data"
    }
   ],
   "source": [
    "plt.plot([metrics.r2_score(y_test, np.mean(preds[:i+1, :], axis=0)) for i in range(10)])"
   ]
  },
  {
   "cell_type": "markdown",
   "metadata": {},
   "source": [
    "#### What if we increase the estimators"
   ]
  },
  {
   "cell_type": "code",
   "execution_count": 53,
   "metadata": {},
   "outputs": [
    {
     "name": "stdout",
     "output_type": "stream",
     "text": [
      "CPU times: user 7.44 s, sys: 19.2 ms, total: 7.46 s\n",
      "Wall time: 2.1 s\n",
      "training rmse, validation rmse, training score, validation score and/or oob_score\n",
      "[0.09432671324844437, 0.3302315618612052, 0.9820131862788136, 0.8026474660204654]\n"
     ]
    }
   ],
   "source": [
    "clf = RandomForestRegressor(n_jobs=-1, n_estimators=20)\n",
    "%time clf.fit(X_trn, y_trn)\n",
    "myutils.print_score(clf, X_trn, y_trn, X_test.drop('auctioneerID_na', axis=1), y_test)"
   ]
  },
  {
   "cell_type": "code",
   "execution_count": 54,
   "metadata": {},
   "outputs": [
    {
     "name": "stdout",
     "output_type": "stream",
     "text": [
      "CPU times: user 14.7 s, sys: 218 ms, total: 14.9 s\n",
      "Wall time: 4.42 s\n",
      "training rmse, validation rmse, training score, validation score and/or oob_score\n",
      "[0.08966885472046672, 0.3230827341928455, 0.9837457072037205, 0.8110995254006317]\n"
     ]
    }
   ],
   "source": [
    "clf = RandomForestRegressor(n_jobs=-1, n_estimators=40)\n",
    "%time clf.fit(X_trn, y_trn)\n",
    "myutils.print_score(clf, X_trn, y_trn, X_test.drop('auctioneerID_na', axis=1), y_test)"
   ]
  },
  {
   "cell_type": "markdown",
   "metadata": {},
   "source": [
    "### OOB Validation and Score"
   ]
  },
  {
   "cell_type": "code",
   "execution_count": 56,
   "metadata": {},
   "outputs": [
    {
     "name": "stdout",
     "output_type": "stream",
     "text": [
      "CPU times: user 15.1 s, sys: 23.6 ms, total: 15.1 s\n",
      "Wall time: 4.19 s\n",
      "training rmse, validation rmse, training score, validation score and/or oob_score\n",
      "[0.08917457287176132, 0.32273507790362826, 0.9839244104656788, 0.8115058430236685, 0.8837785131220879]\n"
     ]
    }
   ],
   "source": [
    "clf = RandomForestRegressor(n_jobs=-1, n_estimators=40, oob_score=True)\n",
    "%time clf.fit(X_trn, y_trn)\n",
    "myutils.print_score(clf, X_trn, y_trn, X_test.drop('auctioneerID_na', axis=1), y_test)"
   ]
  },
  {
   "cell_type": "markdown",
   "metadata": {},
   "source": [
    "### Sampling the data from whole dataset for each estimator tree"
   ]
  },
  {
   "cell_type": "raw",
   "metadata": {},
   "source": [
    "df_trn, y_trn, _ = proc_df(df_raw, 'SalePrice')\n",
    "X_trn, X_vld, y_trn, y_vld = myutils.split_vals_no(df_trn, y_trn, 10000)"
   ]
  },
  {
   "cell_type": "code",
   "execution_count": 59,
   "metadata": {},
   "outputs": [],
   "source": [
    "set_rf_samples(20000)  # written in fastai.structure source code\n",
    "# reset_rf_samples()   # resetting the setting"
   ]
  },
  {
   "cell_type": "code",
   "execution_count": 60,
   "metadata": {},
   "outputs": [
    {
     "name": "stdout",
     "output_type": "stream",
     "text": [
      "CPU times: user 33.6 s, sys: 1.05 s, total: 34.6 s\n",
      "Wall time: 13.6 s\n",
      "training rmse, validation rmse, training score, validation score and/or oob_score\n",
      "[0.22721361933661924, 0.26434145282799687, 0.8924109203714102, 0.8679605720768679, 0.8809702095879127]\n"
     ]
    }
   ],
   "source": [
    "clf = RandomForestRegressor(n_jobs=-1, n_estimators=40, oob_score=True)\n",
    "%time clf.fit(X_trn, y_trn)\n",
    "myutils.print_score(clf, X_trn, y_trn, X_vld, y_vld)"
   ]
  },
  {
   "cell_type": "code",
   "execution_count": 61,
   "metadata": {},
   "outputs": [],
   "source": [
    "reset_rf_samples()"
   ]
  },
  {
   "cell_type": "markdown",
   "metadata": {},
   "source": [
    "### Baseline model"
   ]
  },
  {
   "cell_type": "code",
   "execution_count": 62,
   "metadata": {},
   "outputs": [
    {
     "name": "stdout",
     "output_type": "stream",
     "text": [
      "CPU times: user 6min 32s, sys: 1.41 s, total: 6min 33s\n",
      "Wall time: 1min 46s\n",
      "training rmse, validation rmse, training score, validation score and/or oob_score\n",
      "[0.07845117165982682, 0.23590862940114493, 0.9871737901501871, 0.8948375383045322, 0.9085396915671635]\n"
     ]
    }
   ],
   "source": [
    "clf = RandomForestRegressor(n_jobs=-1, n_estimators=40, oob_score=True)\n",
    "%time clf.fit(X_trn, y_trn)\n",
    "myutils.print_score(clf, X_trn, y_trn, X_vld, y_vld)"
   ]
  },
  {
   "cell_type": "code",
   "execution_count": 63,
   "metadata": {},
   "outputs": [
    {
     "name": "stdout",
     "output_type": "stream",
     "text": [
      "CPU times: user 5min 23s, sys: 1.12 s, total: 5min 25s\n",
      "Wall time: 1min 29s\n",
      "training rmse, validation rmse, training score, validation score and/or oob_score\n",
      "[0.11503581312021541, 0.23263470443124137, 0.9724218197295229, 0.8977361602406334, 0.9087724727008559]\n"
     ]
    }
   ],
   "source": [
    "clf = RandomForestRegressor(n_jobs=-1, n_estimators=40, min_samples_leaf=3, oob_score=True)\n",
    "%time clf.fit(X_trn, y_trn)\n",
    "myutils.print_score(clf, X_trn, y_trn, X_vld, y_vld)"
   ]
  },
  {
   "cell_type": "code",
   "execution_count": 64,
   "metadata": {},
   "outputs": [
    {
     "name": "stdout",
     "output_type": "stream",
     "text": [
      "CPU times: user 2min 50s, sys: 922 ms, total: 2min 51s\n",
      "Wall time: 50.4 s\n",
      "training rmse, validation rmse, training score, validation score and/or oob_score\n",
      "[0.11914486306226807, 0.22652251332877205, 0.9704164615749635, 0.903039279927403, 0.9120598731073165]\n"
     ]
    }
   ],
   "source": [
    "clf = RandomForestRegressor(n_jobs=-1, n_estimators=40, min_samples_leaf=3, max_features=0.5, oob_score=True)\n",
    "%time clf.fit(X_trn, y_trn)\n",
    "myutils.print_score(clf, X_trn, y_trn, X_vld, y_vld)"
   ]
  },
  {
   "cell_type": "code",
   "execution_count": null,
   "metadata": {},
   "outputs": [],
   "source": []
  }
 ],
 "metadata": {
  "kernelspec": {
   "display_name": "Python 3",
   "language": "python",
   "name": "python3"
  },
  "language_info": {
   "codemirror_mode": {
    "name": "ipython",
    "version": 3
   },
   "file_extension": ".py",
   "mimetype": "text/x-python",
   "name": "python",
   "nbconvert_exporter": "python",
   "pygments_lexer": "ipython3",
   "version": "3.6.4"
  }
 },
 "nbformat": 4,
 "nbformat_minor": 2
}
