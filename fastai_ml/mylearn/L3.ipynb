{
 "cells": [
  {
   "cell_type": "code",
   "execution_count": 1,
   "metadata": {},
   "outputs": [],
   "source": [
    "# import \n",
    "import sys; \n",
    "if '../../modules/' not in sys.path: sys.path.append('../../modules/')\n",
    "import myutils\n",
    "import numpy as np\n",
    "import pandas as pd\n",
    "import matplotlib.pyplot as plt\n",
    "\n",
    "\n",
    "%matplotlib inline\n",
    "\n",
    "# fast.ai import\n",
    "from fastai.imports import *\n",
    "from fastai.structured import *\n",
    "\n",
    "from sklearn.ensemble import RandomForestRegressor"
   ]
  },
  {
   "cell_type": "code",
   "execution_count": 2,
   "metadata": {},
   "outputs": [],
   "source": [
    "path = '../../../datasets/grocery/'"
   ]
  },
  {
   "cell_type": "code",
   "execution_count": 3,
   "metadata": {},
   "outputs": [
    {
     "name": "stdout",
     "output_type": "stream",
     "text": [
      "id,date,store_nbr,item_nbr,unit_sales,onpromotion\n",
      "0,2013-01-01,25,103665,7.0,\n",
      "1,2013-01-01,25,105574,1.0,\n"
     ]
    }
   ],
   "source": [
    "!head -3 {path}train.csv"
   ]
  },
  {
   "cell_type": "code",
   "execution_count": 4,
   "metadata": {},
   "outputs": [
    {
     "name": "stdout",
     "output_type": "stream",
     "text": [
      "holidays_events.csv  sample_submission.csv.7z  train.csv      transactions.csv\n",
      "items.csv\t     stores.csv\t\t       Train.feather\n",
      "oil.csv\t\t     test.csv\t\t       Train.pickle\n"
     ]
    }
   ],
   "source": [
    "!ls {path}"
   ]
  },
  {
   "cell_type": "code",
   "execution_count": 5,
   "metadata": {},
   "outputs": [
    {
     "name": "stdout",
     "output_type": "stream",
     "text": [
      "==> ../../../datasets/grocery/items.csv <==\n",
      "item_nbr,family,class,perishable\n",
      "96995,GROCERY I,1093,0\n",
      "99197,GROCERY I,1067,0\n",
      "103501,CLEANING,3008,0\n",
      "103520,GROCERY I,1028,0\n",
      "103665,BREAD/BAKERY,2712,1\n",
      "\n",
      "==> ../../../datasets/grocery/stores.csv <==\n",
      "store_nbr,city,state,type,cluster\n",
      "1,Quito,Pichincha,D,13\n",
      "2,Quito,Pichincha,D,13\n",
      "3,Quito,Pichincha,D,8\n",
      "4,Quito,Pichincha,D,9\n",
      "5,Santo Domingo,Santo Domingo de los Tsachilas,D,4\n",
      "\n",
      "==> ../../../datasets/grocery/transactions.csv <==\n",
      "date,store_nbr,transactions\n",
      "2013-01-01,25,770\n",
      "2013-01-02,1,2111\n",
      "2013-01-02,2,2358\n",
      "2013-01-02,3,3487\n",
      "2013-01-02,4,1922\n",
      "\n",
      "==> ../../../datasets/grocery/oil.csv <==\n",
      "date,dcoilwtico\n",
      "2013-01-01,\n",
      "2013-01-02,93.14\n",
      "2013-01-03,92.97\n",
      "2013-01-04,93.12\n",
      "2013-01-07,93.2\n",
      "\n",
      "==> ../../../datasets/grocery/holidays_events.csv <==\n",
      "date,type,locale,locale_name,description,transferred\n",
      "2012-03-02,Holiday,Local,Manta,Fundacion de Manta,False\n",
      "2012-04-01,Holiday,Regional,Cotopaxi,Provincializacion de Cotopaxi,False\n",
      "2012-04-12,Holiday,Local,Cuenca,Fundacion de Cuenca,False\n",
      "2012-04-14,Holiday,Local,Libertad,Cantonizacion de Libertad,False\n",
      "2012-04-21,Holiday,Local,Riobamba,Cantonizacion de Riobamba,False\n"
     ]
    }
   ],
   "source": [
    "!head -6 {path}items.csv {path}stores.csv {path}transactions.csv {path}oil.csv {path}holidays_events.csv"
   ]
  },
  {
   "cell_type": "code",
   "execution_count": 6,
   "metadata": {},
   "outputs": [],
   "source": [
    "#%%time\n",
    "#df_all = pd.read_csv(f'{path}train.csv', date_parser=['date']) "
   ]
  },
  {
   "cell_type": "markdown",
   "metadata": {},
   "source": [
    "    <string>:2: DtypeWarning: Columns (5) have mixed types. Specify dtype option on import or set low_memory=False.\n",
    "\n",
    "    CPU times: user 56.1 s, sys: 7.8 s, total: 1min 3s\n",
    "    Wall time: 7min 15s"
   ]
  },
  {
   "cell_type": "markdown",
   "metadata": {},
   "source": [
    "**To make this fast, better if can define the data type of columns at first hand, so that python have to doo less work**"
   ]
  },
  {
   "cell_type": "code",
   "execution_count": 7,
   "metadata": {},
   "outputs": [],
   "source": [
    "types= {'id':'int64','store_nbr':'int8','item_nbr':'int32','unit_sales':'float32','onpromotion':'object'}"
   ]
  },
  {
   "cell_type": "code",
   "execution_count": 11,
   "metadata": {},
   "outputs": [
    {
     "name": "stdout",
     "output_type": "stream",
     "text": [
      "CPU times: user 1min 55s, sys: 1min 32s, total: 3min 28s\n",
      "Wall time: 34min 52s\n"
     ]
    }
   ],
   "source": [
    "# %%time\n",
    "# df_all = pd.read_csv(f'{path}train.csv', date_parser=['date'], dtype=types, low_memory=False, infer_datetime_format=True) "
   ]
  },
  {
   "cell_type": "code",
   "execution_count": 20,
   "metadata": {},
   "outputs": [
    {
     "name": "stdout",
     "output_type": "stream",
     "text": [
      "CPU times: user 2min 53s, sys: 1min 40s, total: 4min 33s\n",
      "Wall time: 1h 33min 46s\n"
     ]
    }
   ],
   "source": [
    "# %%time\n",
    "# df_train = pd.read_csv(f'{path}train.csv', parse_dates=['date'], dtype=types, low_memory=False, infer_datetime_format=True) "
   ]
  },
  {
   "cell_type": "code",
   "execution_count": 17,
   "metadata": {},
   "outputs": [],
   "source": [
    "# pd.to_pickle(df_all, f'{path}Train.pickle')  #took less space"
   ]
  },
  {
   "cell_type": "code",
   "execution_count": 18,
   "metadata": {},
   "outputs": [],
   "source": [
    "# df_all.to_feather(f'{path}Train.feather')  # not better compared with pickle"
   ]
  },
  {
   "cell_type": "code",
   "execution_count": 9,
   "metadata": {},
   "outputs": [],
   "source": [
    "df_all = pd.read_pickle(f'{path}Train.pickle')"
   ]
  },
  {
   "cell_type": "code",
   "execution_count": null,
   "metadata": {},
   "outputs": [],
   "source": []
  }
 ],
 "metadata": {
  "kernelspec": {
   "display_name": "Python 3",
   "language": "python",
   "name": "python3"
  },
  "language_info": {
   "codemirror_mode": {
    "name": "ipython",
    "version": 3
   },
   "file_extension": ".py",
   "mimetype": "text/x-python",
   "name": "python",
   "nbconvert_exporter": "python",
   "pygments_lexer": "ipython3",
   "version": "3.6.4"
  }
 },
 "nbformat": 4,
 "nbformat_minor": 2
}
