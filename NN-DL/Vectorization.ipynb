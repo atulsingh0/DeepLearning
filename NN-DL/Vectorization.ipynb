{
 "cells": [
  {
   "cell_type": "code",
   "execution_count": 1,
   "metadata": {},
   "outputs": [],
   "source": [
    "# import\n",
    "import random\n",
    "import numpy as np\n",
    "import time\n",
    "import math"
   ]
  },
  {
   "cell_type": "code",
   "execution_count": 2,
   "metadata": {},
   "outputs": [
    {
     "name": "stdout",
     "output_type": "stream",
     "text": [
      "249887.808476\n",
      "Numpy method time:  2.0003318786621094  ms\n",
      "249887.808476\n",
      "For loop method time:  655.0066471099854  ms\n"
     ]
    }
   ],
   "source": [
    "a = np.random.rand(1000000)\n",
    "b = np.random.rand(1000000)\n",
    "\n",
    "tic = time.time()\n",
    "c = np.dot(a,b)\n",
    "toc = time.time()\n",
    "print(c)\n",
    "print(\"Numpy method time: \",str((toc-tic)*1000),\" ms\")\n",
    "\n",
    "\n",
    "c = 0\n",
    "tic = time.time()\n",
    "for i in range(1000000):\n",
    "    c += a[i]*b[i]   # mutiply and sum\n",
    "toc = time.time()\n",
    "print(c)\n",
    "print(\"For loop method time: \",str((toc-tic)*1000),\" ms\")"
   ]
  },
  {
   "cell_type": "markdown",
   "metadata": {},
   "source": [
    "** Avoid For loops to do the calculations, Use Vectorization to do the task **"
   ]
  },
  {
   "cell_type": "code",
   "execution_count": 4,
   "metadata": {},
   "outputs": [
    {
     "name": "stdout",
     "output_type": "stream",
     "text": [
      "Numpy method time:  14.000654220581055  ms\n",
      "For loop method time:  718.0147171020508  ms\n"
     ]
    }
   ],
   "source": [
    "tic = time.time()\n",
    "c = np.exp(a)\n",
    "toc = time.time()\n",
    "#print(c)\n",
    "print(\"Numpy method time: \",str((toc-tic)*1000),\" ms\")\n",
    "\n",
    "\n",
    "c = np.zeros((1000000, 1))  # creating zero array\n",
    "tic = time.time()\n",
    "for i in range(1000000):\n",
    "    c[i] = math.exp(a[i])   # looping and calculation exp of value\n",
    "toc = time.time()\n",
    "#print(c)\n",
    "print(\"For loop method time: \",str((toc-tic)*1000),\" ms\")"
   ]
  },
  {
   "cell_type": "code",
   "execution_count": null,
   "metadata": {},
   "outputs": [],
   "source": []
  }
 ],
 "metadata": {
  "kernelspec": {
   "display_name": "Python 3",
   "language": "python",
   "name": "python3"
  },
  "language_info": {
   "codemirror_mode": {
    "name": "ipython",
    "version": 3
   },
   "file_extension": ".py",
   "mimetype": "text/x-python",
   "name": "python",
   "nbconvert_exporter": "python",
   "pygments_lexer": "ipython3",
   "version": "3.5.4"
  }
 },
 "nbformat": 4,
 "nbformat_minor": 2
}
