{
 "cells": [
  {
   "cell_type": "code",
   "execution_count": 1,
   "metadata": {},
   "outputs": [],
   "source": [
    "# import\n",
    "import random\n",
    "import numpy as np\n",
    "import time\n",
    "import math"
   ]
  },
  {
   "cell_type": "code",
   "execution_count": 4,
   "metadata": {},
   "outputs": [
    {
     "name": "stdout",
     "output_type": "stream",
     "text": [
      "250031.724836\n",
      "Numpy method time:  29.002904891967773  ms\n",
      "250031.724836\n",
      "For loop method time:  629.0628910064697  ms\n"
     ]
    }
   ],
   "source": [
    "a = np.random.rand(1000000)\n",
    "b = np.random.rand(1000000)\n",
    "\n",
    "tic = time.time()\n",
    "c = np.dot(a,b)\n",
    "toc = time.time()\n",
    "print(c)\n",
    "print(\"Numpy method time: \",str((toc-tic)*1000),\" ms\")\n",
    "\n",
    "\n",
    "c = 0\n",
    "tic = time.time()\n",
    "for i in range(1000000):\n",
    "    c += a[i]*b[i]   # mutiply and sum\n",
    "toc = time.time()\n",
    "print(c)\n",
    "print(\"For loop method time: \",str((toc-tic)*1000),\" ms\")"
   ]
  },
  {
   "cell_type": "markdown",
   "metadata": {},
   "source": [
    "** Avoid For loops to do the calculations, Use Vectorization to do the task **"
   ]
  },
  {
   "cell_type": "code",
   "execution_count": 4,
   "metadata": {},
   "outputs": [
    {
     "name": "stdout",
     "output_type": "stream",
     "text": [
      "Numpy method time:  14.000654220581055  ms\n",
      "For loop method time:  718.0147171020508  ms\n"
     ]
    }
   ],
   "source": [
    "tic = time.time()\n",
    "c = np.exp(a)\n",
    "toc = time.time()\n",
    "#print(c)\n",
    "print(\"Numpy method time: \",str((toc-tic)*1000),\" ms\")\n",
    "\n",
    "\n",
    "c = np.zeros((1000000, 1))  # creating zero array\n",
    "tic = time.time()\n",
    "for i in range(1000000):\n",
    "    c[i] = math.exp(a[i])   # looping and calculation exp of value\n",
    "toc = time.time()\n",
    "#print(c)\n",
    "print(\"For loop method time: \",str((toc-tic)*1000),\" ms\")"
   ]
  },
  {
   "cell_type": "markdown",
   "metadata": {},
   "source": [
    "## Numpy Vector Operations"
   ]
  },
  {
   "cell_type": "code",
   "execution_count": 17,
   "metadata": {},
   "outputs": [],
   "source": [
    "a = np.random.rand(2,3)\n",
    "b = np.random.rand(3,4)\n",
    "c = np.arange(10)\n",
    "d = np.random.randint(0,100,10)"
   ]
  },
  {
   "cell_type": "code",
   "execution_count": 18,
   "metadata": {},
   "outputs": [
    {
     "name": "stdout",
     "output_type": "stream",
     "text": [
      "[0 1 2 3 4 5 6 7 8 9]\n",
      "[73 32 27  4 41 39 78 90 28 26]\n"
     ]
    },
    {
     "data": {
      "text/plain": [
       "array([  0,  32,  54,  12, 164, 195, 468, 630, 224, 234])"
      ]
     },
     "execution_count": 18,
     "metadata": {},
     "output_type": "execute_result"
    }
   ],
   "source": [
    "print(c)\n",
    "print(d)\n",
    "c*d  # element wise multiplication"
   ]
  },
  {
   "cell_type": "code",
   "execution_count": 31,
   "metadata": {},
   "outputs": [
    {
     "name": "stdout",
     "output_type": "stream",
     "text": [
      "[[ 0.40480442  0.2598269   0.6294821 ]\n",
      " [ 0.03087543  0.9489524   0.99572218]]\n",
      "[[ 0.97858683  0.66214331  0.15410432  0.83003073]\n",
      " [ 0.77624917  0.41628082  0.1283637   0.63154429]\n",
      " [ 0.17809376  0.45958262  0.15700918  0.54641448]]\n",
      "[[ 0.70993353  0.66549853  0.19456892  0.84405044]\n",
      " [ 0.94416971  0.87309125  0.28290659  1.16901004]]\n"
     ]
    }
   ],
   "source": [
    "e=np.dot(a,b)  # matrix multiplication\n",
    "print(a)\n",
    "print(b)\n",
    "print(e)"
   ]
  },
  {
   "cell_type": "code",
   "execution_count": 32,
   "metadata": {},
   "outputs": [
    {
     "name": "stdout",
     "output_type": "stream",
     "text": [
      "2013\n",
      "2013\n",
      "(10,)\n",
      "(10,)\n"
     ]
    }
   ],
   "source": [
    "print(np.dot(d.T,c))\n",
    "print(np.dot(c,d.T))\n",
    "print(c.shape)\n",
    "print((d.T).shape)"
   ]
  },
  {
   "cell_type": "code",
   "execution_count": 2,
   "metadata": {},
   "outputs": [
    {
     "name": "stdout",
     "output_type": "stream",
     "text": [
      "Hi Kanika\n"
     ]
    }
   ],
   "source": [
    "print('Hi Kanika')"
   ]
  },
  {
   "cell_type": "code",
   "execution_count": 3,
   "metadata": {},
   "outputs": [
    {
     "name": "stdout",
     "output_type": "stream",
     "text": [
      "0\n",
      "1\n",
      "4\n"
     ]
    }
   ],
   "source": [
    "for i in range(3):\n",
    "    print(i*i)"
   ]
  },
  {
   "cell_type": "code",
   "execution_count": null,
   "metadata": {},
   "outputs": [],
   "source": []
  }
 ],
 "metadata": {
  "kernelspec": {
   "display_name": "Python 3",
   "language": "python",
   "name": "python3"
  },
  "language_info": {
   "codemirror_mode": {
    "name": "ipython",
    "version": 3
   },
   "file_extension": ".py",
   "mimetype": "text/x-python",
   "name": "python",
   "nbconvert_exporter": "python",
   "pygments_lexer": "ipython3",
   "version": "3.5.4"
  }
 },
 "nbformat": 4,
 "nbformat_minor": 2
}
