{
 "cells": [
  {
   "cell_type": "code",
   "execution_count": 4,
   "metadata": {},
   "outputs": [],
   "source": [
    "# import\n",
    "import random\n",
    "import numpy as np\n",
    "import time\n",
    "import math"
   ]
  },
  {
   "cell_type": "code",
   "execution_count": 5,
   "metadata": {},
   "outputs": [
    {
     "name": "stdout",
     "output_type": "stream",
     "text": [
      "250330.285491\n",
      "Numpy method time:  2.000093460083008  ms\n",
      "250330.285491\n",
      "For loop method time:  793.9999103546143  ms\n"
     ]
    }
   ],
   "source": [
    "a = np.random.rand(1000000)\n",
    "b = np.random.rand(1000000)\n",
    "\n",
    "tic = time.time()\n",
    "c = np.dot(a,b)\n",
    "toc = time.time()\n",
    "print(c)\n",
    "print(\"Numpy method time: \",str((toc-tic)*1000),\" ms\")\n",
    "\n",
    "\n",
    "c = 0\n",
    "tic = time.time()\n",
    "for i in range(1000000):\n",
    "    c += a[i]*b[i]   # mutiply and sum\n",
    "toc = time.time()\n",
    "print(c)\n",
    "print(\"For loop method time: \",str((toc-tic)*1000),\" ms\")"
   ]
  },
  {
   "cell_type": "markdown",
   "metadata": {},
   "source": [
    "** Avoid For loops to do the calculations, Use Vectorization to do the task **"
   ]
  },
  {
   "cell_type": "code",
   "execution_count": 6,
   "metadata": {},
   "outputs": [
    {
     "name": "stdout",
     "output_type": "stream",
     "text": [
      "Numpy method time:  19.00005340576172  ms\n",
      "For loop method time:  768.9998149871826  ms\n"
     ]
    }
   ],
   "source": [
    "tic = time.time()\n",
    "c = np.exp(a)\n",
    "toc = time.time()\n",
    "#print(c)\n",
    "print(\"Numpy method time: \",str((toc-tic)*1000),\" ms\")\n",
    "\n",
    "\n",
    "c = np.zeros((1000000, 1))  # creating zero array\n",
    "tic = time.time()\n",
    "for i in range(1000000):\n",
    "    c[i] = math.exp(a[i])   # looping and calculation exp of value\n",
    "toc = time.time()\n",
    "#print(c)\n",
    "print(\"For loop method time: \",str((toc-tic)*1000),\" ms\")"
   ]
  },
  {
   "cell_type": "markdown",
   "metadata": {},
   "source": [
    "## Numpy Vector Operations"
   ]
  },
  {
   "cell_type": "code",
   "execution_count": 7,
   "metadata": {},
   "outputs": [],
   "source": [
    "a = np.random.rand(2,3)\n",
    "b = np.random.rand(3,4)\n",
    "c = np.arange(10)\n",
    "d = np.random.randint(0,100,10)"
   ]
  },
  {
   "cell_type": "code",
   "execution_count": 8,
   "metadata": {},
   "outputs": [
    {
     "name": "stdout",
     "output_type": "stream",
     "text": [
      "[0 1 2 3 4 5 6 7 8 9]\n",
      "[ 7 96  6 81  5 80 34 13 59 97]\n"
     ]
    },
    {
     "data": {
      "text/plain": [
       "array([  0,  96,  12, 243,  20, 400, 204,  91, 472, 873])"
      ]
     },
     "execution_count": 8,
     "metadata": {},
     "output_type": "execute_result"
    }
   ],
   "source": [
    "print(c)\n",
    "print(d)\n",
    "c*d  # element wise multiplication"
   ]
  },
  {
   "cell_type": "code",
   "execution_count": 9,
   "metadata": {},
   "outputs": [
    {
     "name": "stdout",
     "output_type": "stream",
     "text": [
      "[[ 0.27154379  0.47880907  0.85970525]\n",
      " [ 0.76672311  0.69471776  0.02390236]]\n",
      "[[ 0.45053586  0.31542487  0.96116187  0.03014245]\n",
      " [ 0.89471775  0.67768978  0.31315365  0.54457864]\n",
      " [ 0.12963106  0.91598973  0.84505994  0.12512393]]\n",
      "[[ 0.66218369  1.19761685  1.1374408   0.37650388]\n",
      " [ 0.97011106  0.73454098  0.97469735  0.40443013]]\n"
     ]
    }
   ],
   "source": [
    "e=np.dot(a,b)  # matrix multiplication\n",
    "print(a)\n",
    "print(b)\n",
    "print(e)"
   ]
  },
  {
   "cell_type": "code",
   "execution_count": 10,
   "metadata": {},
   "outputs": [
    {
     "name": "stdout",
     "output_type": "stream",
     "text": [
      "2411\n",
      "2411\n",
      "(10,)\n",
      "(10,)\n"
     ]
    }
   ],
   "source": [
    "print(np.dot(d.T,c))\n",
    "print(np.dot(c,d.T))\n",
    "print(c.shape)\n",
    "print((d.T).shape)"
   ]
  },
  {
   "cell_type": "markdown",
   "metadata": {},
   "source": [
    "** Few functions supported **  "
   ]
  },
  {
   "cell_type": "code",
   "execution_count": 19,
   "metadata": {},
   "outputs": [
    {
     "name": "stdout",
     "output_type": "stream",
     "text": [
      "[[ 0.66218369  1.19761685  1.1374408   0.37650388]\n",
      " [ 0.97011106  0.73454098  0.97469735  0.40443013]]\n",
      "[[-0.41221228  0.18033363  0.12878083 -0.97682691]\n",
      " [-0.03034472 -0.30850949 -0.02562827 -0.9052763 ]]\n",
      "[[ 1.93902194  3.31221401  3.11877658  1.4571812 ]\n",
      " [ 2.63823744  2.08452493  2.65036495  1.49844833]]\n",
      "1.19761685183\n",
      "[ 0.97011106  1.19761685  1.1374408   0.40443013]\n",
      "[ 1.19761685  0.97469735]\n"
     ]
    }
   ],
   "source": [
    "print(e)\n",
    "print(np.log(e))  # log for each element\n",
    "print(np.exp(e))  # exp value for each element\n",
    "print(np.max(e))  # max value in matrix\n",
    "print(np.max(e, axis=0))  # column wise\n",
    "print(np.max(e, axis=1))  # row wise"
   ]
  },
  {
   "cell_type": "code",
   "execution_count": 20,
   "metadata": {},
   "outputs": [
    {
     "name": "stdout",
     "output_type": "stream",
     "text": [
      "[[ 0.66218369  0.97011106]\n",
      " [ 1.19761685  0.73454098]\n",
      " [ 1.1374408   0.97469735]\n",
      " [ 0.37650388  0.40443013]]\n"
     ]
    }
   ],
   "source": [
    "print(e.T) # transpose the matrix"
   ]
  },
  {
   "cell_type": "code",
   "execution_count": 21,
   "metadata": {},
   "outputs": [
    {
     "ename": "TypeError",
     "evalue": "ufunc 'invert' not supported for the input types, and the inputs could not be safely coerced to any supported types according to the casting rule ''safe''",
     "output_type": "error",
     "traceback": [
      "\u001b[1;31m---------------------------------------------------------------------------\u001b[0m",
      "\u001b[1;31mTypeError\u001b[0m                                 Traceback (most recent call last)",
      "\u001b[1;32m<ipython-input-21-dece235b22cc>\u001b[0m in \u001b[0;36m<module>\u001b[1;34m()\u001b[0m\n\u001b[1;32m----> 1\u001b[1;33m \u001b[0mprint\u001b[0m\u001b[1;33m(\u001b[0m\u001b[0mnp\u001b[0m\u001b[1;33m.\u001b[0m\u001b[0minvert\u001b[0m\u001b[1;33m(\u001b[0m\u001b[0me\u001b[0m\u001b[1;33m)\u001b[0m\u001b[1;33m)\u001b[0m   \u001b[1;31m# inverse of matrix\u001b[0m\u001b[1;33m\u001b[0m\u001b[0m\n\u001b[0m",
      "\u001b[1;31mTypeError\u001b[0m: ufunc 'invert' not supported for the input types, and the inputs could not be safely coerced to any supported types according to the casting rule ''safe''"
     ]
    }
   ],
   "source": [
    "print(np.in(e))   # inverse of matrix"
   ]
  },
  {
   "cell_type": "code",
   "execution_count": null,
   "metadata": {},
   "outputs": [],
   "source": []
  }
 ],
 "metadata": {
  "kernelspec": {
   "display_name": "Python 3",
   "language": "python",
   "name": "python3"
  },
  "language_info": {
   "codemirror_mode": {
    "name": "ipython",
    "version": 3
   },
   "file_extension": ".py",
   "mimetype": "text/x-python",
   "name": "python",
   "nbconvert_exporter": "python",
   "pygments_lexer": "ipython3",
   "version": "3.5.4"
  }
 },
 "nbformat": 4,
 "nbformat_minor": 2
}
