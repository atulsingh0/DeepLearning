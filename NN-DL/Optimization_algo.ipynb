{
 "cells": [
  {
   "cell_type": "markdown",
   "metadata": {},
   "source": [
    "### Moving average "
   ]
  },
  {
   "cell_type": "code",
   "execution_count": 2,
   "metadata": {},
   "outputs": [],
   "source": [
    "import numpy as np"
   ]
  },
  {
   "cell_type": "code",
   "execution_count": 90,
   "metadata": {},
   "outputs": [
    {
     "data": {
      "text/plain": [
       "array([1, 2, 3, 4, 5, 6, 7, 8, 9])"
      ]
     },
     "execution_count": 90,
     "metadata": {},
     "output_type": "execute_result"
    }
   ],
   "source": [
    "a = np.arange(1,10)\n",
    "a"
   ]
  },
  {
   "cell_type": "markdown",
   "metadata": {},
   "source": [
    "Considering moving average for 4 occurance"
   ]
  },
  {
   "cell_type": "code",
   "execution_count": 78,
   "metadata": {},
   "outputs": [],
   "source": [
    "def moving_average(a, n=3) :\n",
    "    '''\n",
    "    Calculate the moving average for ocuurance n\n",
    "\n",
    "    a : list like Values\n",
    "    n : no of occurance\n",
    "    '''\n",
    "    a = np.concatenate((np.zeros(n-1), a))\n",
    "    ret = np.cumsum(a, dtype=float)\n",
    "    ret[n:] = ret[n:] - ret[:-n]\n",
    "    return ret[n - 1:] / n"
   ]
  },
  {
   "cell_type": "code",
   "execution_count": 79,
   "metadata": {},
   "outputs": [
    {
     "data": {
      "text/plain": [
       "array([ 0.25,  0.75,  1.5 ,  2.5 ,  3.5 ,  4.5 ,  5.5 ,  6.5 ,  7.5 ])"
      ]
     },
     "execution_count": 79,
     "metadata": {},
     "output_type": "execute_result"
    }
   ],
   "source": [
    "moving_average(a, 4)"
   ]
  },
  {
   "cell_type": "code",
   "execution_count": 137,
   "metadata": {},
   "outputs": [],
   "source": [
    "def moving_average_exp(data, n=3, bias_correc=False):\n",
    "    '''\n",
    "    Calculate the exponential moving average for ocuurance n\n",
    "\n",
    "    data : list like Values\n",
    "    n : no of occurance\n",
    "    bias_correc : Bias correction - True/False\n",
    "    '''\n",
    "    frac = (1 - (1/float(n)))\n",
    "\n",
    "    lis = np.zeros((data.shape[0]+1))\n",
    "    for idx, val in enumerate(data):\n",
    "        lis[idx+1] = frac*lis[idx] + (1-frac)*val\n",
    "    ret = lis[1:]\n",
    "    \n",
    "    if bias_correc==True:\n",
    "        #lis2 = np.zeros(data.shape[0])\n",
    "        for idx, val in enumerate(ret):\n",
    "            bc = (1- np.power(frac, idx+1))\n",
    "            ret[idx] /=  bc\n",
    "    #ret=lis[:]\n",
    "                    \n",
    "    return ret"
   ]
  },
  {
   "cell_type": "code",
   "execution_count": 138,
   "metadata": {},
   "outputs": [
    {
     "data": {
      "text/plain": [
       "array([ 0.25      ,  0.6875    ,  1.265625  ,  1.94921875,  2.71191406,\n",
       "        3.53393555,  4.40045166,  5.30033875,  6.22525406])"
      ]
     },
     "execution_count": 138,
     "metadata": {},
     "output_type": "execute_result"
    }
   ],
   "source": [
    "moving_average_exp(a,4)"
   ]
  },
  {
   "cell_type": "code",
   "execution_count": 139,
   "metadata": {},
   "outputs": [
    {
     "data": {
      "text/plain": [
       "array([ 1.        ,  1.57142857,  2.18918919,  2.85142857,  3.55569782,\n",
       "        4.2990793 ,  5.07832641,  5.89000424,  6.73062059])"
      ]
     },
     "execution_count": 139,
     "metadata": {},
     "output_type": "execute_result"
    }
   ],
   "source": [
    "moving_average_exp(a,4, True)"
   ]
  },
  {
   "cell_type": "markdown",
   "metadata": {},
   "source": [
    "### Choosing Hyperparameter value scale  \n",
    "* If the no is big enough or > 1 use the linear random search to pick the value  \n",
    "* else if no is << 1 then use the lograthmic random search to pick the value"
   ]
  },
  {
   "cell_type": "code",
   "execution_count": 11,
   "metadata": {},
   "outputs": [
    {
     "name": "stdout",
     "output_type": "stream",
     "text": [
      "[72 67 53 99 62]\n",
      "70.6\n",
      "241.04\n"
     ]
    }
   ],
   "source": [
    "# we have to choose the 5 values between 50, 100\n",
    "val = np.random.randint(50, 100, 5)\n",
    "print(val)\n",
    "print(np.mean(val))\n",
    "print(np.var(val))"
   ]
  },
  {
   "cell_type": "code",
   "execution_count": 16,
   "metadata": {},
   "outputs": [
    {
     "name": "stdout",
     "output_type": "stream",
     "text": [
      "[  1.31301917e-04   2.02119497e-01   2.82568112e-04   7.53777981e-04\n",
      "   4.30560455e-02]\n",
      "0.0492686380268\n",
      "0.00611395715421\n"
     ]
    }
   ],
   "source": [
    "# we have to choose the 5 values between 0.0001 to 1\n",
    "p = -4 * np.random.rand(5)\n",
    "val = np.power(10, p)\n",
    "print(val)\n",
    "print(np.mean(val))\n",
    "print(np.var(val))"
   ]
  },
  {
   "cell_type": "code",
   "execution_count": null,
   "metadata": {},
   "outputs": [],
   "source": []
  }
 ],
 "metadata": {
  "kernelspec": {
   "display_name": "Python 3",
   "language": "python",
   "name": "python3"
  },
  "language_info": {
   "codemirror_mode": {
    "name": "ipython",
    "version": 3
   },
   "file_extension": ".py",
   "mimetype": "text/x-python",
   "name": "python",
   "nbconvert_exporter": "python",
   "pygments_lexer": "ipython3",
   "version": "3.6.3"
  }
 },
 "nbformat": 4,
 "nbformat_minor": 2
}
