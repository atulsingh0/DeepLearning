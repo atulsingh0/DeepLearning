{
 "cells": [
  {
   "cell_type": "code",
   "execution_count": 4,
   "metadata": {
    "collapsed": true
   },
   "outputs": [],
   "source": [
    "import matplotlib.pyplot as plt\n",
    "import numpy as np\n",
    "import math\n",
    "\n",
    "%matplotlib inline"
   ]
  },
  {
   "cell_type": "code",
   "execution_count": 5,
   "metadata": {
    "collapsed": true
   },
   "outputs": [],
   "source": [
    "def my_plot(x,y=None, l=None):\n",
    "    #plt.figure(figsize=(10,8))\n",
    "    plt.plot(x=x, y=y, label=l)\n",
    "    plt.legend(loc=0)\n",
    "    plt.grid(True)\n",
    "    plt.show()"
   ]
  },
  {
   "cell_type": "markdown",
   "metadata": {},
   "source": [
    "### Sigmoid Function  \n",
    "## $ y = \\frac{1}{1+e^{-x}} $"
   ]
  },
  {
   "cell_type": "code",
   "execution_count": 6,
   "metadata": {
    "collapsed": false
   },
   "outputs": [
    {
     "name": "stdout",
     "output_type": "stream",
     "text": [
      "-10.0 4.53978687024e-05\n"
     ]
    }
   ],
   "source": [
    "x= np.linspace(-10, 10, 100, endpoint=True)\n",
    "#x = np.arange(-10, 10, 0.01)\n",
    "y = 1/(1+np.exp(-x))\n",
    "print(x[0], y[0])"
   ]
  },
  {
   "cell_type": "code",
   "execution_count": 7,
   "metadata": {
    "collapsed": false
   },
   "outputs": [
    {
     "name": "stderr",
     "output_type": "stream",
     "text": [
      "C:\\Anaconda3\\lib\\site-packages\\matplotlib\\axes\\_axes.py:519: UserWarning: No labelled objects found. Use label='...' kwarg on individual plots.\n",
      "  warnings.warn(\"No labelled objects found. \"\n"
     ]
    },
    {
     "data": {
      "image/png": "[encoded data removed]",
      "text/plain": [
       "<matplotlib.figure.Figure at 0x7b9cd30>"
      ]
     },
     "metadata": {},
     "output_type": "display_data"
    },
    {
     "data": {
      "text/plain": [
       "\"\\nplt.plot(x,y)\\nplt.ylim([-0.05, 1.05])\\nplt.show()\\nax = plt.gca()\\nax.spines['left'].set_position(('data',0))  # spine move to x==0\\nax.spines['bottom'].set_position(('data',0)) # spine move to y==0\\n#ax.spines['top'].set_color('none')\\nax.spines['right'].set_color('none')\\n\""
      ]
     },
     "execution_count": 7,
     "metadata": {},
     "output_type": "execute_result"
    }
   ],
   "source": [
    "my_plot([1,2],[1,2], 'red')\n",
    "#plt.plot(x,y,label='Sigmoid')\n",
    "#plt.legend(loc=0)\n",
    "'''\n",
    "plt.plot(x,y)\n",
    "plt.ylim([-0.05, 1.05])\n",
    "plt.show()\n",
    "ax = plt.gca()\n",
    "ax.spines['left'].set_position(('data',0))  # spine move to x==0\n",
    "ax.spines['bottom'].set_position(('data',0)) # spine move to y==0\n",
    "#ax.spines['top'].set_color('none')\n",
    "ax.spines['right'].set_color('none')\n",
    "'''"
   ]
  },
  {
   "cell_type": "markdown",
   "metadata": {},
   "source": [
    "### Softmax Function  \n",
    "\n",
    "## $$ \\sigma(x_i)  = \\frac{e^{x_i}}{\\Sigma_{k=1}^n{e^{x_k}}}  $$"
   ]
  },
  {
   "cell_type": "code",
   "execution_count": 5,
   "metadata": {
    "collapsed": true
   },
   "outputs": [],
   "source": [
    "tot = np.exp(x)\n",
    "y = tot/np.sum(tot)"
   ]
  },
  {
   "cell_type": "code",
   "execution_count": 6,
   "metadata": {
    "collapsed": false
   },
   "outputs": [
    {
     "data": {
      "image/png": "[encoded data removed]",
      "text/plain": [
       "<matplotlib.figure.Figure at 0x7d59470>"
      ]
     },
     "metadata": {},
     "output_type": "display_data"
    }
   ],
   "source": [
    "plt.plot(x,y)\n",
    "plt.ylim([-0.01, 0.08])\n",
    "plt.show()"
   ]
  },
  {
   "cell_type": "markdown",
   "metadata": {},
   "source": [
    "### Logistic Regression\n",
    "\n",
    "## $ \\hat{y} = \\sigma(W^T+b) $ where $ \\sigma(z) = \\frac{1}{1+e^{-z}} $  \n",
    "\n",
    "### Cost Function  "
   ]
  },
  {
   "cell_type": "code",
   "execution_count": null,
   "metadata": {
    "collapsed": true
   },
   "outputs": [],
   "source": []
  }
 ],
 "metadata": {
  "kernelspec": {
   "display_name": "Python 3",
   "language": "python",
   "name": "python3"
  },
  "language_info": {
   "codemirror_mode": {
    "name": "ipython",
    "version": 3
   },
   "file_extension": ".py",
   "mimetype": "text/x-python",
   "name": "python",
   "nbconvert_exporter": "python",
   "pygments_lexer": "ipython3",
   "version": "3.5.2"
  }
 },
 "nbformat": 4,
 "nbformat_minor": 2
}
