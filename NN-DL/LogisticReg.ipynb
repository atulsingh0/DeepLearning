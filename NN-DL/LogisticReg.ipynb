{
 "cells": [
  {
   "cell_type": "code",
   "execution_count": 1,
   "metadata": {
    "collapsed": true
   },
   "outputs": [],
   "source": [
    "import matplotlib.pyplot as plt\n",
    "import numpy as np\n",
    "import math\n",
    "\n",
    "%matplotlib inline"
   ]
  },
  {
   "cell_type": "markdown",
   "metadata": {},
   "source": [
    "## Logistic Regression\n",
    "\n",
    "## $ \\hat{y}^i = \\sigma(W^Tx^i+b) $ where $ \\sigma(z^i) = \\frac{1}{1+e^{-z^i}} $  \n",
    "\n",
    "### Loss (error) function:  \n",
    "\n",
    "$$ L(\\hat{y}, y) = \\frac{1}{2}{(\\hat{y} - y)^2} $$  \n",
    "$$ L(\\hat{y}, y) = -( ylog\\hat{y} +(1-y)log(1-\\hat{y})) $$  \n",
    "\n",
    "### Cost Function:  \n",
    "\n",
    "### $$  J(w,b) = \\frac{1}{m}\\sum_{i=1}^{m}L(\\hat{y}^i, y^i) = - \\frac{1}{m}\\sum_{i=1}^{m}[ylog\\hat{y} +(1-y)log(1-\\hat{y})] $$  \n",
    "\n",
    "### Gradient Descent   \n",
    "\n",
    "** \n",
    " $ \\text{repeat \\{   } $  \n",
    " $           w :=  w-\\alpha \\frac{\\partial J(w,b)}{\\partial w}   $  \n",
    " $           b :=  b - \\alpha \\frac {\\partial J(w,b)}{\\partial b}  $  \n",
    " $  \\text{\\}   } $  \n",
    "**  \n",
    "\n",
    "### Cost Function  \n",
    "\n",
    "$ \\text{If y = 1:} \\qquad p(y|x)=\\hat{y}  $  \n",
    "$ \\text{If y = 0:} \\qquad p(y|x)= 1-\\hat{y}  $  \n",
    "\n",
    "combining these 2 equations into one -  \n",
    "\n",
    "### $ p(y|x) = \\hat{y}^y(1-\\hat{y})^{(1-y)} $  \n",
    "\n",
    "By maximum likelihood estimation, to match the predicted output with the actual output we have to maximize the probability p(y|x) which is equal to nagative (-) Loss function, so\n",
    "### $ log(p(y|x)) = y log \\hat{y} + (1-y) log (1-\\hat{y})  = -L(y,\\hat{y})$\n",
    "\n",
    "### $ L(y,\\hat{y}) = - (y log \\hat{y} + (1-y) log (1-\\hat{y})) $\n"
   ]
  },
  {
   "cell_type": "code",
   "execution_count": null,
   "metadata": {},
   "outputs": [],
   "source": []
  }
 ],
 "metadata": {
  "kernelspec": {
   "display_name": "Python 3",
   "language": "python",
   "name": "python3"
  },
  "language_info": {
   "codemirror_mode": {
    "name": "ipython",
    "version": 3
   },
   "file_extension": ".py",
   "mimetype": "text/x-python",
   "name": "python",
   "nbconvert_exporter": "python",
   "pygments_lexer": "ipython3",
   "version": "3.6.3"
  }
 },
 "nbformat": 4,
 "nbformat_minor": 2
}
