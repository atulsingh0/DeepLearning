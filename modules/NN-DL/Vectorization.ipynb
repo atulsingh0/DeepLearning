{
 "cells": [
  {
   "cell_type": "code",
   "execution_count": 22,
   "metadata": {},
   "outputs": [],
   "source": [
    "# import\n",
    "import random\n",
    "import numpy as np\n",
    "import time\n",
    "import math"
   ]
  },
  {
   "cell_type": "code",
   "execution_count": 23,
   "metadata": {},
   "outputs": [
    {
     "name": "stdout",
     "output_type": "stream",
     "text": [
      "249767.558973\n",
      "Numpy method time:  69.99993324279785  ms\n",
      "249767.558973\n",
      "For loop method time:  813.9998912811279  ms\n"
     ]
    }
   ],
   "source": [
    "a = np.random.rand(1000000)\n",
    "b = np.random.rand(1000000)\n",
    "\n",
    "tic = time.time()\n",
    "c = np.dot(a,b)\n",
    "toc = time.time()\n",
    "print(c)\n",
    "print(\"Numpy method time: \",str((toc-tic)*1000),\" ms\")\n",
    "\n",
    "\n",
    "c = 0\n",
    "tic = time.time()\n",
    "for i in range(1000000):\n",
    "    c += a[i]*b[i]   # mutiply and sum\n",
    "toc = time.time()\n",
    "print(c)\n",
    "print(\"For loop method time: \",str((toc-tic)*1000),\" ms\")"
   ]
  },
  {
   "cell_type": "markdown",
   "metadata": {},
   "source": [
    "** Avoid For loops to do the calculations, Use Vectorization to do the task **"
   ]
  },
  {
   "cell_type": "code",
   "execution_count": 24,
   "metadata": {},
   "outputs": [
    {
     "name": "stdout",
     "output_type": "stream",
     "text": [
      "Numpy method time:  32.000064849853516  ms\n",
      "For loop method time:  763.9999389648438  ms\n"
     ]
    }
   ],
   "source": [
    "tic = time.time()\n",
    "c = np.exp(a)\n",
    "toc = time.time()\n",
    "#print(c)\n",
    "print(\"Numpy method time: \",str((toc-tic)*1000),\" ms\")\n",
    "\n",
    "\n",
    "c = np.zeros((1000000, 1))  # creating zero array\n",
    "tic = time.time()\n",
    "for i in range(1000000):\n",
    "    c[i] = math.exp(a[i])   # looping and calculation exp of value\n",
    "toc = time.time()\n",
    "#print(c)\n",
    "print(\"For loop method time: \",str((toc-tic)*1000),\" ms\")"
   ]
  },
  {
   "cell_type": "markdown",
   "metadata": {},
   "source": [
    "## Numpy Vector Operations"
   ]
  },
  {
   "cell_type": "code",
   "execution_count": 25,
   "metadata": {},
   "outputs": [],
   "source": [
    "a = np.random.rand(2,3)\n",
    "b = np.random.rand(3,4)\n",
    "c = np.arange(10)\n",
    "d = np.random.randint(0,100,10)"
   ]
  },
  {
   "cell_type": "code",
   "execution_count": 26,
   "metadata": {},
   "outputs": [
    {
     "name": "stdout",
     "output_type": "stream",
     "text": [
      "[0 1 2 3 4 5 6 7 8 9]\n",
      "[95 82 16 42 19 81 20 39  4  2]\n"
     ]
    },
    {
     "data": {
      "text/plain": [
       "array([  0,  82,  32, 126,  76, 405, 120, 273,  32,  18])"
      ]
     },
     "execution_count": 26,
     "metadata": {},
     "output_type": "execute_result"
    }
   ],
   "source": [
    "print(c)\n",
    "print(d)\n",
    "c*d  # element wise multiplication"
   ]
  },
  {
   "cell_type": "code",
   "execution_count": 27,
   "metadata": {},
   "outputs": [
    {
     "name": "stdout",
     "output_type": "stream",
     "text": [
      "[[ 0.36862486  0.28471333  0.41136249]\n",
      " [ 0.38675478  0.01378155  0.70060816]]\n",
      "[[ 0.60710616  0.8645525   0.42075561  0.99522569]\n",
      " [ 0.77427049  0.3385313   0.50334366  0.7548373 ]\n",
      " [ 0.05946259  0.69308777  0.43501834  0.14683187]]\n",
      "[[ 0.46870024  0.70019023  0.47735985  0.6421783 ]\n",
      " [ 0.28713183  0.82461824  0.4744435   0.49818273]]\n"
     ]
    }
   ],
   "source": [
    "e=np.dot(a,b)  # matrix multiplication\n",
    "print(a)\n",
    "print(b)\n",
    "print(e)"
   ]
  },
  {
   "cell_type": "code",
   "execution_count": 28,
   "metadata": {},
   "outputs": [
    {
     "name": "stdout",
     "output_type": "stream",
     "text": [
      "1164\n",
      "1164\n",
      "(10,)\n",
      "(10,)\n"
     ]
    }
   ],
   "source": [
    "print(np.dot(d.T,c))\n",
    "print(np.dot(c,d.T))\n",
    "print(c.shape)\n",
    "print((d.T).shape)"
   ]
  },
  {
   "cell_type": "markdown",
   "metadata": {},
   "source": [
    "** Few functions supported **  "
   ]
  },
  {
   "cell_type": "code",
   "execution_count": 29,
   "metadata": {},
   "outputs": [
    {
     "name": "stdout",
     "output_type": "stream",
     "text": [
      "[[ 0.46870024  0.70019023  0.47735985  0.6421783 ]\n",
      " [ 0.28713183  0.82461824  0.4744435   0.49818273]]\n",
      "[[-0.75779187 -0.35640323 -0.73948466 -0.44288929]\n",
      " [-1.24781382 -0.19283474 -0.74561275 -0.69678835]]\n",
      "[[ 1.59791593  2.01413581  1.61181336  1.90061648]\n",
      " [ 1.33259988  2.2810098   1.60711958  1.64572781]]\n",
      "0.824618241525\n",
      "[ 0.46870024  0.82461824  0.47735985  0.6421783 ]\n",
      "[ 0.70019023  0.82461824]\n"
     ]
    }
   ],
   "source": [
    "print(e)\n",
    "print(np.log(e))  # log for each element\n",
    "print(np.exp(e))  # exp value for each element\n",
    "print(np.max(e))  # max value in matrix\n",
    "print(np.max(e, axis=0))  # column wise\n",
    "print(np.max(e, axis=1))  # row wise"
   ]
  },
  {
   "cell_type": "code",
   "execution_count": 30,
   "metadata": {},
   "outputs": [
    {
     "name": "stdout",
     "output_type": "stream",
     "text": [
      "[[ 0.46870024  0.28713183]\n",
      " [ 0.70019023  0.82461824]\n",
      " [ 0.47735985  0.4744435 ]\n",
      " [ 0.6421783   0.49818273]]\n"
     ]
    }
   ],
   "source": [
    "print(e.T) # transpose the matrix"
   ]
  },
  {
   "cell_type": "code",
   "execution_count": 32,
   "metadata": {},
   "outputs": [
    {
     "data": {
      "text/plain": [
       "array([[0, 1, 2],\n",
       "       [3, 4, 5],\n",
       "       [6, 7, 8]])"
      ]
     },
     "execution_count": 32,
     "metadata": {},
     "output_type": "execute_result"
    }
   ],
   "source": [
    "m = np.arange(9).reshape(3,3)\n",
    "m"
   ]
  },
  {
   "cell_type": "code",
   "execution_count": 44,
   "metadata": {},
   "outputs": [
    {
     "name": "stdout",
     "output_type": "stream",
     "text": [
      "00000011\n",
      "11111100\n",
      "-4\n"
     ]
    }
   ],
   "source": [
    "a = 3  # \n",
    "print(np.binary_repr(a, width=8))\n",
    "b=np.invert(a)   \n",
    "print(np.binary_repr(b, width=8))\n",
    "print(b)"
   ]
  },
  {
   "cell_type": "code",
   "execution_count": 35,
   "metadata": {},
   "outputs": [
    {
     "data": {
      "text/plain": [
       "array([0, 1, 2, 3, 4, 5, 6, 7, 8])"
      ]
     },
     "execution_count": 35,
     "metadata": {},
     "output_type": "execute_result"
    }
   ],
   "source": [
    "# flatten the matrix into one vector\n",
    "m.flatten()"
   ]
  },
  {
   "cell_type": "code",
   "execution_count": 37,
   "metadata": {},
   "outputs": [
    {
     "data": {
      "text/plain": [
       "array([[ -18,  -21,  -24],\n",
       "       [ -54,  -66,  -78],\n",
       "       [ -90, -111, -132]])"
      ]
     },
     "execution_count": 37,
     "metadata": {},
     "output_type": "execute_result"
    }
   ],
   "source": [
    "np.dot(m, np.invert(m))"
   ]
  },
  {
   "cell_type": "code",
   "execution_count": 45,
   "metadata": {},
   "outputs": [
    {
     "data": {
      "text/plain": [
       "matrix([[0, 1, 2],\n",
       "        [3, 4, 5],\n",
       "        [6, 7, 8]])"
      ]
     },
     "execution_count": 45,
     "metadata": {},
     "output_type": "execute_result"
    }
   ],
   "source": [
    "A = np.matrix(np.arange(9).reshape(3,3))\n",
    "A"
   ]
  },
  {
   "cell_type": "code",
   "execution_count": 46,
   "metadata": {},
   "outputs": [
    {
     "data": {
      "text/plain": [
       "14.282856857085701"
      ]
     },
     "execution_count": 46,
     "metadata": {},
     "output_type": "execute_result"
    }
   ],
   "source": [
    "np.linalg.norm(A)"
   ]
  },
  {
   "cell_type": "code",
   "execution_count": 50,
   "metadata": {},
   "outputs": [
    {
     "data": {
      "text/plain": [
       "0.0"
      ]
     },
     "execution_count": 50,
     "metadata": {},
     "output_type": "execute_result"
    }
   ],
   "source": [
    "# np.linalg.inv(A)   # this is a singular matrix as the determinant of this matrix is zero\n",
    "np.linalg.det(A)"
   ]
  },
  {
   "cell_type": "code",
   "execution_count": 57,
   "metadata": {},
   "outputs": [
    {
     "data": {
      "text/plain": [
       "matrix([[ 9,  1, 18],\n",
       "        [15, 13,  3],\n",
       "        [13,  7, 12]])"
      ]
     },
     "execution_count": 57,
     "metadata": {},
     "output_type": "execute_result"
    }
   ],
   "source": [
    "B = np.matrix(np.random.randint(1, 20, 9).reshape(3,3))\n",
    "B"
   ]
  },
  {
   "cell_type": "code",
   "execution_count": 58,
   "metadata": {},
   "outputs": [
    {
     "data": {
      "text/plain": [
       "matrix([[-1.73076923, -1.46153846,  2.96153846],\n",
       "        [ 1.80769231,  1.61538462, -3.11538462],\n",
       "        [ 0.82051282,  0.64102564, -1.30769231]])"
      ]
     },
     "execution_count": 58,
     "metadata": {},
     "output_type": "execute_result"
    }
   ],
   "source": [
    "# inverse matrix\n",
    "C=np.linalg.inv(B)\n",
    "C"
   ]
  },
  {
   "cell_type": "code",
   "execution_count": 59,
   "metadata": {},
   "outputs": [
    {
     "data": {
      "text/plain": [
       "matrix([[  1.00000000e+00,   0.00000000e+00,   0.00000000e+00],\n",
       "        [  0.00000000e+00,   1.00000000e+00,   0.00000000e+00],\n",
       "        [  3.55271368e-15,   0.00000000e+00,   1.00000000e+00]])"
      ]
     },
     "execution_count": 59,
     "metadata": {},
     "output_type": "execute_result"
    }
   ],
   "source": [
    "np.dot(C, B)   # this will not generate an ideal identity matrix  [[1 0 0], [0 1 0], [0 0 1]]"
   ]
  },
  {
   "cell_type": "code",
   "execution_count": 60,
   "metadata": {},
   "outputs": [
    {
     "data": {
      "text/plain": [
       "matrix([[  1.00000000e+00,   0.00000000e+00,   3.55271368e-15],\n",
       "        [ -8.88178420e-16,   1.00000000e+00,   1.33226763e-15],\n",
       "        [ -3.55271368e-15,   8.88178420e-16,   1.00000000e+00]])"
      ]
     },
     "execution_count": 60,
     "metadata": {},
     "output_type": "execute_result"
    }
   ],
   "source": [
    "np.dot(B, C)  # "
   ]
  },
  {
   "cell_type": "code",
   "execution_count": null,
   "metadata": {},
   "outputs": [],
   "source": []
  }
 ],
 "metadata": {
  "kernelspec": {
   "display_name": "Python 3",
   "language": "python",
   "name": "python3"
  },
  "language_info": {
   "codemirror_mode": {
    "name": "ipython",
    "version": 3
   },
   "file_extension": ".py",
   "mimetype": "text/x-python",
   "name": "python",
   "nbconvert_exporter": "python",
   "pygments_lexer": "ipython3",
   "version": "3.6.3"
  }
 },
 "nbformat": 4,
 "nbformat_minor": 2
}
