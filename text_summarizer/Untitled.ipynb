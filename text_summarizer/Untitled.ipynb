{
 "cells": [
  {
   "cell_type": "code",
   "execution_count": 1,
   "metadata": {},
   "outputs": [],
   "source": [
    "from keras.preprocessing.sequence import skipgrams"
   ]
  },
  {
   "cell_type": "code",
   "execution_count": 2,
   "metadata": {},
   "outputs": [],
   "source": [
    "from keras.layers import Embedding"
   ]
  },
  {
   "cell_type": "code",
   "execution_count": 3,
   "metadata": {},
   "outputs": [],
   "source": [
    "import keras"
   ]
  },
  {
   "cell_type": "code",
   "execution_count": 4,
   "metadata": {},
   "outputs": [
    {
     "ename": "AttributeError",
     "evalue": "module 'keras' has no attribute 'train_on_batch'",
     "output_type": "error",
     "traceback": [
      "\u001b[0;31m---------------------------------------------------------------------------\u001b[0m",
      "\u001b[0;31mAttributeError\u001b[0m                            Traceback (most recent call last)",
      "\u001b[0;32m<ipython-input-4-34b5d372399e>\u001b[0m in \u001b[0;36m<module>\u001b[0;34m()\u001b[0m\n\u001b[0;32m----> 1\u001b[0;31m \u001b[0mkeras\u001b[0m\u001b[0;34m.\u001b[0m\u001b[0mtrain_on_batch\u001b[0m\u001b[0;34m\u001b[0m\u001b[0m\n\u001b[0m",
      "\u001b[0;31mAttributeError\u001b[0m: module 'keras' has no attribute 'train_on_batch'"
     ]
    }
   ],
   "source": [
    "keras.train_on_batch"
   ]
  },
  {
   "cell_type": "markdown",
   "metadata": {},
   "source": [
    "['state', 'nd', 'in', 'continue', 'the', 'and', 'of', 'is', 'from']\n",
    "[ -4.61881841e-03  -4.88735968e-03  -3.19508743e-03   4.08568839e-03\n",
    "  -3.38211656e-03   1.93076557e-03   3.90265253e-03  -1.04349572e-03\n",
    "   4.14286414e-03   1.55219622e-03   3.85653134e-03   2.22428422e-03\n",
    "  -3.52565176e-03   2.82056746e-03  -2.11121864e-03  -1.38054823e-03\n",
    "  -1.12888147e-03  -2.87318649e-03  -7.99703528e-04   3.67874932e-03\n",
    "   2.68940022e-03   6.31021452e-04  -4.36326629e-03   2.38655557e-04\n",
    "  -1.94210222e-03   4.87691024e-03  -4.04118607e-03  -3.17813386e-03\n",
    "   4.94802603e-03   3.43150692e-03  -1.44031656e-03   4.25637932e-03\n",
    "  -1.15106850e-04  -3.73274647e-03   2.50349124e-03   4.28692997e-03\n",
    "  -3.57313151e-03  -7.24728088e-05  -3.46099050e-03  -3.39612062e-03\n",
    "   3.54845310e-03   1.56780297e-03   4.58260969e-04   2.52689526e-04\n",
    "   3.06256465e-03   2.37558200e-03   4.06933809e-03   2.94650183e-03\n",
    "  -2.96231941e-03  -4.47433954e-03   2.89590308e-03  -2.16034567e-03\n",
    "  -2.58548348e-03  -2.06163677e-04   1.72605237e-03  -2.27384618e-04\n",
    "  -3.70194600e-03   2.11557443e-03   2.03793868e-03   3.09839356e-03\n",
    "  -4.71800892e-03   2.32995977e-03  -6.70911541e-05   1.39375112e-03\n",
    "  -3.84263694e-03  -1.03898917e-03   4.13251948e-03   1.06330717e-03\n",
    "   1.38514000e-03  -1.18144893e-03  -2.60811858e-03   1.54952740e-03\n",
    "   2.49916781e-03  -1.95435272e-03   8.86975031e-05   1.89820060e-03\n",
    "  -3.41996481e-03  -4.08187555e-03   5.88635216e-04   4.13103355e-03\n",
    "  -3.25899688e-03   1.02130906e-03  -3.61028523e-03   4.17646067e-03\n",
    "   4.65870230e-03   3.64110398e-04   4.95479070e-03  -1.29743712e-03\n",
    "  -5.03367570e-04  -2.52546836e-03   3.31060472e-03  -3.12870182e-03\n",
    "  -1.14580349e-03  -4.34387522e-03  -4.62882593e-03   3.19007039e-03\n",
    "   2.88707414e-03   1.62976081e-04  -6.05802808e-04  -1.06368808e-03]"
   ]
  },
  {
   "cell_type": "markdown",
   "metadata": {},
   "source": [
    "$$ log (\\frac{1}{2}) $$"
   ]
  },
  {
   "cell_type": "code",
   "execution_count": null,
   "metadata": {},
   "outputs": [],
   "source": []
  }
 ],
 "metadata": {
  "kernelspec": {
   "display_name": "Python 3",
   "language": "python",
   "name": "python3"
  },
  "language_info": {
   "codemirror_mode": {
    "name": "ipython",
    "version": 3
   },
   "file_extension": ".py",
   "mimetype": "text/x-python",
   "name": "python",
   "nbconvert_exporter": "python",
   "pygments_lexer": "ipython3",
   "version": "3.6.4"
  }
 },
 "nbformat": 4,
 "nbformat_minor": 2
}
