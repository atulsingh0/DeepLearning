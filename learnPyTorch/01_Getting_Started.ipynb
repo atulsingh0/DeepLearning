{
 "cells": [
  {
   "cell_type": "code",
   "execution_count": 1,
   "metadata": {},
   "outputs": [],
   "source": [
    "#import\n",
    "import torch\n",
    "import numpy as np"
   ]
  },
  {
   "cell_type": "code",
   "execution_count": 2,
   "metadata": {},
   "outputs": [
    {
     "name": "stdout",
     "output_type": "stream",
     "text": [
      "\n",
      "1.00000e-43 *\n",
      "  1.3733  0.0000  0.0000  0.0000\n",
      "  0.0000  0.0000  0.0000  0.0000\n",
      "  0.0000  0.0000  0.0000  0.0000\n",
      "[torch.FloatTensor of size 3x4]\n",
      "\n"
     ]
    }
   ],
   "source": [
    "# uninitialize Tensor\n",
    "x = torch.Tensor(3,4)\n",
    "print(x)"
   ]
  },
  {
   "cell_type": "code",
   "execution_count": 3,
   "metadata": {},
   "outputs": [
    {
     "name": "stdout",
     "output_type": "stream",
     "text": [
      "\n",
      " 0.3058  0.5681  0.3270  0.9632\n",
      " 0.2540  0.1470  0.0311  0.6774\n",
      " 0.2009  0.4719  0.4170  0.2510\n",
      "[torch.FloatTensor of size 3x4]\n",
      "\n"
     ]
    }
   ],
   "source": [
    "# Randomly intitialize Tensor\n",
    "x = torch.rand(3,4)\n",
    "print(x)"
   ]
  },
  {
   "cell_type": "code",
   "execution_count": 4,
   "metadata": {},
   "outputs": [
    {
     "data": {
      "text/plain": [
       "torch.Size([3, 4])"
      ]
     },
     "execution_count": 4,
     "metadata": {},
     "output_type": "execute_result"
    }
   ],
   "source": [
    "# checking size\n",
    "x.size()"
   ]
  },
  {
   "cell_type": "markdown",
   "metadata": {},
   "source": [
    "### Operations"
   ]
  },
  {
   "cell_type": "code",
   "execution_count": 5,
   "metadata": {},
   "outputs": [
    {
     "data": {
      "text/plain": [
       "\n",
       " 0.5464  0.8071  1.2016  1.7829\n",
       " 0.4553  0.3868  0.2269  1.4373\n",
       " 1.0676  1.4457  0.5221  0.2749\n",
       "[torch.FloatTensor of size 3x4]"
      ]
     },
     "execution_count": 5,
     "metadata": {},
     "output_type": "execute_result"
    }
   ],
   "source": [
    "y = torch.rand(3,4)\n",
    "\n",
    "x+y"
   ]
  },
  {
   "cell_type": "code",
   "execution_count": 6,
   "metadata": {},
   "outputs": [
    {
     "name": "stdout",
     "output_type": "stream",
     "text": [
      "\n",
      " 0.5464  0.8071  1.2016  1.7829\n",
      " 0.4553  0.3868  0.2269  1.4373\n",
      " 1.0676  1.4457  0.5221  0.2749\n",
      "[torch.FloatTensor of size 3x4]\n",
      "\n"
     ]
    }
   ],
   "source": [
    "print(torch.add(x,y))"
   ]
  },
  {
   "cell_type": "code",
   "execution_count": 8,
   "metadata": {},
   "outputs": [
    {
     "name": "stdout",
     "output_type": "stream",
     "text": [
      "\n",
      " 0.5464  0.8071  1.2016  1.7829\n",
      " 0.4553  0.3868  0.2269  1.4373\n",
      " 1.0676  1.4457  0.5221  0.2749\n",
      "[torch.FloatTensor of size 3x4]\n",
      "\n",
      "<class 'torch.FloatTensor'>\n"
     ]
    }
   ],
   "source": [
    "# assigning this to variable\n",
    "z = torch.add(x,y)\n",
    "print(z)\n",
    "print(type(z))"
   ]
  },
  {
   "cell_type": "code",
   "execution_count": 9,
   "metadata": {},
   "outputs": [
    {
     "name": "stdout",
     "output_type": "stream",
     "text": [
      "\n",
      " 0.5464  0.8071  1.2016  1.7829\n",
      " 0.4553  0.3868  0.2269  1.4373\n",
      " 1.0676  1.4457  0.5221  0.2749\n",
      "[torch.FloatTensor of size 3x4]\n",
      "\n"
     ]
    }
   ],
   "source": [
    "# OR\n",
    "z = torch.Tensor(3,4)   # initializing a Tensor of 3x4\n",
    "torch.add(x,y, out=z)\n",
    "print(z)"
   ]
  },
  {
   "cell_type": "code",
   "execution_count": 10,
   "metadata": {},
   "outputs": [
    {
     "name": "stdout",
     "output_type": "stream",
     "text": [
      "\n",
      " 0.2406  0.2390  0.8746  0.8197\n",
      " 0.2012  0.2397  0.1958  0.7598\n",
      " 0.8667  0.9738  0.1051  0.0239\n",
      "[torch.FloatTensor of size 3x4]\n",
      "\n",
      "\n",
      " 0.5464  0.8071  1.2016  1.7829\n",
      " 0.4553  0.3868  0.2269  1.4373\n",
      " 1.0676  1.4457  0.5221  0.2749\n",
      "[torch.FloatTensor of size 3x4]\n",
      "\n"
     ]
    }
   ],
   "source": [
    "# In place addition\n",
    "print(y)\n",
    "y.add_(x)\n",
    "print(y)"
   ]
  },
  {
   "cell_type": "markdown",
   "metadata": {},
   "source": [
    "### Numpy Bridge  \n",
    "\n",
    "** From Numpy to Torch Tensor **  "
   ]
  },
  {
   "cell_type": "code",
   "execution_count": 11,
   "metadata": {},
   "outputs": [
    {
     "name": "stdout",
     "output_type": "stream",
     "text": [
      "[ 1.  1.  1.  1.]\n",
      "<class 'numpy.ndarray'>\n"
     ]
    }
   ],
   "source": [
    "a = np.ones(4)\n",
    "print(a)\n",
    "print(type(a))"
   ]
  },
  {
   "cell_type": "code",
   "execution_count": 13,
   "metadata": {},
   "outputs": [
    {
     "name": "stdout",
     "output_type": "stream",
     "text": [
      "\n",
      " 1\n",
      " 1\n",
      " 1\n",
      " 1\n",
      "[torch.DoubleTensor of size 4]\n",
      "\n",
      "<class 'torch.DoubleTensor'>\n"
     ]
    }
   ],
   "source": [
    "a1 = torch.from_numpy(a)\n",
    "print(a1)\n",
    "print(type(a1))"
   ]
  },
  {
   "cell_type": "code",
   "execution_count": 14,
   "metadata": {},
   "outputs": [
    {
     "name": "stdout",
     "output_type": "stream",
     "text": [
      "[ 2.  2.  2.  2.]\n",
      "\n",
      " 1\n",
      " 1\n",
      " 1\n",
      " 1\n",
      "[torch.DoubleTensor of size 4]\n",
      "\n"
     ]
    }
   ],
   "source": [
    "# adding\n",
    "a=a+1\n",
    "print(a)\n",
    "print(a1)"
   ]
  },
  {
   "cell_type": "markdown",
   "metadata": {},
   "source": [
    "** From Tensor to Numpy **"
   ]
  },
  {
   "cell_type": "code",
   "execution_count": 15,
   "metadata": {},
   "outputs": [
    {
     "name": "stdout",
     "output_type": "stream",
     "text": [
      "\n",
      " 1\n",
      " 1\n",
      " 1\n",
      " 1\n",
      " 1\n",
      "[torch.FloatTensor of size 5]\n",
      "\n"
     ]
    }
   ],
   "source": [
    "b = torch.ones(5)\n",
    "print(b)"
   ]
  },
  {
   "cell_type": "code",
   "execution_count": 16,
   "metadata": {},
   "outputs": [
    {
     "name": "stdout",
     "output_type": "stream",
     "text": [
      "[ 1.  1.  1.  1.  1.] <class 'numpy.ndarray'>\n"
     ]
    }
   ],
   "source": [
    "b1 = b.numpy()\n",
    "print(b1, type(b1))"
   ]
  },
  {
   "cell_type": "code",
   "execution_count": 17,
   "metadata": {},
   "outputs": [
    {
     "name": "stdout",
     "output_type": "stream",
     "text": [
      "\n",
      " 2\n",
      " 2\n",
      " 2\n",
      " 2\n",
      " 2\n",
      "[torch.FloatTensor of size 5]\n",
      " [ 1.  1.  1.  1.  1.]\n"
     ]
    }
   ],
   "source": [
    "# adding\n",
    "\n",
    "b = b+1\n",
    "print(b, b1)"
   ]
  },
  {
   "cell_type": "code",
   "execution_count": 19,
   "metadata": {},
   "outputs": [
    {
     "name": "stdout",
     "output_type": "stream",
     "text": [
      "\n",
      " 3\n",
      " 3\n",
      " 3\n",
      " 3\n",
      " 3\n",
      "[torch.FloatTensor of size 5]\n",
      " [ 1.  1.  1.  1.  1.]\n"
     ]
    }
   ],
   "source": [
    "# in place addition\n",
    "b.add_(1)\n",
    "print(b, b1)"
   ]
  },
  {
   "cell_type": "markdown",
   "metadata": {},
   "source": [
    "** All in one place **"
   ]
  },
  {
   "cell_type": "code",
   "execution_count": 20,
   "metadata": {},
   "outputs": [
    {
     "name": "stdout",
     "output_type": "stream",
     "text": [
      "Initialized a and b\n",
      "a:  \n",
      " 1\n",
      " 1\n",
      " 1\n",
      " 1\n",
      " 1\n",
      " 1\n",
      "[torch.FloatTensor of size 6]\n",
      " <class 'torch.FloatTensor'>\n",
      "b:  [ 1.  1.  1.  1.  1.  1.] <class 'numpy.ndarray'>\n"
     ]
    }
   ],
   "source": [
    "a = torch.ones(6)\n",
    "b = a.numpy()\n",
    "print(\"Initialized a and b\")\n",
    "print(\"a: \",a, type(a))\n",
    "print(\"b: \",b, type(b))"
   ]
  },
  {
   "cell_type": "code",
   "execution_count": 21,
   "metadata": {},
   "outputs": [
    {
     "name": "stdout",
     "output_type": "stream",
     "text": [
      "\n",
      " 2\n",
      " 2\n",
      " 2\n",
      " 2\n",
      " 2\n",
      " 2\n",
      "[torch.FloatTensor of size 6]\n",
      "\n",
      "[ 2.  2.  2.  2.  2.  2.]\n"
     ]
    }
   ],
   "source": [
    "# in place addition to a\n",
    "a.add_(1)\n",
    "print(a)\n",
    "print(b)"
   ]
  },
  {
   "cell_type": "code",
   "execution_count": 22,
   "metadata": {},
   "outputs": [
    {
     "name": "stdout",
     "output_type": "stream",
     "text": [
      "\n",
      " 3\n",
      " 3\n",
      " 3\n",
      " 3\n",
      " 3\n",
      " 3\n",
      "[torch.FloatTensor of size 6]\n",
      "\n",
      "[ 2.  2.  2.  2.  2.  2.]\n"
     ]
    }
   ],
   "source": [
    "# regular addition to a\n",
    "a = a+1\n",
    "print(a)\n",
    "print(b)"
   ]
  },
  {
   "cell_type": "code",
   "execution_count": 24,
   "metadata": {},
   "outputs": [
    {
     "name": "stdout",
     "output_type": "stream",
     "text": [
      "[ 2.  2.  2.  2.  2.  2.] <class 'numpy.ndarray'>\n",
      "\n",
      " 2\n",
      " 2\n",
      " 2\n",
      " 2\n",
      " 2\n",
      " 2\n",
      "[torch.FloatTensor of size 6]\n",
      " <class 'torch.FloatTensor'>\n",
      "[ 3.  3.  3.  3.  3.  3.] <class 'numpy.ndarray'>\n"
     ]
    }
   ],
   "source": [
    "c = torch.from_numpy(b)\n",
    "d=np.add(b, 1)\n",
    "print(b,type(b))\n",
    "print(c,type(c))\n",
    "print(d,type(d))"
   ]
  },
  {
   "cell_type": "markdown",
   "metadata": {},
   "source": [
    "### Cuda Tensors"
   ]
  },
  {
   "cell_type": "code",
   "execution_count": 25,
   "metadata": {},
   "outputs": [],
   "source": [
    "if torch.cuda.is_available():\n",
    "    x = x.cuda()\n",
    "    y = y.cuda()\n",
    "    x + y"
   ]
  },
  {
   "cell_type": "code",
   "execution_count": 26,
   "metadata": {},
   "outputs": [
    {
     "data": {
      "text/plain": [
       "False"
      ]
     },
     "execution_count": 26,
     "metadata": {},
     "output_type": "execute_result"
    }
   ],
   "source": [
    "torch.cuda.is_available()"
   ]
  },
  {
   "cell_type": "code",
   "execution_count": null,
   "metadata": {},
   "outputs": [],
   "source": []
  }
 ],
 "metadata": {
  "kernelspec": {
   "display_name": "Python 3",
   "language": "python",
   "name": "python3"
  },
  "language_info": {
   "codemirror_mode": {
    "name": "ipython",
    "version": 3
   },
   "file_extension": ".py",
   "mimetype": "text/x-python",
   "name": "python",
   "nbconvert_exporter": "python",
   "pygments_lexer": "ipython3",
   "version": "3.6.2"
  }
 },
 "nbformat": 4,
 "nbformat_minor": 2
}
