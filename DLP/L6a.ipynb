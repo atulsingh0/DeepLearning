{
 "cells": [
  {
   "cell_type": "markdown",
   "metadata": {},
   "source": [
    "## 6. Deep Learning for Texts and Sequences"
   ]
  },
  {
   "cell_type": "code",
   "execution_count": 1,
   "metadata": {},
   "outputs": [],
   "source": [
    "# import\n",
    "import numpy as np"
   ]
  },
  {
   "cell_type": "code",
   "execution_count": 2,
   "metadata": {},
   "outputs": [
    {
     "name": "stderr",
     "output_type": "stream",
     "text": [
      "Using Theano backend.\n"
     ]
    }
   ],
   "source": [
    "from keras.preprocessing.text import Tokenizer"
   ]
  },
  {
   "cell_type": "code",
   "execution_count": 3,
   "metadata": {},
   "outputs": [],
   "source": [
    "samples = ['The cat sat on the mat.', 'The dog ate my homework.']"
   ]
  },
  {
   "cell_type": "markdown",
   "metadata": {},
   "source": [
    "### Using One-Hot encoder technique"
   ]
  },
  {
   "cell_type": "code",
   "execution_count": 4,
   "metadata": {},
   "outputs": [
    {
     "data": {
      "text/plain": [
       "{'The': 1,\n",
       " 'ate': 8,\n",
       " 'cat': 2,\n",
       " 'dog': 7,\n",
       " 'homework.': 10,\n",
       " 'mat.': 6,\n",
       " 'my': 9,\n",
       " 'on': 4,\n",
       " 'sat': 3,\n",
       " 'the': 5}"
      ]
     },
     "execution_count": 4,
     "metadata": {},
     "output_type": "execute_result"
    }
   ],
   "source": [
    "word_index = {}\n",
    "for sen in samples:\n",
    "    for word in sen.split():\n",
    "        if word not in word_index:\n",
    "            word_index[word] = len(word_index)+1\n",
    "word_index"
   ]
  },
  {
   "cell_type": "code",
   "execution_count": 5,
   "metadata": {},
   "outputs": [
    {
     "data": {
      "text/plain": [
       "array([[[ 0.,  1.,  0.,  0.,  0.,  0.,  0.,  0.,  0.,  0.,  0.],\n",
       "        [ 0.,  0.,  1.,  0.,  0.,  0.,  0.,  0.,  0.,  0.,  0.],\n",
       "        [ 0.,  0.,  0.,  1.,  0.,  0.,  0.,  0.,  0.,  0.,  0.],\n",
       "        [ 0.,  0.,  0.,  0.,  1.,  0.,  0.,  0.,  0.,  0.,  0.],\n",
       "        [ 0.,  0.,  0.,  0.,  0.,  1.,  0.,  0.,  0.,  0.,  0.],\n",
       "        [ 0.,  0.,  0.,  0.,  0.,  0.,  1.,  0.,  0.,  0.,  0.],\n",
       "        [ 0.,  0.,  0.,  0.,  0.,  0.,  0.,  0.,  0.,  0.,  0.],\n",
       "        [ 0.,  0.,  0.,  0.,  0.,  0.,  0.,  0.,  0.,  0.,  0.],\n",
       "        [ 0.,  0.,  0.,  0.,  0.,  0.,  0.,  0.,  0.,  0.,  0.],\n",
       "        [ 0.,  0.,  0.,  0.,  0.,  0.,  0.,  0.,  0.,  0.,  0.]],\n",
       "\n",
       "       [[ 0.,  1.,  0.,  0.,  0.,  0.,  0.,  0.,  0.,  0.,  0.],\n",
       "        [ 0.,  0.,  0.,  0.,  0.,  0.,  0.,  1.,  0.,  0.,  0.],\n",
       "        [ 0.,  0.,  0.,  0.,  0.,  0.,  0.,  0.,  1.,  0.,  0.],\n",
       "        [ 0.,  0.,  0.,  0.,  0.,  0.,  0.,  0.,  0.,  1.,  0.],\n",
       "        [ 0.,  0.,  0.,  0.,  0.,  0.,  0.,  0.,  0.,  0.,  1.],\n",
       "        [ 0.,  0.,  0.,  0.,  0.,  0.,  0.,  0.,  0.,  0.,  0.],\n",
       "        [ 0.,  0.,  0.,  0.,  0.,  0.,  0.,  0.,  0.,  0.,  0.],\n",
       "        [ 0.,  0.,  0.,  0.,  0.,  0.,  0.,  0.,  0.,  0.,  0.],\n",
       "        [ 0.,  0.,  0.,  0.,  0.,  0.,  0.,  0.,  0.,  0.,  0.],\n",
       "        [ 0.,  0.,  0.,  0.,  0.,  0.,  0.,  0.,  0.,  0.,  0.]]])"
      ]
     },
     "execution_count": 5,
     "metadata": {},
     "output_type": "execute_result"
    }
   ],
   "source": [
    "max_len = 10 \n",
    "onehot_samples = np.zeros((len(samples), max_len, len(word_index)+1))\n",
    "\n",
    "for idx, sent in enumerate(samples):\n",
    "    for j, word in list(enumerate(sent.split()))[:max_len]:\n",
    "        onehot_samples[idx, j, word_index.get(word)] = 1\n",
    "onehot_samples"
   ]
  },
  {
   "cell_type": "markdown",
   "metadata": {},
   "source": [
    "### Using Keras "
   ]
  },
  {
   "cell_type": "code",
   "execution_count": 6,
   "metadata": {},
   "outputs": [],
   "source": [
    "tokenizer = Tokenizer(num_words=1000)\n",
    "tokenizer.fit_on_texts(samples)"
   ]
  },
  {
   "cell_type": "code",
   "execution_count": 7,
   "metadata": {},
   "outputs": [
    {
     "data": {
      "text/plain": [
       "array([[ 0.,  1.,  1., ...,  0.,  0.,  0.],\n",
       "       [ 0.,  1.,  0., ...,  0.,  0.,  0.]])"
      ]
     },
     "execution_count": 7,
     "metadata": {},
     "output_type": "execute_result"
    }
   ],
   "source": [
    "oneHot_results = tokenizer.texts_to_matrix(samples)\n",
    "oneHot_results"
   ]
  },
  {
   "cell_type": "code",
   "execution_count": 8,
   "metadata": {},
   "outputs": [
    {
     "data": {
      "text/plain": [
       "[[1, 2, 3, 4, 1, 5], [1, 6, 7, 8, 9]]"
      ]
     },
     "execution_count": 8,
     "metadata": {},
     "output_type": "execute_result"
    }
   ],
   "source": [
    "# print word index in sentences\n",
    "sequncers = tokenizer.texts_to_sequences(samples)\n",
    "sequncers"
   ]
  },
  {
   "cell_type": "code",
   "execution_count": 9,
   "metadata": {},
   "outputs": [
    {
     "data": {
      "text/plain": [
       "{'ate': 7,\n",
       " 'cat': 2,\n",
       " 'dog': 6,\n",
       " 'homework': 9,\n",
       " 'mat': 5,\n",
       " 'my': 8,\n",
       " 'on': 4,\n",
       " 'sat': 3,\n",
       " 'the': 1}"
      ]
     },
     "execution_count": 9,
     "metadata": {},
     "output_type": "execute_result"
    }
   ],
   "source": [
    "# printing index\n",
    "tokenizer.word_index"
   ]
  },
  {
   "cell_type": "markdown",
   "metadata": {},
   "source": [
    "### Using Word Embeddings"
   ]
  },
  {
   "cell_type": "code",
   "execution_count": 10,
   "metadata": {},
   "outputs": [],
   "source": [
    "from keras.layers import Embedding, Dense\n",
    "from keras.datasets import imdb\n",
    "from keras import losses, metrics, optimizers, models, layers, preprocessing"
   ]
  },
  {
   "cell_type": "code",
   "execution_count": 11,
   "metadata": {},
   "outputs": [],
   "source": [
    "max_features = 10000\n",
    "maxlen = 20\n",
    "# loading data\n",
    "(train_data, train_label),(test_data, test_label) = imdb.load_data(num_words=max_features)"
   ]
  },
  {
   "cell_type": "code",
   "execution_count": 12,
   "metadata": {},
   "outputs": [],
   "source": [
    "# this will pad or truncate the data based on maximum length provided\n",
    "\n",
    "train_data = preprocessing.sequence.pad_sequences(train_data, maxlen=maxlen)\n",
    "test_data = preprocessing.sequence.pad_sequences(test_data, maxlen=maxlen)"
   ]
  },
  {
   "cell_type": "code",
   "execution_count": 13,
   "metadata": {},
   "outputs": [
    {
     "data": {
      "text/plain": [
       "(25000, 20)"
      ]
     },
     "execution_count": 13,
     "metadata": {},
     "output_type": "execute_result"
    }
   ],
   "source": [
    "train_data.shape"
   ]
  },
  {
   "cell_type": "code",
   "execution_count": 14,
   "metadata": {},
   "outputs": [
    {
     "data": {
      "text/plain": [
       "array([[  65,   62,   28,   93,    6,  227,   53,  281,  190, 6833,   99,\n",
       "         346,    8,    2,  101,   53,   58,   23,   14,   31],\n",
       "       [   8,    2,    5,  276,  145,  295,    8,   97,   14,    2,   21,\n",
       "          28,  484, 1196,  591,  798,   14,   20,  607,  624]])"
      ]
     },
     "execution_count": 14,
     "metadata": {},
     "output_type": "execute_result"
    }
   ],
   "source": [
    "train_data[:2]"
   ]
  },
  {
   "cell_type": "code",
   "execution_count": 15,
   "metadata": {},
   "outputs": [
    {
     "data": {
      "text/plain": [
       "20"
      ]
     },
     "execution_count": 15,
     "metadata": {},
     "output_type": "execute_result"
    }
   ],
   "source": [
    "len(train_data[0])"
   ]
  },
  {
   "cell_type": "code",
   "execution_count": 16,
   "metadata": {},
   "outputs": [
    {
     "name": "stdout",
     "output_type": "stream",
     "text": [
      "_________________________________________________________________\n",
      "Layer (type)                 Output Shape              Param #   \n",
      "=================================================================\n",
      "embedding_1 (Embedding)      (None, 20, 8)             80000     \n",
      "_________________________________________________________________\n",
      "flatten_1 (Flatten)          (None, 160)               0         \n",
      "_________________________________________________________________\n",
      "dense_1 (Dense)              (None, 1)                 161       \n",
      "=================================================================\n",
      "Total params: 80,161\n",
      "Trainable params: 80,161\n",
      "Non-trainable params: 0\n",
      "_________________________________________________________________\n"
     ]
    },
    {
     "name": "stderr",
     "output_type": "stream",
     "text": [
      "WARNING (theano.tensor.blas): We did not find a dynamic library in the library_dir of the library we use for blas. If you use ATLAS, make sure to compile it with dynamics library.\n"
     ]
    },
    {
     "name": "stdout",
     "output_type": "stream",
     "text": [
      "Train on 20000 samples, validate on 5000 samples\n",
      "Epoch 1/10\n",
      "\r",
      "   32/20000 [..............................] - ETA: 0s - loss: 0.6933 - acc: 0.5000\b\b\b\b\b\b\b\b\b\b\b\b\b\b\b\b\b\b\b\b\b\b\b\b\b\b\b\b\b\b\b\b\b\b\b\b\b\b\b\b\b\b\b\b\b\b\b\b\b\b\b\b\b\b\b\b\b\b\b\b\b\b\b\b\b\b\b\b\b\b\b\b\b\b\b\b\b\b\b\b\b\b\b\r",
      " 2272/20000 [==>...........................] - ETA: 0s - loss: 0.6924 - acc: 0.5114\b\b\b\b\b\b\b\b\b\b\b\b\b\b\b\b\b\b\b\b\b\b\b\b\b\b\b\b\b\b\b\b\b\b\b\b\b\b\b\b\b\b\b\b\b\b\b\b\b\b\b\b\b\b\b\b\b\b\b\b\b\b\b\b\b\b\b\b\b\b\b\b\b\b\b\b\b\b\b\b\b\b\b\r",
      " 4384/20000 [=====>........................] - ETA: 0s - loss: 0.6915 - acc: 0.5299\b\b\b\b\b\b\b\b\b\b\b\b\b\b\b\b\b\b\b\b\b\b\b\b\b\b\b\b\b\b\b\b\b\b\b\b\b\b\b\b\b\b\b\b\b\b\b\b\b\b\b\b\b\b\b\b\b\b\b\b\b\b\b\b\b\b\b\b\b\b\b\b\b\b\b\b\b\b\b\b\b\b\b\r",
      " 6816/20000 [=========>....................] - ETA: 0s - loss: 0.6906 - acc: 0.5434\b\b\b\b\b\b\b\b\b\b\b\b\b\b\b\b\b\b\b\b\b\b\b\b\b\b\b\b\b\b\b\b\b\b\b\b\b\b\b\b\b\b\b\b\b\b\b\b\b\b\b\b\b\b\b\b\b\b\b\b\b\b\b\b\b\b\b\b\b\b\b\b\b\b\b\b\b\b\b\b\b\b\b\r",
      " 9088/20000 [============>.................] - ETA: 0s - loss: 0.6889 - acc: 0.5562\b\b\b\b\b\b\b\b\b\b\b\b\b\b\b\b\b\b\b\b\b\b\b\b\b\b\b\b\b\b\b\b\b\b\b\b\b\b\b\b\b\b\b\b\b\b\b\b\b\b\b\b\b\b\b\b\b\b\b\b\b\b\b\b\b\b\b\b\b\b\b\b\b\b\b\b\b\b\b\b\b\b\b\r",
      "11136/20000 [===============>..............] - ETA: 0s - loss: 0.6869 - acc: 0.5709\b\b\b\b\b\b\b\b\b\b\b\b\b\b\b\b\b\b\b\b\b\b\b\b\b\b\b\b\b\b\b\b\b\b\b\b\b\b\b\b\b\b\b\b\b\b\b\b\b\b\b\b\b\b\b\b\b\b\b\b\b\b\b\b\b\b\b\b\b\b\b\b\b\b\b\b\b\b\b\b\b\b\b\r",
      "13152/20000 [==================>...........] - ETA: 0s - loss: 0.6842 - acc: 0.5856\b\b\b\b\b\b\b\b\b\b\b\b\b\b\b\b\b\b\b\b\b\b\b\b\b\b\b\b\b\b\b\b\b\b\b\b\b\b\b\b\b\b\b\b\b\b\b\b\b\b\b\b\b\b\b\b\b\b\b\b\b\b\b\b\b\b\b\b\b\b\b\b\b\b\b\b\b\b\b\b\b\b\b\r",
      "15552/20000 [======================>.......] - ETA: 0s - loss: 0.6798 - acc: 0.5990\b\b\b\b\b\b\b\b\b\b\b\b\b\b\b\b\b\b\b\b\b\b\b\b\b\b\b\b\b\b\b\b\b\b\b\b\b\b\b\b\b\b\b\b\b\b\b\b\b\b\b\b\b\b\b\b\b\b\b\b\b\b\b\b\b\b\b\b\b\b\b\b\b\b\b\b\b\b\b\b\b\b\b\r",
      "17920/20000 [=========================>....] - ETA: 0s - loss: 0.6749 - acc: 0.6122\b\b\b\b\b\b\b\b\b\b\b\b\b\b\b\b\b\b\b\b\b\b\b\b\b\b\b\b\b\b\b\b\b\b\b\b\b\b\b\b\b\b\b\b\b\b\b\b\b\b\b\b\b\b\b\b\b\b\b\b\b\b\b\b\b\b\b\b\b\b\b\b\b\b\b\b\b\b\b\b\b\b\b\r",
      "20000/20000 [==============================] - 0s 24us/step - loss: 0.6698 - acc: 0.6210 - val_loss: 0.6183 - val_acc: 0.7094\n",
      "Epoch 2/10\n",
      "\r",
      "   32/20000 [..............................] - ETA: 0s - loss: 0.6049 - acc: 0.7500\b\b\b\b\b\b\b\b\b\b\b\b\b\b\b\b\b\b\b\b\b\b\b\b\b\b\b\b\b\b\b\b\b\b\b\b\b\b\b\b\b\b\b\b\b\b\b\b\b\b\b\b\b\b\b\b\b\b\b\b\b\b\b\b\b\b\b\b\b\b\b\b\b\b\b\b\b\b\b\b\b\b\b\r",
      " 2240/20000 [==>...........................] - ETA: 0s - loss: 0.5992 - acc: 0.7263\b\b\b\b\b\b\b\b\b\b\b\b\b\b\b\b\b\b\b\b\b\b\b\b\b\b\b\b\b\b\b\b\b\b\b\b\b\b\b\b\b\b\b\b\b\b\b\b\b\b\b\b\b\b\b\b\b\b\b\b\b\b\b\b\b\b\b\b\b\b\b\b\b\b\b\b\b\b\b\b\b\b\b\r",
      " 4544/20000 [=====>........................] - ETA: 0s - loss: 0.5927 - acc: 0.7287\b\b\b\b\b\b\b\b\b\b\b\b\b\b\b\b\b\b\b\b\b\b\b\b\b\b\b\b\b\b\b\b\b\b\b\b\b\b\b\b\b\b\b\b\b\b\b\b\b\b\b\b\b\b\b\b\b\b\b\b\b\b\b\b\b\b\b\b\b\b\b\b\b\b\b\b\b\b\b\b\b\b\b\r",
      " 6432/20000 [========>.....................] - ETA: 0s - loss: 0.5807 - acc: 0.7408\b\b\b\b\b\b\b\b\b\b\b\b\b\b\b\b\b\b\b\b\b\b\b\b\b\b\b\b\b\b\b\b\b\b\b\b\b\b\b\b\b\b\b\b\b\b\b\b\b\b\b\b\b\b\b\b\b\b\b\b\b\b\b\b\b\b\b\b\b\b\b\b\b\b\b\b\b\b\b\b\b\b\b\r",
      " 9216/20000 [============>.................] - ETA: 0s - loss: 0.5692 - acc: 0.7469\b\b\b\b\b\b\b\b\b\b\b\b\b\b\b\b\b\b\b\b\b\b\b\b\b\b\b\b\b\b\b\b\b\b\b\b\b\b\b\b\b\b\b\b\b\b\b\b\b\b\b\b\b\b\b\b\b\b\b\b\b\b\b\b\b\b\b\b\b\b\b\b\b\b\b\b\b\b\b\b\b\b\b\r",
      "12160/20000 [=================>............] - ETA: 0s - loss: 0.5608 - acc: 0.7475\b\b\b\b\b\b\b\b\b\b\b\b\b\b\b\b\b\b\b\b\b\b\b\b\b\b\b\b\b\b\b\b\b\b\b\b\b\b\b\b\b\b\b\b\b\b\b\b\b\b\b\b\b\b\b\b\b\b\b\b\b\b\b\b\b\b\b\b\b\b\b\b\b\b\b\b\b\b\b\b\b\b\b\r",
      "15264/20000 [=====================>........] - ETA: 0s - loss: 0.5531 - acc: 0.7480\b\b\b\b\b\b\b\b\b\b\b\b\b\b\b\b\b\b\b\b\b\b\b\b\b\b\b\b\b\b\b\b\b\b\b\b\b\b\b\b\b\b\b\b\b\b\b\b\b\b\b\b\b\b\b\b\b\b\b\b\b\b\b\b\b\b\b\b\b\b\b\b\b\b\b\b\b\b\b\b\b\b\b\r",
      "18048/20000 [==========================>...] - ETA: 0s - loss: 0.5480 - acc: 0.7477\b\b\b\b\b\b\b\b\b\b\b\b\b\b\b\b\b\b\b\b\b\b\b\b\b\b\b\b\b\b\b\b\b\b\b\b\b\b\b\b\b\b\b\b\b\b\b\b\b\b\b\b\b\b\b\b\b\b\b\b\b\b\b\b\b\b\b\b\b\b\b\b\b\b\b\b\b\b\b\b\b\b\b\r",
      "20000/20000 [==============================] - 0s 23us/step - loss: 0.5436 - acc: 0.7498 - val_loss: 0.5205 - val_acc: 0.7382\n",
      "Epoch 3/10\n",
      "\r",
      "   32/20000 [..............................] - ETA: 0s - loss: 0.5051 - acc: 0.8125\b\b\b\b\b\b\b\b\b\b\b\b\b\b\b\b\b\b\b\b\b\b\b\b\b\b\b\b\b\b\b\b\b\b\b\b\b\b\b\b\b\b\b\b\b\b\b\b\b\b\b\b\b\b\b\b\b\b\b\b\b\b\b\b\b\b\b\b\b\b\b\b\b\b\b\b\b\b\b\b\b\b\b\r",
      " 2368/20000 [==>...........................] - ETA: 0s - loss: 0.4727 - acc: 0.7943\b\b\b\b\b\b\b\b\b\b\b\b\b\b\b\b\b\b\b\b\b\b\b\b\b\b\b\b\b\b\b\b\b\b\b\b\b\b\b\b\b\b\b\b\b\b\b\b\b\b\b\b\b\b\b\b\b\b\b\b\b\b\b\b\b\b\b\b\b\b\b\b\b\b\b\b\b\b\b\b\b\b\b\r",
      " 4736/20000 [======>.......................] - ETA: 0s - loss: 0.4722 - acc: 0.7899\b\b\b\b\b\b\b\b\b\b\b\b\b\b\b\b\b\b\b\b\b\b\b\b\b\b\b\b\b\b\b\b\b\b\b\b\b\b\b\b\b\b\b\b\b\b\b\b\b\b\b\b\b\b\b\b\b\b\b\b\b\b\b\b\b\b\b\b\b\b\b\b\b\b\b\b\b\b\b\b\b\b\b\r",
      " 6912/20000 [=========>....................] - ETA: 0s - loss: 0.4705 - acc: 0.7879\b\b\b\b\b\b\b\b\b\b\b\b\b\b\b\b\b\b\b\b\b\b\b\b\b\b\b\b\b\b\b\b\b\b\b\b\b\b\b\b\b\b\b\b\b\b\b\b\b\b\b\b\b\b\b\b\b\b\b\b\b\b\b\b\b\b\b\b\b\b\b\b\b\b\b\b\b\b\b\b\b\b\b\r",
      " 9312/20000 [============>.................] - ETA: 0s - loss: 0.4689 - acc: 0.7870\b\b\b\b\b\b\b\b\b\b\b\b\b\b\b\b\b\b\b\b\b\b\b\b\b\b\b\b\b\b\b\b\b\b\b\b\b\b\b\b\b\b\b\b\b\b\b\b\b\b\b\b\b\b\b\b\b\b\b\b\b\b\b\b\b\b\b\b\b\b\b\b\b\b\b\b\b\b\b\b\b\b\b\r",
      "12192/20000 [=================>............] - ETA: 0s - loss: 0.4689 - acc: 0.7844\b\b\b\b\b\b\b\b\b\b\b\b\b\b\b\b\b\b\b\b\b\b\b\b\b\b\b\b\b\b\b\b\b\b\b\b\b\b\b\b\b\b\b\b\b\b\b\b\b\b\b\b\b\b\b\b\b\b\b\b\b\b\b\b\b\b\b\b\b\b\b\b\b\b\b\b\b\b\b\b\b\b\b\r",
      "15104/20000 [=====================>........] - ETA: 0s - loss: 0.4669 - acc: 0.7838\b\b\b\b\b\b\b\b\b\b\b\b\b\b\b\b\b\b\b\b\b\b\b\b\b\b\b\b\b\b\b\b\b\b\b\b\b\b\b\b\b\b\b\b\b\b\b\b\b\b\b\b\b\b\b\b\b\b\b\b\b\b\b\b\b\b\b\b\b\b\b\b\b\b\b\b\b\b\b\b\b\b\b\r",
      "17344/20000 [=========================>....] - ETA: 0s - loss: 0.4663 - acc: 0.7838\b\b\b\b\b\b\b\b\b\b\b\b\b\b\b\b\b\b\b\b\b\b\b\b\b\b\b\b\b\b\b\b\b\b\b\b\b\b\b\b\b\b\b\b\b\b\b\b\b\b\b\b\b\b\b\b\b\b\b\b\b\b\b\b\b\b\b\b\b\b\b\b\b\b\b\b\b\b\b\b\b\b\b\r",
      "19680/20000 [============================>.] - ETA: 0s - loss: 0.4654 - acc: 0.7838\b\b\b\b\b\b\b\b\b\b\b\b\b\b\b\b\b\b\b\b\b\b\b\b\b\b\b\b\b\b\b\b\b\b\b\b\b\b\b\b\b\b\b\b\b\b\b\b\b\b\b\b\b\b\b\b\b\b\b\b\b\b\b\b\b\b\b\b\b\b\b\b\b\b\b\b\b\b\b\b\b\b\b\r",
      "20000/20000 [==============================] - 0s 23us/step - loss: 0.4647 - acc: 0.7841 - val_loss: 0.4934 - val_acc: 0.7504\n",
      "Epoch 4/10\n",
      "\r",
      "   32/20000 [..............................] - ETA: 2s - loss: 0.4494 - acc: 0.7812\b\b\b\b\b\b\b\b\b\b\b\b\b\b\b\b\b\b\b\b\b\b\b\b\b\b\b\b\b\b\b\b\b\b\b\b\b\b\b\b\b\b\b\b\b\b\b\b\b\b\b\b\b\b\b\b\b\b\b\b\b\b\b\b\b\b\b\b\b\b\b\b\b\b\b\b\b\b\b\b\b\b\b\r",
      " 2336/20000 [==>...........................] - ETA: 0s - loss: 0.4343 - acc: 0.7984\b\b\b\b\b\b\b\b\b\b\b\b\b\b\b\b\b\b\b\b\b\b\b\b\b\b\b\b\b\b\b\b\b\b\b\b\b\b\b\b\b\b\b\b\b\b\b\b\b\b\b\b\b\b\b\b\b\b\b\b\b\b\b\b\b\b\b\b\b\b\b\b\b\b\b\b\b\b\b\b\b\b\b\r",
      " 4096/20000 [=====>........................] - ETA: 0s - loss: 0.4252 - acc: 0.8015\b\b\b\b\b\b\b\b\b\b\b\b\b\b\b\b\b\b\b\b\b\b\b\b\b\b\b\b\b\b\b\b\b\b\b\b\b\b\b\b\b\b\b\b\b\b\b\b\b\b\b\b\b\b\b\b\b\b\b\b\b\b\b\b\b\b\b\b\b\b\b\b\b\b\b\b\b\b\b\b\b\b\b\r",
      " 6496/20000 [========>.....................] - ETA: 0s - loss: 0.4260 - acc: 0.8020\b\b\b\b\b\b\b\b\b\b\b\b\b\b\b\b\b\b\b\b\b\b\b\b\b\b\b\b\b\b\b\b\b\b\b\b\b\b\b\b\b\b\b\b\b\b\b\b\b\b\b\b\b\b\b\b\b\b\b\b\b\b\b\b\b\b\b\b\b\b\b\b\b\b\b\b\b\b\b\b\b\b\b\r",
      " 8832/20000 [============>.................] - ETA: 0s - loss: 0.4248 - acc: 0.8051\b\b\b\b\b\b\b\b\b\b\b\b\b\b\b\b\b\b\b\b\b\b\b\b\b\b\b\b\b\b\b\b\b\b\b\b\b\b\b\b\b\b\b\b\b\b\b\b\b\b\b\b\b\b\b\b\b\b\b\b\b\b\b\b\b\b\b\b\b\b\b\b\b\b\b\b\b\b\b\b\b\b\b\r",
      "11072/20000 [===============>..............] - ETA: 0s - loss: 0.4246 - acc: 0.8042\b\b\b\b\b\b\b\b\b\b\b\b\b\b\b\b\b\b\b\b\b\b\b\b\b\b\b\b\b\b\b\b\b\b\b\b\b\b\b\b\b\b\b\b\b\b\b\b\b\b\b\b\b\b\b\b\b\b\b\b\b\b\b\b\b\b\b\b\b\b\b\b\b\b\b\b\b\b\b\b\b\b\b\r",
      "14176/20000 [====================>.........] - ETA: 0s - loss: 0.4218 - acc: 0.8063\b\b\b\b\b\b\b\b\b\b\b\b\b\b\b\b\b\b\b\b\b\b\b\b\b\b\b\b\b\b\b\b\b\b\b\b\b\b\b\b\b\b\b\b\b\b\b\b\b\b\b\b\b\b\b\b\b\b\b\b\b\b\b\b\b\b\b\b\b\b\b\b\b\b\b\b\b\b\b\b\b\b\b\r",
      "17184/20000 [========================>.....] - ETA: 0s - loss: 0.4237 - acc: 0.8060\b\b\b\b\b\b\b\b\b\b\b\b\b\b\b\b\b\b\b\b\b\b\b\b\b\b\b\b\b\b\b\b\b\b\b\b\b\b\b\b\b\b\b\b\b\b\b\b\b\b\b\b\b\b\b\b\b\b\b\b\b\b\b\b\b\b\b\b\b\b\b\b\b\b\b\b\b\b\b\b\b\b\b\r",
      "20000/20000 [==============================] - 0s 23us/step - loss: 0.4256 - acc: 0.8048 - val_loss: 0.4879 - val_acc: 0.7570\n",
      "Epoch 5/10\n",
      "\r",
      "   32/20000 [..............................] - ETA: 0s - loss: 0.4552 - acc: 0.7812\b\b\b\b\b\b\b\b\b\b\b\b\b\b\b\b\b\b\b\b\b\b\b\b\b\b\b\b\b\b\b\b\b\b\b\b\b\b\b\b\b\b\b\b\b\b\b\b\b\b\b\b\b\b\b\b\b\b\b\b\b\b\b\b\b\b\b\b\b\b\b\b\b\b\b\b\b\b\b\b\b\b\b\r",
      " 2144/20000 [==>...........................] - ETA: 0s - loss: 0.3931 - acc: 0.8316\b\b\b\b\b\b\b\b\b\b\b\b\b\b\b\b\b\b\b\b\b\b\b\b\b\b\b\b\b\b\b\b\b\b\b\b\b\b\b\b\b\b\b\b\b\b\b\b\b\b\b\b\b\b\b\b\b\b\b\b\b\b\b\b\b\b\b\b\b\b\b\b\b\b\b\b\b\b\b\b\b\b\b\r",
      " 4736/20000 [======>.......................] - ETA: 0s - loss: 0.3971 - acc: 0.8256\b\b\b\b\b\b\b\b\b\b\b\b\b\b\b\b\b\b\b\b\b\b\b\b\b\b\b\b\b\b\b\b\b\b\b\b\b\b\b\b\b\b\b\b\b\b\b\b\b\b\b\b\b\b\b\b\b\b\b\b\b\b\b\b\b\b\b\b\b\b\b\b\b\b\b\b\b\b\b\b\b\b\b\r",
      " 7648/20000 [==========>...................] - ETA: 0s - loss: 0.3939 - acc: 0.8256\b\b\b\b\b\b\b\b\b\b\b\b\b\b\b\b\b\b\b\b\b\b\b\b\b\b\b\b\b\b\b\b\b\b\b\b\b\b\b\b\b\b\b\b\b\b\b\b\b\b\b\b\b\b\b\b\b\b\b\b\b\b\b\b\b\b\b\b\b\b\b\b\b\b\b\b\b\b\b\b\b\b\b\r",
      "10624/20000 [==============>...............] - ETA: 0s - loss: 0.3935 - acc: 0.8250\b\b\b\b\b\b\b\b\b\b\b\b\b\b\b\b\b\b\b\b\b\b\b\b\b\b\b\b\b\b\b\b\b\b\b\b\b\b\b\b\b\b\b\b\b\b\b\b\b\b\b\b\b\b\b\b\b\b\b\b\b\b\b\b\b\b\b\b\b\b\b\b\b\b\b\b\b\b\b\b\b\b\b\r",
      "13568/20000 [===================>..........] - ETA: 0s - loss: 0.3951 - acc: 0.8228\b\b\b\b\b\b\b\b\b\b\b\b\b\b\b\b\b\b\b\b\b\b\b\b\b\b\b\b\b\b\b\b\b\b\b\b\b\b\b\b\b\b\b\b\b\b\b\b\b\b\b\b\b\b\b\b\b\b\b\b\b\b\b\b\b\b\b\b\b\b\b\b\b\b\b\b\b\b\b\b\b\b\b\r",
      "16352/20000 [=======================>......] - ETA: 0s - loss: 0.3973 - acc: 0.8206\b\b\b\b\b\b\b\b\b\b\b\b\b\b\b\b\b\b\b\b\b\b\b\b\b\b\b\b\b\b\b\b\b\b\b\b\b\b\b\b\b\b\b\b\b\b\b\b\b\b\b\b\b\b\b\b\b\b\b\b\b\b\b\b\b\b\b\b\b\b\b\b\b\b\b\b\b\b\b\b\b\b\b\r",
      "19456/20000 [============================>.] - ETA: 0s - loss: 0.3983 - acc: 0.8201\b\b\b\b\b\b\b\b\b\b\b\b\b\b\b\b\b\b\b\b\b\b\b\b\b\b\b\b\b\b\b\b\b\b\b\b\b\b\b\b\b\b\b\b\b\b\b\b\b\b\b\b\b\b\b\b\b\b\b\b\b\b\b\b\b\b\b\b\b\b\b\b\b\b\b\b\b\b\b\b\b\b\b\r",
      "20000/20000 [==============================] - 0s 23us/step - loss: 0.3987 - acc: 0.8196 - val_loss: 0.4889 - val_acc: 0.7566\n",
      "Epoch 6/10\n",
      "\r",
      "   32/20000 [..............................] - ETA: 9s - loss: 0.3947 - acc: 0.8750\b\b\b\b\b\b\b\b\b\b\b\b\b\b\b\b\b\b\b\b\b\b\b\b\b\b\b\b\b\b\b\b\b\b\b\b\b\b\b\b\b\b\b\b\b\b\b\b\b\b\b\b\b\b\b\b\b\b\b\b\b\b\b\b\b\b\b\b\b\b\b\b\b\b\b\b\b\b\b\b\b\b\b\r",
      " 2816/20000 [===>..........................] - ETA: 0s - loss: 0.3817 - acc: 0.8281\b\b\b\b\b\b\b\b\b\b\b\b\b\b\b\b\b\b\b\b\b\b\b\b\b\b\b\b\b\b\b\b\b\b\b\b\b\b\b\b\b\b\b\b\b\b\b\b\b\b\b\b\b\b\b\b\b\b\b\b\b\b\b\b\b\b\b\b\b\b\b\b\b\b\b\b\b\b\b\b\b\b\b\r",
      " 5888/20000 [=======>......................] - ETA: 0s - loss: 0.3719 - acc: 0.8346\b\b\b\b\b\b\b\b\b\b\b\b\b\b\b\b\b\b\b\b\b\b\b\b\b\b\b\b\b\b\b\b\b\b\b\b\b\b\b\b\b\b\b\b\b\b\b\b\b\b\b\b\b\b\b\b\b\b\b\b\b\b\b\b\b\b\b\b\b\b\b\b\b\b\b\b\b\b\b\b\b\b\b\r",
      " 8800/20000 [============>.................] - ETA: 0s - loss: 0.3755 - acc: 0.8347\b\b\b\b\b\b\b\b\b\b\b\b\b\b\b\b\b\b\b\b\b\b\b\b\b\b\b\b\b\b\b\b\b\b\b\b\b\b\b\b\b\b\b\b\b\b\b\b\b\b\b\b\b\b\b\b\b\b\b\b\b\b\b\b\b\b\b\b\b\b\b\b\b\b\b\b\b\b\b\b\b\b\b\r",
      "11808/20000 [================>.............] - ETA: 0s - loss: 0.3750 - acc: 0.8349\b\b\b\b\b\b\b\b\b\b\b\b\b\b\b\b\b\b\b\b\b\b\b\b\b\b\b\b\b\b\b\b\b\b\b\b\b\b\b\b\b\b\b\b\b\b\b\b\b\b\b\b\b\b\b\b\b\b\b\b\b\b\b\b\b\b\b\b\b\b\b\b\b\b\b\b\b\b\b\b\b\b\b\r",
      "14784/20000 [=====================>........] - ETA: 0s - loss: 0.3770 - acc: 0.8325\b\b\b\b\b\b\b\b\b\b\b\b\b\b\b\b\b\b\b\b\b\b\b\b\b\b\b\b\b\b\b\b\b\b\b\b\b\b\b\b\b\b\b\b\b\b\b\b\b\b\b\b\b\b\b\b\b\b\b\b\b\b\b\b\b\b\b\b\b\b\b\b\b\b\b\b\b\b\b\b\b\b\b\r",
      "17600/20000 [=========================>....] - ETA: 0s - loss: 0.3760 - acc: 0.8342\b\b\b\b\b\b\b\b\b\b\b\b\b\b\b\b\b\b\b\b\b\b\b\b\b\b\b\b\b\b\b\b\b\b\b\b\b\b\b\b\b\b\b\b\b\b\b\b\b\b\b\b\b\b\b\b\b\b\b\b\b\b\b\b\b\b\b\b\b\b\b\b\b\b\b\b\b\b\b\b\b\b\b\r",
      "20000/20000 [==============================] - 0s 23us/step - loss: 0.3762 - acc: 0.8336 - val_loss: 0.4926 - val_acc: 0.7588\n",
      "Epoch 7/10\n",
      "\r",
      "   32/20000 [..............................] - ETA: 0s - loss: 0.2815 - acc: 0.9062\b\b\b\b\b\b\b\b\b\b\b\b\b\b\b\b\b\b\b\b\b\b\b\b\b\b\b\b\b\b\b\b\b\b\b\b\b\b\b\b\b\b\b\b\b\b\b\b\b\b\b\b\b\b\b\b\b\b\b\b\b\b\b\b\b\b\b\b\b\b\b\b\b\b\b\b\b\b\b\b\b\b\b\r",
      " 2624/20000 [==>...........................] - ETA: 0s - loss: 0.3599 - acc: 0.8438\b\b\b\b\b\b\b\b\b\b\b\b\b\b\b\b\b\b\b\b\b\b\b\b\b\b\b\b\b\b\b\b\b\b\b\b\b\b\b\b\b\b\b\b\b\b\b\b\b\b\b\b\b\b\b\b\b\b\b\b\b\b\b\b\b\b\b\b\b\b\b\b\b\b\b\b\b\b\b\b\b\b\b\r",
      " 4832/20000 [======>.......................] - ETA: 0s - loss: 0.3598 - acc: 0.8421\b\b\b\b\b\b\b\b\b\b\b\b\b\b\b\b\b\b\b\b\b\b\b\b\b\b\b\b\b\b\b\b\b\b\b\b\b\b\b\b\b\b\b\b\b\b\b\b\b\b\b\b\b\b\b\b\b\b\b\b\b\b\b\b\b\b\b\b\b\b\b\b\b\b\b\b\b\b\b\b\b\b\b\r",
      " 7488/20000 [==========>...................] - ETA: 0s - loss: 0.3618 - acc: 0.8423\b\b\b\b\b\b\b\b\b\b\b\b\b\b\b\b\b\b\b\b\b\b\b\b\b\b\b\b\b\b\b\b\b\b\b\b\b\b\b\b\b\b\b\b\b\b\b\b\b\b\b\b\b\b\b\b\b\b\b\b\b\b\b\b\b\b\b\b\b\b\b\b\b\b\b\b\b\b\b\b\b\b\b\r",
      "10592/20000 [==============>...............] - ETA: 0s - loss: 0.3582 - acc: 0.8463\b\b\b\b\b\b\b\b\b\b\b\b\b\b\b\b\b\b\b\b\b\b\b\b\b\b\b\b\b\b\b\b\b\b\b\b\b\b\b\b\b\b\b\b\b\b\b\b\b\b\b\b\b\b\b\b\b\b\b\b\b\b\b\b\b\b\b\b\b\b\b\b\b\b\b\b\b\b\b\b\b\b\b\r",
      "13504/20000 [===================>..........] - ETA: 0s - loss: 0.3592 - acc: 0.8443\b\b\b\b\b\b\b\b\b\b\b\b\b\b\b\b\b\b\b\b\b\b\b\b\b\b\b\b\b\b\b\b\b\b\b\b\b\b\b\b\b\b\b\b\b\b\b\b\b\b\b\b\b\b\b\b\b\b\b\b\b\b\b\b\b\b\b\b\b\b\b\b\b\b\b\b\b\b\b\b\b\b\b\r",
      "16064/20000 [=======================>......] - ETA: 0s - loss: 0.3568 - acc: 0.8459\b\b\b\b\b\b\b\b\b\b\b\b\b\b\b\b\b\b\b\b\b\b\b\b\b\b\b\b\b\b\b\b\b\b\b\b\b\b\b\b\b\b\b\b\b\b\b\b\b\b\b\b\b\b\b\b\b\b\b\b\b\b\b\b\b\b\b\b\b\b\b\b\b\b\b\b\b\b\b\b\b\b\b\r",
      "19136/20000 [===========================>..] - ETA: 0s - loss: 0.3564 - acc: 0.8459\b\b\b\b\b\b\b\b\b\b\b\b\b\b\b\b\b\b\b\b\b\b\b\b\b\b\b\b\b\b\b\b\b\b\b\b\b\b\b\b\b\b\b\b\b\b\b\b\b\b\b\b\b\b\b\b\b\b\b\b\b\b\b\b\b\b\b\b\b\b\b\b\b\b\b\b\b\b\b\b\b\b\b\r",
      "20000/20000 [==============================] - 0s 23us/step - loss: 0.3570 - acc: 0.8455 - val_loss: 0.4973 - val_acc: 0.7576\n",
      "Epoch 8/10\n",
      "\r",
      "   32/20000 [..............................] - ETA: 0s - loss: 0.4564 - acc: 0.7812\b\b\b\b\b\b\b\b\b\b\b\b\b\b\b\b\b\b\b\b\b\b\b\b\b\b\b\b\b\b\b\b\b\b\b\b\b\b\b\b\b\b\b\b\b\b\b\b\b\b\b\b\b\b\b\b\b\b\b\b\b\b\b\b\b\b\b\b\b\b\b\b\b\b\b\b\b\b\b\b\b\b\b\r",
      " 2592/20000 [==>...........................] - ETA: 0s - loss: 0.3527 - acc: 0.8457\b\b\b\b\b\b\b\b\b\b\b\b\b\b\b\b\b\b\b\b\b\b\b\b\b\b\b\b\b\b\b\b\b\b\b\b\b\b\b\b\b\b\b\b\b\b\b\b\b\b\b\b\b\b\b\b\b\b\b\b\b\b\b\b\b\b\b\b\b\b\b\b\b\b\b\b\b\b\b\b\b\b\b\r",
      " 5472/20000 [=======>......................] - ETA: 0s - loss: 0.3428 - acc: 0.8554\b\b\b\b\b\b\b\b\b\b\b\b\b\b\b\b\b\b\b\b\b\b\b\b\b\b\b\b\b\b\b\b\b\b\b\b\b\b\b\b\b\b\b\b\b\b\b\b\b\b\b\b\b\b\b\b\b\b\b\b\b\b\b\b\b\b\b\b\b\b\b\b\b\b\b\b\b\b\b\b\b\b\b\r",
      " 8384/20000 [===========>..................] - ETA: 0s - loss: 0.3394 - acc: 0.8583\b\b\b\b\b\b\b\b\b\b\b\b\b\b\b\b\b\b\b\b\b\b\b\b\b\b\b\b\b\b\b\b\b\b\b\b\b\b\b\b\b\b\b\b\b\b\b\b\b\b\b\b\b\b\b\b\b\b\b\b\b\b\b\b\b\b\b\b\b\b\b\b\b\b\b\b\b\b\b\b\b\b\b\r",
      "11168/20000 [===============>..............] - ETA: 0s - loss: 0.3389 - acc: 0.8583\b\b\b\b\b\b\b\b\b\b\b\b\b\b\b\b\b\b\b\b\b\b\b\b\b\b\b\b\b\b\b\b\b\b\b\b\b\b\b\b\b\b\b\b\b\b\b\b\b\b\b\b\b\b\b\b\b\b\b\b\b\b\b\b\b\b\b\b\b\b\b\b\b\b\b\b\b\b\b\b\b\b\b\r",
      "13856/20000 [===================>..........] - ETA: 0s - loss: 0.3375 - acc: 0.8586\b\b\b\b\b\b\b\b\b\b\b\b\b\b\b\b\b\b\b\b\b\b\b\b\b\b\b\b\b\b\b\b\b\b\b\b\b\b\b\b\b\b\b\b\b\b\b\b\b\b\b\b\b\b\b\b\b\b\b\b\b\b\b\b\b\b\b\b\b\b\b\b\b\b\b\b\b\b\b\b\b\b\b\r",
      "16864/20000 [========================>.....] - ETA: 0s - loss: 0.3383 - acc: 0.8565\b\b\b\b\b\b\b\b\b\b\b\b\b\b\b\b\b\b\b\b\b\b\b\b\b\b\b\b\b\b\b\b\b\b\b\b\b\b\b\b\b\b\b\b\b\b\b\b\b\b\b\b\b\b\b\b\b\b\b\b\b\b\b\b\b\b\b\b\b\b\b\b\b\b\b\b\b\b\b\b\b\b\b\r",
      "19488/20000 [============================>.] - ETA: 0s - loss: 0.3394 - acc: 0.8551\b\b\b\b\b\b\b\b\b\b\b\b\b\b\b\b\b\b\b\b\b\b\b\b\b\b\b\b\b\b\b\b\b\b\b\b\b\b\b\b\b\b\b\b\b\b\b\b\b\b\b\b\b\b\b\b\b\b\b\b\b\b\b\b\b\b\b\b\b\b\b\b\b\b\b\b\b\b\b\b\b\b\b\r",
      "20000/20000 [==============================] - 0s 23us/step - loss: 0.3395 - acc: 0.8552 - val_loss: 0.5033 - val_acc: 0.7548\n",
      "Epoch 9/10\n",
      "\r",
      "   32/20000 [..............................] - ETA: 9s - loss: 0.2450 - acc: 0.9062\b\b\b\b\b\b\b\b\b\b\b\b\b\b\b\b\b\b\b\b\b\b\b\b\b\b\b\b\b\b\b\b\b\b\b\b\b\b\b\b\b\b\b\b\b\b\b\b\b\b\b\b\b\b\b\b\b\b\b\b\b\b\b\b\b\b\b\b\b\b\b\b\b\b\b\b\b\b\b\b\b\b\b\r",
      " 3168/20000 [===>..........................] - ETA: 0s - loss: 0.3161 - acc: 0.8674\b\b\b\b\b\b\b\b\b\b\b\b\b\b\b\b\b\b\b\b\b\b\b\b\b\b\b\b\b\b\b\b\b\b\b\b\b\b\b\b\b\b\b\b\b\b\b\b\b\b\b\b\b\b\b\b\b\b\b\b\b\b\b\b\b\b\b\b\b\b\b\b\b\b\b\b\b\b\b\b\b\b\b\r",
      " 5952/20000 [=======>......................] - ETA: 0s - loss: 0.3097 - acc: 0.8701\b\b\b\b\b\b\b\b\b\b\b\b\b\b\b\b\b\b\b\b\b\b\b\b\b\b\b\b\b\b\b\b\b\b\b\b\b\b\b\b\b\b\b\b\b\b\b\b\b\b\b\b\b\b\b\b\b\b\b\b\b\b\b\b\b\b\b\b\b\b\b\b\b\b\b\b\b\b\b\b\b\b\b\r",
      " 8864/20000 [============>.................] - ETA: 0s - loss: 0.3144 - acc: 0.8685\b\b\b\b\b\b\b\b\b\b\b\b\b\b\b\b\b\b\b\b\b\b\b\b\b\b\b\b\b\b\b\b\b\b\b\b\b\b\b\b\b\b\b\b\b\b\b\b\b\b\b\b\b\b\b\b\b\b\b\b\b\b\b\b\b\b\b\b\b\b\b\b\b\b\b\b\b\b\b\b\b\b\b\r",
      "11552/20000 [================>.............] - ETA: 0s - loss: 0.3183 - acc: 0.8664\b\b\b\b\b\b\b\b\b\b\b\b\b\b\b\b\b\b\b\b\b\b\b\b\b\b\b\b\b\b\b\b\b\b\b\b\b\b\b\b\b\b\b\b\b\b\b\b\b\b\b\b\b\b\b\b\b\b\b\b\b\b\b\b\b\b\b\b\b\b\b\b\b\b\b\b\b\b\b\b\b\b\b\r",
      "14432/20000 [====================>.........] - ETA: 0s - loss: 0.3199 - acc: 0.8652\b\b\b\b\b\b\b\b\b\b\b\b\b\b\b\b\b\b\b\b\b\b\b\b\b\b\b\b\b\b\b\b\b\b\b\b\b\b\b\b\b\b\b\b\b\b\b\b\b\b\b\b\b\b\b\b\b\b\b\b\b\b\b\b\b\b\b\b\b\b\b\b\b\b\b\b\b\b\b\b\b\b\b\r",
      "17376/20000 [=========================>....] - ETA: 0s - loss: 0.3212 - acc: 0.8648\b\b\b\b\b\b\b\b\b\b\b\b\b\b\b\b\b\b\b\b\b\b\b\b\b\b\b\b\b\b\b\b\b\b\b\b\b\b\b\b\b\b\b\b\b\b\b\b\b\b\b\b\b\b\b\b\b\b\b\b\b\b\b\b\b\b\b\b\b\b\b\b\b\b\b\b\b\b\b\b\b\b\b\r",
      "20000/20000 [==============================] - 0s 23us/step - loss: 0.3225 - acc: 0.8640 - val_loss: 0.5101 - val_acc: 0.7506\n",
      "Epoch 10/10\n",
      "\r",
      "   32/20000 [..............................] - ETA: 0s - loss: 0.1793 - acc: 0.9688\b\b\b\b\b\b\b\b\b\b\b\b\b\b\b\b\b\b\b\b\b\b\b\b\b\b\b\b\b\b\b\b\b\b\b\b\b\b\b\b\b\b\b\b\b\b\b\b\b\b\b\b\b\b\b\b\b\b\b\b\b\b\b\b\b\b\b\b\b\b\b\b\b\b\b\b\b\b\b\b\b\b\b\r",
      " 2688/20000 [===>..........................] - ETA: 0s - loss: 0.2878 - acc: 0.8899\b\b\b\b\b\b\b\b\b\b\b\b\b\b\b\b\b\b\b\b\b\b\b\b\b\b\b\b\b\b\b\b\b\b\b\b\b\b\b\b\b\b\b\b\b\b\b\b\b\b\b\b\b\b\b\b\b\b\b\b\b\b\b\b\b\b\b\b\b\b\b\b\b\b\b\b\b\b\b\b\b\b\b\r",
      " 5728/20000 [=======>......................] - ETA: 0s - loss: 0.2962 - acc: 0.8797\b\b\b\b\b\b\b\b\b\b\b\b\b\b\b\b\b\b\b\b\b\b\b\b\b\b\b\b\b\b\b\b\b\b\b\b\b\b\b\b\b\b\b\b\b\b\b\b\b\b\b\b\b\b\b\b\b\b\b\b\b\b\b\b\b\b\b\b\b\b\b\b\b\b\b\b\b\b\b\b\b\b\b\r",
      " 8352/20000 [===========>..................] - ETA: 0s - loss: 0.2993 - acc: 0.8775\b\b\b\b\b\b\b\b\b\b\b\b\b\b\b\b\b\b\b\b\b\b\b\b\b\b\b\b\b\b\b\b\b\b\b\b\b\b\b\b\b\b\b\b\b\b\b\b\b\b\b\b\b\b\b\b\b\b\b\b\b\b\b\b\b\b\b\b\b\b\b\b\b\b\b\b\b\b\b\b\b\b\b\r",
      "10560/20000 [==============>...............] - ETA: 0s - loss: 0.3018 - acc: 0.8742\b\b\b\b\b\b\b\b\b\b\b\b\b\b\b\b\b\b\b\b\b\b\b\b\b\b\b\b\b\b\b\b\b\b\b\b\b\b\b\b\b\b\b\b\b\b\b\b\b\b\b\b\b\b\b\b\b\b\b\b\b\b\b\b\b\b\b\b\b\b\b\b\b\b\b\b\b\b\b\b\b\b\b\r",
      "12736/20000 [==================>...........] - ETA: 0s - loss: 0.3009 - acc: 0.8746\b\b\b\b\b\b\b\b\b\b\b\b\b\b\b\b\b\b\b\b\b\b\b\b\b\b\b\b\b\b\b\b\b\b\b\b\b\b\b\b\b\b\b\b\b\b\b\b\b\b\b\b\b\b\b\b\b\b\b\b\b\b\b\b\b\b\b\b\b\b\b\b\b\b\b\b\b\b\b\b\b\b\b\r",
      "15168/20000 [=====================>........] - ETA: 0s - loss: 0.3037 - acc: 0.8732\b\b\b\b\b\b\b\b\b\b\b\b\b\b\b\b\b\b\b\b\b\b\b\b\b\b\b\b\b\b\b\b\b\b\b\b\b\b\b\b\b\b\b\b\b\b\b\b\b\b\b\b\b\b\b\b\b\b\b\b\b\b\b\b\b\b\b\b\b\b\b\b\b\b\b\b\b\b\b\b\b\b\b\r",
      "17792/20000 [=========================>....] - ETA: 0s - loss: 0.3064 - acc: 0.8711\b\b\b\b\b\b\b\b\b\b\b\b\b\b\b\b\b\b\b\b\b\b\b\b\b\b\b\b\b\b\b\b\b\b\b\b\b\b\b\b\b\b\b\b\b\b\b\b\b\b\b\b\b\b\b\b\b\b\b\b\b\b\b\b\b\b\b\b\b\b\b\b\b\b\b\b\b\b\b\b\b\b\b\r",
      "20000/20000 [==============================] - 0s 22us/step - loss: 0.3064 - acc: 0.8713 - val_loss: 0.5163 - val_acc: 0.7522\n"
     ]
    }
   ],
   "source": [
    "# creating Embeddings Models\n",
    "model = models.Sequential()\n",
    "model.add(layers.Embedding(10000, 8, input_length=maxlen))\n",
    "model.add(layers.Flatten())\n",
    "model.add(layers.Dense(1, activation='sigmoid'))\n",
    "\n",
    "model.compile(optimizer='RMSprop', loss='binary_crossentropy', metrics=['acc'])\n",
    "\n",
    "model.summary()\n",
    "\n",
    "hist = model.fit(train_data, train_label,\n",
    "                epochs=10,\n",
    "                batch_size=32,\n",
    "                validation_split=0.2)"
   ]
  },
  {
   "cell_type": "code",
   "execution_count": 17,
   "metadata": {},
   "outputs": [
    {
     "data": {
      "text/plain": [
       "dict_keys(['val_loss', 'val_acc', 'loss', 'acc'])"
      ]
     },
     "execution_count": 17,
     "metadata": {},
     "output_type": "execute_result"
    }
   ],
   "source": [
    "history = hist.history\n",
    "history.keys()"
   ]
  },
  {
   "cell_type": "code",
   "execution_count": 18,
   "metadata": {},
   "outputs": [
    {
     "name": "stdout",
     "output_type": "stream",
     "text": [
      "validation accuracy =  0.74856\n"
     ]
    }
   ],
   "source": [
    "print(\"validation accuracy = \", np.mean(history['val_acc']))"
   ]
  },
  {
   "cell_type": "markdown",
   "metadata": {},
   "source": [
    "### Word2Vec "
   ]
  },
  {
   "cell_type": "code",
   "execution_count": 19,
   "metadata": {},
   "outputs": [],
   "source": [
    "path='../../datasets/imdb/test/'\n",
    "data=[]\n",
    "labels=[]"
   ]
  },
  {
   "cell_type": "code",
   "execution_count": 20,
   "metadata": {},
   "outputs": [
    {
     "data": {
      "text/plain": [
       "['0_10.txt',\n",
       " '10000_7.txt',\n",
       " '10001_9.txt',\n",
       " '10002_8.txt',\n",
       " '10003_8.txt',\n",
       " '10004_9.txt',\n",
       " '10005_8.txt',\n",
       " '10006_7.txt',\n",
       " '10007_10.txt',\n",
       " '10008_8.txt',\n",
       " '10009_10.txt',\n",
       " '1000_9.txt',\n",
       " '10010_9.txt',\n",
       " '10011_9.txt',\n",
       " '10012_9.txt',\n",
       " '10013_9.txt',\n",
       " '10014_7.txt',\n",
       " '10015_8.txt',\n",
       " '10016_8.txt',\n",
       " '10017_8.txt',\n",
       " '10018_8.txt',\n",
       " '10019_8.txt',\n",
       " '1001_10.txt',\n",
       " '10020_8.txt',\n",
       " '10021_9.txt',\n",
       " '10022_10.txt',\n",
       " '10023_8.txt',\n",
       " '10024_9.txt',\n",
       " '10025_8.txt',\n",
       " '10026_10.txt',\n",
       " '10027_8.txt',\n",
       " '10028_10.txt',\n",
       " '10029_10.txt',\n",
       " '1002_9.txt',\n",
       " '10030_7.txt',\n",
       " '10031_8.txt',\n",
       " '10032_8.txt',\n",
       " '10033_8.txt',\n",
       " '10034_9.txt',\n",
       " '10035_10.txt',\n",
       " '10036_10.txt',\n",
       " '10037_7.txt',\n",
       " '10038_7.txt',\n",
       " '10039_8.txt',\n",
       " '1003_8.txt',\n",
       " '10040_10.txt',\n",
       " '10041_8.txt',\n",
       " '10042_8.txt',\n",
       " '10043_10.txt',\n",
       " '10044_8.txt',\n",
       " '10045_7.txt',\n",
       " '10046_10.txt',\n",
       " '10047_10.txt',\n",
       " '10048_8.txt',\n",
       " '10049_8.txt',\n",
       " '1004_10.txt',\n",
       " '10050_8.txt',\n",
       " '10051_8.txt',\n",
       " '10052_7.txt',\n",
       " '10053_10.txt',\n",
       " '10054_7.txt',\n",
       " '10055_10.txt',\n",
       " '10056_8.txt',\n",
       " '10057_8.txt',\n",
       " '10058_8.txt',\n",
       " '10059_10.txt',\n",
       " '1005_7.txt',\n",
       " '10060_10.txt',\n",
       " '10061_10.txt',\n",
       " '10062_9.txt',\n",
       " '10063_10.txt',\n",
       " '10064_10.txt',\n",
       " '10065_8.txt',\n",
       " '10066_7.txt',\n",
       " '10067_7.txt',\n",
       " '10068_8.txt',\n",
       " '10069_10.txt',\n",
       " '1006_8.txt',\n",
       " '10070_10.txt',\n",
       " '10071_8.txt',\n",
       " '10072_10.txt',\n",
       " '10073_7.txt',\n",
       " '10074_7.txt',\n",
       " '10075_10.txt',\n",
       " '10076_10.txt',\n",
       " '10077_7.txt',\n",
       " '10078_10.txt',\n",
       " '10079_10.txt',\n",
       " '1007_9.txt',\n",
       " '10080_10.txt',\n",
       " '10081_10.txt',\n",
       " '10082_8.txt',\n",
       " '10083_10.txt',\n",
       " '10084_10.txt',\n",
       " '10085_10.txt',\n",
       " '10086_10.txt',\n",
       " '10087_7.txt',\n",
       " '10088_8.txt',\n",
       " '10089_9.txt',\n",
       " '1008_10.txt',\n",
       " '10090_10.txt',\n",
       " '10091_10.txt',\n",
       " '10092_8.txt',\n",
       " '10093_10.txt',\n",
       " '10094_9.txt',\n",
       " '10095_9.txt',\n",
       " '10096_9.txt',\n",
       " '10097_10.txt',\n",
       " '10098_9.txt',\n",
       " '10099_9.txt',\n",
       " '1009_8.txt',\n",
       " '100_10.txt',\n",
       " '10100_10.txt',\n",
       " '10101_9.txt',\n",
       " '10102_8.txt',\n",
       " '10103_9.txt',\n",
       " '10104_10.txt',\n",
       " '10105_8.txt',\n",
       " '10106_10.txt',\n",
       " '10107_9.txt',\n",
       " '10108_8.txt',\n",
       " '10109_10.txt',\n",
       " '1010_9.txt',\n",
       " '10110_10.txt',\n",
       " '10111_10.txt',\n",
       " '10112_10.txt',\n",
       " '10113_9.txt',\n",
       " '10114_8.txt',\n",
       " '10115_8.txt',\n",
       " '10116_10.txt',\n",
       " '10117_9.txt',\n",
       " '10118_8.txt',\n",
       " '10119_10.txt',\n",
       " '1011_8.txt',\n",
       " '10120_10.txt',\n",
       " '10121_10.txt',\n",
       " '10122_10.txt',\n",
       " '10123_10.txt',\n",
       " '10124_8.txt',\n",
       " '10125_8.txt',\n",
       " '10126_9.txt',\n",
       " '10127_10.txt',\n",
       " '10128_10.txt',\n",
       " '10129_10.txt',\n",
       " '1012_8.txt',\n",
       " '10130_8.txt',\n",
       " '10131_7.txt',\n",
       " '10132_10.txt',\n",
       " '10133_8.txt',\n",
       " '10134_7.txt',\n",
       " '10135_8.txt',\n",
       " '10136_10.txt',\n",
       " '10137_10.txt',\n",
       " '10138_10.txt',\n",
       " '10139_10.txt',\n",
       " '1013_7.txt',\n",
       " '10140_10.txt',\n",
       " '10141_8.txt',\n",
       " '10142_10.txt',\n",
       " '10143_9.txt',\n",
       " '10144_8.txt',\n",
       " '10145_8.txt',\n",
       " '10146_10.txt',\n",
       " '10147_7.txt',\n",
       " '10148_10.txt',\n",
       " '10149_9.txt',\n",
       " '1014_8.txt',\n",
       " '10150_8.txt',\n",
       " '10151_8.txt',\n",
       " '10152_9.txt',\n",
       " '10153_10.txt',\n",
       " '10154_10.txt',\n",
       " '10155_7.txt',\n",
       " '10156_8.txt',\n",
       " '10157_8.txt',\n",
       " '10158_9.txt',\n",
       " '10159_7.txt',\n",
       " '1015_8.txt',\n",
       " '10160_7.txt',\n",
       " '10161_7.txt',\n",
       " '10162_10.txt',\n",
       " '10163_7.txt',\n",
       " '10164_9.txt',\n",
       " '10165_9.txt',\n",
       " '10166_8.txt',\n",
       " '10167_9.txt',\n",
       " '10168_9.txt',\n",
       " '10169_8.txt',\n",
       " '1016_7.txt',\n",
       " '10170_8.txt',\n",
       " '10171_8.txt',\n",
       " '10172_9.txt',\n",
       " '10173_8.txt',\n",
       " '10174_9.txt',\n",
       " '10175_7.txt',\n",
       " '10176_9.txt',\n",
       " '10177_10.txt',\n",
       " '10178_10.txt',\n",
       " '10179_10.txt',\n",
       " '1017_7.txt',\n",
       " '10180_8.txt',\n",
       " '10181_10.txt',\n",
       " '10182_10.txt',\n",
       " '10183_9.txt',\n",
       " '10184_9.txt',\n",
       " '10185_10.txt',\n",
       " '10186_10.txt',\n",
       " '10187_10.txt',\n",
       " '10188_10.txt',\n",
       " '10189_10.txt',\n",
       " '1018_7.txt',\n",
       " '10190_10.txt',\n",
       " '10191_10.txt',\n",
       " '10192_10.txt',\n",
       " '10193_7.txt',\n",
       " '10194_7.txt',\n",
       " '10195_10.txt',\n",
       " '10196_8.txt',\n",
       " '10197_8.txt',\n",
       " '10198_8.txt',\n",
       " '10199_10.txt',\n",
       " '1019_10.txt',\n",
       " '101_9.txt',\n",
       " '10200_7.txt',\n",
       " '10201_7.txt',\n",
       " '10202_9.txt',\n",
       " '10203_10.txt',\n",
       " '10204_10.txt',\n",
       " '10205_10.txt',\n",
       " '10206_8.txt',\n",
       " '10207_10.txt',\n",
       " '10208_10.txt',\n",
       " '10209_7.txt',\n",
       " '1020_7.txt',\n",
       " '10210_7.txt',\n",
       " '10211_8.txt',\n",
       " '10212_7.txt',\n",
       " '10213_7.txt',\n",
       " '10214_10.txt',\n",
       " '10215_10.txt',\n",
       " '10216_10.txt',\n",
       " '10217_7.txt',\n",
       " '10218_7.txt',\n",
       " '10219_9.txt',\n",
       " '1021_7.txt',\n",
       " '10220_10.txt',\n",
       " '10221_8.txt',\n",
       " '10222_8.txt',\n",
       " '10223_10.txt',\n",
       " '10224_9.txt',\n",
       " '10225_10.txt',\n",
       " '10226_10.txt',\n",
       " '10227_7.txt',\n",
       " '10228_10.txt',\n",
       " '10229_10.txt',\n",
       " '1022_10.txt',\n",
       " '10230_7.txt',\n",
       " '10231_9.txt',\n",
       " '10232_10.txt',\n",
       " '10233_7.txt',\n",
       " '10234_9.txt',\n",
       " '10235_10.txt',\n",
       " '10236_10.txt',\n",
       " '10237_10.txt',\n",
       " '10238_7.txt',\n",
       " '10239_9.txt',\n",
       " '1023_10.txt',\n",
       " '10240_10.txt',\n",
       " '10241_10.txt',\n",
       " '10242_8.txt',\n",
       " '10243_9.txt',\n",
       " '10244_7.txt',\n",
       " '10245_9.txt',\n",
       " '10246_9.txt',\n",
       " '10247_10.txt',\n",
       " '10248_9.txt',\n",
       " '10249_8.txt',\n",
       " '1024_9.txt',\n",
       " '10250_10.txt',\n",
       " '10251_10.txt',\n",
       " '10252_10.txt',\n",
       " '10253_7.txt',\n",
       " '10254_8.txt',\n",
       " '10255_10.txt',\n",
       " '10256_10.txt',\n",
       " '10257_10.txt',\n",
       " '10258_8.txt',\n",
       " '10259_10.txt',\n",
       " '1025_10.txt',\n",
       " '10260_10.txt',\n",
       " '10261_8.txt',\n",
       " '10262_7.txt',\n",
       " '10263_7.txt',\n",
       " '10264_8.txt',\n",
       " '10265_9.txt',\n",
       " '10266_7.txt',\n",
       " '10267_7.txt',\n",
       " '10268_7.txt',\n",
       " '10269_8.txt',\n",
       " '1026_10.txt',\n",
       " '10270_10.txt',\n",
       " '10271_8.txt',\n",
       " '10272_7.txt',\n",
       " '10273_10.txt',\n",
       " '10274_8.txt',\n",
       " '10275_9.txt',\n",
       " '10276_8.txt',\n",
       " '10277_10.txt',\n",
       " '10278_7.txt',\n",
       " '10279_9.txt',\n",
       " '1027_9.txt',\n",
       " '10280_8.txt',\n",
       " '10281_9.txt',\n",
       " '10282_10.txt',\n",
       " '10283_10.txt',\n",
       " '10284_9.txt',\n",
       " '10285_9.txt',\n",
       " '10286_10.txt',\n",
       " '10287_10.txt',\n",
       " '10288_8.txt',\n",
       " '10289_9.txt',\n",
       " '1028_10.txt',\n",
       " '10290_10.txt',\n",
       " '10291_9.txt',\n",
       " '10292_10.txt',\n",
       " '10293_9.txt',\n",
       " '10294_9.txt',\n",
       " '10295_10.txt',\n",
       " '10296_8.txt',\n",
       " '10297_10.txt',\n",
       " '10298_9.txt',\n",
       " '10299_10.txt',\n",
       " '1029_10.txt',\n",
       " '102_8.txt',\n",
       " '10300_10.txt',\n",
       " '10301_10.txt',\n",
       " '10302_7.txt',\n",
       " '10303_9.txt',\n",
       " '10304_7.txt',\n",
       " '10305_10.txt',\n",
       " '10306_8.txt',\n",
       " '10307_7.txt',\n",
       " '10308_10.txt',\n",
       " '10309_8.txt',\n",
       " '1030_9.txt',\n",
       " '10310_8.txt',\n",
       " '10311_10.txt',\n",
       " '10312_9.txt',\n",
       " '10313_10.txt',\n",
       " '10314_9.txt',\n",
       " '10315_10.txt',\n",
       " '10316_10.txt',\n",
       " '10317_10.txt',\n",
       " '10318_8.txt',\n",
       " '10319_8.txt',\n",
       " '1031_10.txt',\n",
       " '10320_10.txt',\n",
       " '10321_10.txt',\n",
       " '10322_9.txt',\n",
       " '10323_10.txt',\n",
       " '10324_8.txt',\n",
       " '10325_9.txt',\n",
       " '10326_10.txt',\n",
       " '10327_7.txt',\n",
       " '10328_10.txt',\n",
       " '10329_10.txt',\n",
       " '1032_10.txt',\n",
       " '10330_9.txt',\n",
       " '10331_9.txt',\n",
       " '10332_10.txt',\n",
       " '10333_10.txt',\n",
       " '10334_7.txt',\n",
       " '10335_7.txt',\n",
       " '10336_7.txt',\n",
       " '10337_10.txt',\n",
       " '10338_9.txt',\n",
       " '10339_8.txt',\n",
       " '1033_9.txt',\n",
       " '10340_7.txt',\n",
       " '10341_7.txt',\n",
       " '10342_9.txt',\n",
       " '10343_9.txt',\n",
       " '10344_9.txt',\n",
       " '10345_7.txt',\n",
       " '10346_9.txt',\n",
       " '10347_10.txt',\n",
       " '10348_10.txt',\n",
       " '10349_8.txt',\n",
       " '1034_10.txt',\n",
       " '10350_9.txt',\n",
       " '10351_8.txt',\n",
       " '10352_10.txt',\n",
       " '10353_10.txt',\n",
       " '10354_7.txt',\n",
       " '10355_10.txt',\n",
       " '10356_7.txt',\n",
       " '10357_7.txt',\n",
       " '10358_7.txt',\n",
       " '10359_8.txt',\n",
       " '1035_9.txt',\n",
       " '10360_9.txt',\n",
       " '10361_9.txt',\n",
       " '10362_7.txt',\n",
       " '10363_7.txt',\n",
       " '10364_10.txt',\n",
       " '10365_7.txt',\n",
       " '10366_8.txt',\n",
       " '10367_8.txt',\n",
       " '10368_8.txt',\n",
       " '10369_9.txt',\n",
       " '1036_10.txt',\n",
       " '10370_10.txt',\n",
       " '10371_8.txt',\n",
       " '10372_10.txt',\n",
       " '10373_10.txt',\n",
       " '10374_10.txt',\n",
       " '10375_8.txt',\n",
       " '10376_10.txt',\n",
       " '10377_8.txt',\n",
       " '10378_8.txt',\n",
       " '10379_9.txt',\n",
       " '1037_10.txt',\n",
       " '10380_7.txt',\n",
       " '10381_8.txt',\n",
       " '10382_10.txt',\n",
       " '10383_8.txt',\n",
       " '10384_7.txt',\n",
       " '10385_10.txt',\n",
       " '10386_7.txt',\n",
       " '10387_9.txt',\n",
       " '10388_10.txt',\n",
       " '10389_7.txt',\n",
       " '1038_10.txt',\n",
       " '10390_7.txt',\n",
       " '10391_9.txt',\n",
       " '10392_8.txt',\n",
       " '10393_9.txt',\n",
       " '10394_9.txt',\n",
       " '10395_10.txt',\n",
       " '10396_8.txt',\n",
       " '10397_10.txt',\n",
       " '10398_10.txt',\n",
       " '10399_10.txt',\n",
       " '1039_10.txt',\n",
       " '103_10.txt',\n",
       " '10400_9.txt',\n",
       " '10401_7.txt',\n",
       " '10402_8.txt',\n",
       " '10403_10.txt',\n",
       " '10404_9.txt',\n",
       " '10405_7.txt',\n",
       " '10406_8.txt',\n",
       " '10407_10.txt',\n",
       " '10408_10.txt',\n",
       " '10409_10.txt',\n",
       " '1040_9.txt',\n",
       " '10410_10.txt',\n",
       " '10411_10.txt',\n",
       " '10412_8.txt',\n",
       " '10413_8.txt',\n",
       " '10414_10.txt',\n",
       " '10415_7.txt',\n",
       " '10416_9.txt',\n",
       " '10417_7.txt',\n",
       " '10418_8.txt',\n",
       " '10419_8.txt',\n",
       " '1041_10.txt',\n",
       " '10420_9.txt',\n",
       " '10421_8.txt',\n",
       " '10422_9.txt',\n",
       " '10423_9.txt',\n",
       " '10424_7.txt',\n",
       " '10425_10.txt',\n",
       " '10426_8.txt',\n",
       " '10427_10.txt',\n",
       " '10428_10.txt',\n",
       " '10429_9.txt',\n",
       " '1042_7.txt',\n",
       " '10430_10.txt',\n",
       " '10431_10.txt',\n",
       " '10432_10.txt',\n",
       " '10433_8.txt',\n",
       " '10434_8.txt',\n",
       " '10435_7.txt',\n",
       " '10436_8.txt',\n",
       " '10437_9.txt',\n",
       " '10438_9.txt',\n",
       " '10439_8.txt',\n",
       " '1043_9.txt',\n",
       " '10440_7.txt',\n",
       " '10441_9.txt',\n",
       " '10442_8.txt',\n",
       " '10443_7.txt',\n",
       " '10444_9.txt',\n",
       " '10445_10.txt',\n",
       " '10446_10.txt',\n",
       " '10447_7.txt',\n",
       " '10448_7.txt',\n",
       " '10449_10.txt',\n",
       " '1044_8.txt',\n",
       " '10450_7.txt',\n",
       " '10451_7.txt',\n",
       " '10452_8.txt',\n",
       " '10453_10.txt',\n",
       " '10454_8.txt',\n",
       " '10455_9.txt',\n",
       " '10456_10.txt',\n",
       " '10457_8.txt',\n",
       " '10458_7.txt',\n",
       " '10459_10.txt',\n",
       " '1045_9.txt',\n",
       " '10460_10.txt',\n",
       " '10461_10.txt',\n",
       " '10462_10.txt',\n",
       " '10463_10.txt',\n",
       " '10464_10.txt',\n",
       " '10465_10.txt',\n",
       " '10466_8.txt',\n",
       " '10467_9.txt',\n",
       " '10468_10.txt',\n",
       " '10469_10.txt',\n",
       " '1046_9.txt',\n",
       " '10470_10.txt',\n",
       " '10471_10.txt',\n",
       " '10472_10.txt',\n",
       " '10473_10.txt',\n",
       " '10474_10.txt',\n",
       " '10475_10.txt',\n",
       " '10476_10.txt',\n",
       " '10477_9.txt',\n",
       " '10478_10.txt',\n",
       " '10479_10.txt',\n",
       " '1047_8.txt',\n",
       " '10480_8.txt',\n",
       " '10481_9.txt',\n",
       " '10482_10.txt',\n",
       " '10483_8.txt',\n",
       " '10484_10.txt',\n",
       " '10485_10.txt',\n",
       " '10486_10.txt',\n",
       " '10487_7.txt',\n",
       " '10488_7.txt',\n",
       " '10489_8.txt',\n",
       " '1048_8.txt',\n",
       " '10490_9.txt',\n",
       " '10491_7.txt',\n",
       " '10492_8.txt',\n",
       " '10493_10.txt',\n",
       " '10494_8.txt',\n",
       " '10495_8.txt',\n",
       " '10496_10.txt',\n",
       " '10497_10.txt',\n",
       " '10498_10.txt',\n",
       " '10499_8.txt',\n",
       " '1049_9.txt',\n",
       " '104_10.txt',\n",
       " '10500_7.txt',\n",
       " '10501_10.txt',\n",
       " '10502_7.txt',\n",
       " '10503_8.txt',\n",
       " '10504_7.txt',\n",
       " '10505_7.txt',\n",
       " '10506_8.txt',\n",
       " '10507_7.txt',\n",
       " '10508_7.txt',\n",
       " '10509_8.txt',\n",
       " '1050_9.txt',\n",
       " '10510_7.txt',\n",
       " '10511_10.txt',\n",
       " '10512_9.txt',\n",
       " '10513_7.txt',\n",
       " '10514_9.txt',\n",
       " '10515_8.txt',\n",
       " '10516_10.txt',\n",
       " '10517_10.txt',\n",
       " '10518_7.txt',\n",
       " '10519_8.txt',\n",
       " '1051_10.txt',\n",
       " '10520_10.txt',\n",
       " '10521_10.txt',\n",
       " '10522_10.txt',\n",
       " '10523_9.txt',\n",
       " '10524_10.txt',\n",
       " '10525_7.txt',\n",
       " '10526_10.txt',\n",
       " '10527_10.txt',\n",
       " '10528_8.txt',\n",
       " '10529_7.txt',\n",
       " '1052_10.txt',\n",
       " '10530_10.txt',\n",
       " '10531_10.txt',\n",
       " '10532_9.txt',\n",
       " '10533_10.txt',\n",
       " '10534_10.txt',\n",
       " '10535_10.txt',\n",
       " '10536_8.txt',\n",
       " '10537_9.txt',\n",
       " '10538_10.txt',\n",
       " '10539_8.txt',\n",
       " '1053_10.txt',\n",
       " '10540_10.txt',\n",
       " '10541_8.txt',\n",
       " '10542_10.txt',\n",
       " '10543_7.txt',\n",
       " '10544_10.txt',\n",
       " '10545_10.txt',\n",
       " '10546_10.txt',\n",
       " '10547_10.txt',\n",
       " '10548_10.txt',\n",
       " '10549_10.txt',\n",
       " '1054_9.txt',\n",
       " '10550_8.txt',\n",
       " '10551_10.txt',\n",
       " '10552_7.txt',\n",
       " '10553_7.txt',\n",
       " '10554_9.txt',\n",
       " '10555_10.txt',\n",
       " '10556_10.txt',\n",
       " '10557_8.txt',\n",
       " '10558_9.txt',\n",
       " '10559_7.txt',\n",
       " '1055_10.txt',\n",
       " '10560_9.txt',\n",
       " '10561_9.txt',\n",
       " '10562_7.txt',\n",
       " '10563_9.txt',\n",
       " '10564_7.txt',\n",
       " '10565_10.txt',\n",
       " '10566_9.txt',\n",
       " '10567_8.txt',\n",
       " '10568_10.txt',\n",
       " '10569_7.txt',\n",
       " '1056_8.txt',\n",
       " '10570_10.txt',\n",
       " '10571_10.txt',\n",
       " '10572_10.txt',\n",
       " '10573_10.txt',\n",
       " '10574_10.txt',\n",
       " '10575_10.txt',\n",
       " '10576_9.txt',\n",
       " '10577_9.txt',\n",
       " '10578_10.txt',\n",
       " '10579_10.txt',\n",
       " '1057_8.txt',\n",
       " '10580_10.txt',\n",
       " '10581_10.txt',\n",
       " '10582_10.txt',\n",
       " '10583_10.txt',\n",
       " '10584_8.txt',\n",
       " '10585_8.txt',\n",
       " '10586_9.txt',\n",
       " '10587_10.txt',\n",
       " '10588_10.txt',\n",
       " '10589_10.txt',\n",
       " '1058_10.txt',\n",
       " '10590_9.txt',\n",
       " '10591_10.txt',\n",
       " '10592_8.txt',\n",
       " '10593_8.txt',\n",
       " '10594_10.txt',\n",
       " '10595_10.txt',\n",
       " '10596_10.txt',\n",
       " '10597_10.txt',\n",
       " '10598_10.txt',\n",
       " '10599_8.txt',\n",
       " '1059_10.txt',\n",
       " '105_8.txt',\n",
       " '10600_10.txt',\n",
       " '10601_10.txt',\n",
       " '10602_8.txt',\n",
       " '10603_8.txt',\n",
       " '10604_8.txt',\n",
       " '10605_10.txt',\n",
       " '10606_10.txt',\n",
       " '10607_7.txt',\n",
       " '10608_10.txt',\n",
       " '10609_9.txt',\n",
       " '1060_8.txt',\n",
       " '10610_7.txt',\n",
       " '10611_7.txt',\n",
       " '10612_9.txt',\n",
       " '10613_8.txt',\n",
       " '10614_9.txt',\n",
       " '10615_8.txt',\n",
       " '10616_10.txt',\n",
       " '10617_8.txt',\n",
       " '10618_10.txt',\n",
       " '10619_9.txt',\n",
       " '1061_8.txt',\n",
       " '10620_9.txt',\n",
       " '10621_10.txt',\n",
       " '10622_10.txt',\n",
       " '10623_8.txt',\n",
       " '10624_10.txt',\n",
       " '10625_8.txt',\n",
       " '10626_8.txt',\n",
       " '10627_9.txt',\n",
       " '10628_9.txt',\n",
       " '10629_10.txt',\n",
       " '1062_8.txt',\n",
       " '10630_7.txt',\n",
       " '10631_9.txt',\n",
       " '10632_9.txt',\n",
       " '10633_8.txt',\n",
       " '10634_8.txt',\n",
       " '10635_10.txt',\n",
       " '10636_8.txt',\n",
       " '10637_9.txt',\n",
       " '10638_9.txt',\n",
       " '10639_10.txt',\n",
       " '1063_10.txt',\n",
       " '10640_7.txt',\n",
       " '10641_8.txt',\n",
       " '10642_10.txt',\n",
       " '10643_9.txt',\n",
       " '10644_8.txt',\n",
       " '10645_10.txt',\n",
       " '10646_10.txt',\n",
       " '10647_10.txt',\n",
       " '10648_9.txt',\n",
       " '10649_10.txt',\n",
       " '1064_8.txt',\n",
       " '10650_9.txt',\n",
       " '10651_9.txt',\n",
       " '10652_9.txt',\n",
       " '10653_10.txt',\n",
       " '10654_8.txt',\n",
       " '10655_10.txt',\n",
       " '10656_8.txt',\n",
       " '10657_10.txt',\n",
       " '10658_9.txt',\n",
       " '10659_10.txt',\n",
       " '1065_9.txt',\n",
       " '10660_10.txt',\n",
       " '10661_9.txt',\n",
       " '10662_10.txt',\n",
       " '10663_10.txt',\n",
       " '10664_9.txt',\n",
       " '10665_10.txt',\n",
       " '10666_10.txt',\n",
       " '10667_10.txt',\n",
       " '10668_7.txt',\n",
       " '10669_7.txt',\n",
       " '1066_8.txt',\n",
       " '10670_9.txt',\n",
       " '10671_9.txt',\n",
       " '10672_7.txt',\n",
       " '10673_9.txt',\n",
       " '10674_7.txt',\n",
       " '10675_8.txt',\n",
       " '10676_8.txt',\n",
       " '10677_10.txt',\n",
       " '10678_7.txt',\n",
       " '10679_8.txt',\n",
       " '1067_9.txt',\n",
       " '10680_7.txt',\n",
       " '10681_8.txt',\n",
       " '10682_10.txt',\n",
       " '10683_8.txt',\n",
       " '10684_7.txt',\n",
       " '10685_7.txt',\n",
       " '10686_7.txt',\n",
       " '10687_7.txt',\n",
       " '10688_10.txt',\n",
       " '10689_10.txt',\n",
       " '1068_10.txt',\n",
       " '10690_7.txt',\n",
       " '10691_10.txt',\n",
       " '10692_10.txt',\n",
       " '10693_10.txt',\n",
       " '10694_10.txt',\n",
       " '10695_10.txt',\n",
       " '10696_10.txt',\n",
       " '10697_10.txt',\n",
       " '10698_8.txt',\n",
       " '10699_8.txt',\n",
       " '1069_10.txt',\n",
       " '106_9.txt',\n",
       " '10700_10.txt',\n",
       " '10701_10.txt',\n",
       " '10702_10.txt',\n",
       " '10703_9.txt',\n",
       " '10704_10.txt',\n",
       " '10705_10.txt',\n",
       " '10706_10.txt',\n",
       " '10707_9.txt',\n",
       " '10708_9.txt',\n",
       " '10709_8.txt',\n",
       " '1070_10.txt',\n",
       " '10710_10.txt',\n",
       " '10711_10.txt',\n",
       " '10712_8.txt',\n",
       " '10713_10.txt',\n",
       " '10714_9.txt',\n",
       " '10715_9.txt',\n",
       " '10716_8.txt',\n",
       " '10717_9.txt',\n",
       " '10718_10.txt',\n",
       " '10719_7.txt',\n",
       " '1071_9.txt',\n",
       " '10720_8.txt',\n",
       " '10721_7.txt',\n",
       " '10722_7.txt',\n",
       " '10723_9.txt',\n",
       " '10724_10.txt',\n",
       " '10725_7.txt',\n",
       " '10726_7.txt',\n",
       " '10727_9.txt',\n",
       " '10728_8.txt',\n",
       " '10729_9.txt',\n",
       " '1072_8.txt',\n",
       " '10730_10.txt',\n",
       " '10731_9.txt',\n",
       " '10732_10.txt',\n",
       " '10733_10.txt',\n",
       " '10734_8.txt',\n",
       " '10735_10.txt',\n",
       " '10736_9.txt',\n",
       " '10737_9.txt',\n",
       " '10738_8.txt',\n",
       " '10739_9.txt',\n",
       " '1073_8.txt',\n",
       " '10740_10.txt',\n",
       " '10741_9.txt',\n",
       " '10742_10.txt',\n",
       " '10743_7.txt',\n",
       " '10744_8.txt',\n",
       " '10745_8.txt',\n",
       " '10746_8.txt',\n",
       " '10747_7.txt',\n",
       " '10748_8.txt',\n",
       " '10749_8.txt',\n",
       " '1074_7.txt',\n",
       " '10750_7.txt',\n",
       " '10751_10.txt',\n",
       " '10752_7.txt',\n",
       " '10753_8.txt',\n",
       " '10754_8.txt',\n",
       " '10755_9.txt',\n",
       " '10756_7.txt',\n",
       " '10757_10.txt',\n",
       " '10758_10.txt',\n",
       " '10759_9.txt',\n",
       " '1075_9.txt',\n",
       " '10760_8.txt',\n",
       " '10761_8.txt',\n",
       " '10762_9.txt',\n",
       " '10763_9.txt',\n",
       " '10764_10.txt',\n",
       " '10765_10.txt',\n",
       " '10766_8.txt',\n",
       " '10767_10.txt',\n",
       " '10768_8.txt',\n",
       " '10769_7.txt',\n",
       " '1076_8.txt',\n",
       " '10770_7.txt',\n",
       " '10771_8.txt',\n",
       " '10772_10.txt',\n",
       " '10773_7.txt',\n",
       " '10774_10.txt',\n",
       " '10775_10.txt',\n",
       " '10776_10.txt',\n",
       " '10777_9.txt',\n",
       " '10778_10.txt',\n",
       " '10779_9.txt',\n",
       " '1077_10.txt',\n",
       " '10780_7.txt',\n",
       " '10781_10.txt',\n",
       " '10782_8.txt',\n",
       " '10783_7.txt',\n",
       " '10784_9.txt',\n",
       " '10785_10.txt',\n",
       " '10786_7.txt',\n",
       " '10787_10.txt',\n",
       " '10788_10.txt',\n",
       " '10789_8.txt',\n",
       " '1078_9.txt',\n",
       " '10790_10.txt',\n",
       " '10791_9.txt',\n",
       " '10792_8.txt',\n",
       " '10793_7.txt',\n",
       " '10794_10.txt',\n",
       " '10795_10.txt',\n",
       " '10796_8.txt',\n",
       " '10797_10.txt',\n",
       " '10798_10.txt',\n",
       " '10799_10.txt',\n",
       " '1079_8.txt',\n",
       " '107_10.txt',\n",
       " '10800_8.txt',\n",
       " '10801_10.txt',\n",
       " '10802_8.txt',\n",
       " '10803_9.txt',\n",
       " '10804_8.txt',\n",
       " '10805_7.txt',\n",
       " '10806_8.txt',\n",
       " '10807_7.txt',\n",
       " '10808_8.txt',\n",
       " '10809_10.txt',\n",
       " '1080_8.txt',\n",
       " '10810_8.txt',\n",
       " '10811_9.txt',\n",
       " '10812_9.txt',\n",
       " '10813_7.txt',\n",
       " '10814_9.txt',\n",
       " '10815_8.txt',\n",
       " '10816_10.txt',\n",
       " '10817_8.txt',\n",
       " '10818_10.txt',\n",
       " '10819_9.txt',\n",
       " '1081_10.txt',\n",
       " '10820_8.txt',\n",
       " '10821_8.txt',\n",
       " '10822_8.txt',\n",
       " '10823_9.txt',\n",
       " '10824_7.txt',\n",
       " '10825_7.txt',\n",
       " '10826_10.txt',\n",
       " '10827_9.txt',\n",
       " '10828_9.txt',\n",
       " '10829_9.txt',\n",
       " '1082_9.txt',\n",
       " '10830_9.txt',\n",
       " '10831_7.txt',\n",
       " '10832_9.txt',\n",
       " '10833_9.txt',\n",
       " '10834_10.txt',\n",
       " '10835_9.txt',\n",
       " '10836_9.txt',\n",
       " '10837_10.txt',\n",
       " '10838_8.txt',\n",
       " '10839_9.txt',\n",
       " '1083_7.txt',\n",
       " '10840_9.txt',\n",
       " '10841_10.txt',\n",
       " '10842_10.txt',\n",
       " '10843_10.txt',\n",
       " '10844_10.txt',\n",
       " '10845_10.txt',\n",
       " '10846_10.txt',\n",
       " '10847_10.txt',\n",
       " '10848_9.txt',\n",
       " '10849_10.txt',\n",
       " '1084_8.txt',\n",
       " '10850_10.txt',\n",
       " '10851_9.txt',\n",
       " '10852_9.txt',\n",
       " '10853_8.txt',\n",
       " '10854_10.txt',\n",
       " '10855_10.txt',\n",
       " '10856_10.txt',\n",
       " '10857_9.txt',\n",
       " '10858_10.txt',\n",
       " '10859_9.txt',\n",
       " '1085_9.txt',\n",
       " '10860_10.txt',\n",
       " '10861_10.txt',\n",
       " '10862_9.txt',\n",
       " '10863_10.txt',\n",
       " '10864_7.txt',\n",
       " '10865_8.txt',\n",
       " '10866_9.txt',\n",
       " '10867_9.txt',\n",
       " '10868_9.txt',\n",
       " '10869_7.txt',\n",
       " '1086_10.txt',\n",
       " '10870_8.txt',\n",
       " '10871_7.txt',\n",
       " '10872_9.txt',\n",
       " '10873_8.txt',\n",
       " '10874_7.txt',\n",
       " '10875_7.txt',\n",
       " '10876_7.txt',\n",
       " '10877_10.txt',\n",
       " '10878_10.txt',\n",
       " '10879_10.txt',\n",
       " '1087_10.txt',\n",
       " '10880_10.txt',\n",
       " '10881_10.txt',\n",
       " '10882_9.txt',\n",
       " '10883_10.txt',\n",
       " '10884_9.txt',\n",
       " '10885_10.txt',\n",
       " '10886_7.txt',\n",
       " '10887_10.txt',\n",
       " '10888_10.txt',\n",
       " '10889_9.txt',\n",
       " '1088_8.txt',\n",
       " '10890_10.txt',\n",
       " '10891_10.txt',\n",
       " '10892_8.txt',\n",
       " '10893_8.txt',\n",
       " '10894_10.txt',\n",
       " '10895_10.txt',\n",
       " '10896_10.txt',\n",
       " '10897_10.txt',\n",
       " '10898_7.txt',\n",
       " '10899_8.txt',\n",
       " '1089_10.txt',\n",
       " '108_10.txt',\n",
       " ...]"
      ]
     },
     "execution_count": 20,
     "metadata": {},
     "output_type": "execute_result"
    }
   ],
   "source": [
    "import os\n",
    "os.listdir(path+'pos')"
   ]
  },
  {
   "cell_type": "code",
   "execution_count": 21,
   "metadata": {},
   "outputs": [],
   "source": [
    "# Reading the Positive/Negative sentences\n",
    "\n",
    "for label in ['pos', 'neg']:\n",
    "    dir_name = os.path.join(path+label)\n",
    "    for file in os.listdir(dir_name):\n",
    "        with open(os.path.join(dir_name, file), encoding='utf8') as f:\n",
    "            data.append(f.read())\n",
    "            if label == 'pos':\n",
    "                labels.append(1)\n",
    "            else:\n",
    "                labels.append(0)   "
   ]
  },
  {
   "cell_type": "code",
   "execution_count": 22,
   "metadata": {},
   "outputs": [
    {
     "name": "stdout",
     "output_type": "stream",
     "text": [
      "[\"I went and saw this movie last night after being coaxed to by a few friends of mine. I'll admit that I was reluctant to see it because from what I knew of Ashton Kutcher he was only able to do comedy. I was wrong. Kutcher played the character of Jake Fischer very well, and Kevin Costner played Ben Randall with such professionalism. The sign of a good movie is that it can toy with our emotions. This one did exactly that. The entire theater (which was sold out) was overcome by laughter during the first half of the movie, and were moved to tears during the second half. While exiting the theater I not only saw many women in tears, but many full grown men as well, trying desperately not to let anyone see them crying. This movie was great, and I suggest that you go see it before you judge.\", 'Actor turned director Bill Paxton follows up his promising debut, the Gothic-horror \"Frailty\", with this family friendly sports drama about the 1913 U.S. Open where a young American caddy rises from his humble background to play against his Bristish idol in what was dubbed as \"The Greatest Game Ever Played.\" I\\'m no fan of golf, and these scrappy underdog sports flicks are a dime a dozen (most recently done to grand effect with \"Miracle\" and \"Cinderella Man\"), but some how this film was enthralling all the same.<br /><br />The film starts with some creative opening credits (imagine a Disneyfied version of the animated opening credits of HBO\\'s \"Carnivale\" and \"Rome\"), but lumbers along slowly for its first by-the-numbers hour. Once the action moves to the U.S. Open things pick up very well. Paxton does a nice job and shows a knack for effective directorial flourishes (I loved the rain-soaked montage of the action on day two of the open) that propel the plot further or add some unexpected psychological depth to the proceedings. There\\'s some compelling character development when the British Harry Vardon is haunted by images of the aristocrats in black suits and top hats who destroyed his family cottage as a child to make way for a golf course. He also does a good job of visually depicting what goes on in the players\\' heads under pressure. Golf, a painfully boring sport, is brought vividly alive here. Credit should also be given the set designers and costume department for creating an engaging period-piece atmosphere of London and Boston at the beginning of the twentieth century.<br /><br />You know how this is going to end not only because it\\'s based on a true story but also because films in this genre follow the same template over and over, but Paxton puts on a better than average show and perhaps indicates more talent behind the camera than he ever had in front of it. Despite the formulaic nature, this is a nice and easy film to root for that deserves to find an audience.']\n",
      "[1, 1]\n"
     ]
    }
   ],
   "source": [
    "print(data[:2])\n",
    "print(labels[:2])"
   ]
  },
  {
   "cell_type": "code",
   "execution_count": 23,
   "metadata": {},
   "outputs": [],
   "source": [
    "# preprocessing the data\n",
    "from keras.preprocessing.text import Tokenizer"
   ]
  },
  {
   "cell_type": "code",
   "execution_count": 24,
   "metadata": {},
   "outputs": [],
   "source": [
    "maxlen = 100\n",
    "training_samples = 200\n",
    "validation_samples = 10000\n",
    "max_words = 10000"
   ]
  },
  {
   "cell_type": "code",
   "execution_count": 25,
   "metadata": {},
   "outputs": [],
   "source": [
    "tokenizer = Tokenizer(num_words=max_words)\n",
    "tokenizer.fit_on_texts(data)"
   ]
  },
  {
   "cell_type": "code",
   "execution_count": 26,
   "metadata": {},
   "outputs": [],
   "source": [
    "sequence = tokenizer.texts_to_sequences(data)"
   ]
  },
  {
   "cell_type": "code",
   "execution_count": 27,
   "metadata": {},
   "outputs": [
    {
     "name": "stdout",
     "output_type": "stream",
     "text": [
      "Unique words are :  72633\n"
     ]
    }
   ],
   "source": [
    "word_index = tokenizer.word_index\n",
    "print(\"Unique words are : \", len(word_index))"
   ]
  },
  {
   "cell_type": "code",
   "execution_count": 28,
   "metadata": {},
   "outputs": [],
   "source": [
    "from keras.preprocessing.sequence import pad_sequences"
   ]
  },
  {
   "cell_type": "code",
   "execution_count": 29,
   "metadata": {},
   "outputs": [],
   "source": [
    "data = pad_sequences(sequence, maxlen=maxlen)\n",
    "labels = np.asarray(labels)"
   ]
  },
  {
   "cell_type": "code",
   "execution_count": 30,
   "metadata": {},
   "outputs": [
    {
     "name": "stdout",
     "output_type": "stream",
     "text": [
      "Shape of data :  (17243, 100)\n",
      "Shape of labels :  (17243,)\n"
     ]
    }
   ],
   "source": [
    "print(\"Shape of data : \", data.shape)\n",
    "print(\"Shape of labels : \", labels.shape)"
   ]
  },
  {
   "cell_type": "code",
   "execution_count": 61,
   "metadata": {},
   "outputs": [
    {
     "data": {
      "text/plain": [
       "'\\n# suffling the data \\ndata_labels = list(zip(data, labels))\\nnp.random.shuffle(data_labels)\\n\\ndata1, labels1 = data_labels \\n'"
      ]
     },
     "execution_count": 61,
     "metadata": {},
     "output_type": "execute_result"
    }
   ],
   "source": [
    "'''\n",
    "# suffling the data \n",
    "data_labels = list(zip(data, labels))\n",
    "np.random.shuffle(data_labels)\n",
    "\n",
    "data1, labels1 = data_labels \n",
    "'''"
   ]
  },
  {
   "cell_type": "code",
   "execution_count": 62,
   "metadata": {},
   "outputs": [],
   "source": [
    "# for shuffling the data , best way to shuffle the indices of data\n",
    "indices = np.arange(labels.shape[0])\n",
    "np.random.shuffle(indices)\n",
    "\n",
    "data1 = data[indices]\n",
    "labels1 = labels[indices]"
   ]
  },
  {
   "cell_type": "code",
   "execution_count": 63,
   "metadata": {},
   "outputs": [],
   "source": [
    "# splitting the data into train and test\n",
    "x_train = data1[:training_samples]\n",
    "y_train = labels1[:training_samples]\n",
    "x_val = data1[training_samples: training_samples + validation_samples]   # validation data will have all the input data\n",
    "y_val = labels1[training_samples: training_samples + validation_samples]"
   ]
  },
  {
   "cell_type": "code",
   "execution_count": 64,
   "metadata": {},
   "outputs": [
    {
     "name": "stdout",
     "output_type": "stream",
     "text": [
      "(200, 100) (200,) (10000, 100) (10000,)\n"
     ]
    }
   ],
   "source": [
    "print(x_train.shape,  y_train.shape, x_val.shape, y_val.shape)"
   ]
  },
  {
   "cell_type": "markdown",
   "metadata": {},
   "source": [
    "#### Downloaded the glove pre-trained embeddings and loadded "
   ]
  },
  {
   "cell_type": "code",
   "execution_count": 65,
   "metadata": {},
   "outputs": [],
   "source": [
    "glove_dir='../../datasets/glove/'\n",
    "\n",
    "glove_embed = {}\n",
    "with open(os.path.join(glove_dir, 'glove.6B.100d.txt'), encoding='utf8') as fh:\n",
    "    for line in fh:\n",
    "        words = line.split()\n",
    "        word = words[0]\n",
    "        embed = np.asarray(words[1:], dtype='float32')\n",
    "        glove_embed[word] = embed"
   ]
  },
  {
   "cell_type": "code",
   "execution_count": 66,
   "metadata": {},
   "outputs": [
    {
     "name": "stdout",
     "output_type": "stream",
     "text": [
      "Glove word embeddings:  400000\n"
     ]
    }
   ],
   "source": [
    "print(\"Glove word embeddings: \", len(glove_embed))\n",
    "#print(\"Glove word embeddings shaoe: \", len(glove_embed.values()[0]))"
   ]
  },
  {
   "cell_type": "code",
   "execution_count": 67,
   "metadata": {},
   "outputs": [
    {
     "name": "stdout",
     "output_type": "stream",
     "text": [
      "Embedding Matrix Shape:  (10000, 100)\n"
     ]
    }
   ],
   "source": [
    "embedding_dim = 100\n",
    "embedding_matrix = np.zeros((max_words, embedding_dim))\n",
    "for word, i in word_index.items():\n",
    "    if i < max_words:\n",
    "        embedding_vector = glove_embed.get(word)\n",
    "        if embedding_vector is not None:\n",
    "            embedding_matrix[i] = embedding_vector\n",
    "            \n",
    "print(\"Embedding Matrix Shape: \", embedding_matrix.shape)"
   ]
  },
  {
   "cell_type": "code",
   "execution_count": 68,
   "metadata": {},
   "outputs": [
    {
     "name": "stdout",
     "output_type": "stream",
     "text": [
      "_________________________________________________________________\n",
      "Layer (type)                 Output Shape              Param #   \n",
      "=================================================================\n",
      "embedding_3 (Embedding)      (None, 100, 100)          1000000   \n",
      "_________________________________________________________________\n",
      "flatten_3 (Flatten)          (None, 10000)             0         \n",
      "_________________________________________________________________\n",
      "dense_4 (Dense)              (None, 32)                320032    \n",
      "_________________________________________________________________\n",
      "dense_5 (Dense)              (None, 1)                 33        \n",
      "=================================================================\n",
      "Total params: 1,320,065\n",
      "Trainable params: 1,320,065\n",
      "Non-trainable params: 0\n",
      "_________________________________________________________________\n"
     ]
    }
   ],
   "source": [
    "# building the model\n",
    "\n",
    "model_glove = models.Sequential()\n",
    "model_glove.add(layers.Embedding(input_dim=10000, output_dim=100, input_length=maxlen))\n",
    "model_glove.add(layers.Flatten())\n",
    "model_glove.add(Dense(32, activation='relu'))\n",
    "model_glove.add(Dense(1, activation='sigmoid'))\n",
    "model_glove.summary()"
   ]
  },
  {
   "cell_type": "markdown",
   "metadata": {},
   "source": [
    "#### LOADING THE GLOVE EMBEDDINGS IN THE MODEL"
   ]
  },
  {
   "cell_type": "code",
   "execution_count": 69,
   "metadata": {},
   "outputs": [],
   "source": [
    "model_glove.layers[0].set_weights([embedding_matrix])\n",
    "model_glove.layers[0].trainable = False"
   ]
  },
  {
   "cell_type": "code",
   "execution_count": 70,
   "metadata": {},
   "outputs": [],
   "source": [
    "model_glove.compile(optimizer='rmsprop', loss='binary_crossentropy', metrics=['acc'])"
   ]
  },
  {
   "cell_type": "code",
   "execution_count": 85,
   "metadata": {},
   "outputs": [
    {
     "name": "stdout",
     "output_type": "stream",
     "text": [
      "3.6.3 |Anaconda custom (64-bit)| (default, Oct 15 2017, 03:27:45) [MSC v.1900 64 bit (AMD64)]\n"
     ]
    }
   ],
   "source": [
    "next(iter(glove_embed))\n",
    "\n",
    "import sys\n",
    "print(sys.version)"
   ]
  },
  {
   "cell_type": "code",
   "execution_count": 89,
   "metadata": {},
   "outputs": [
    {
     "name": "stdout",
     "output_type": "stream",
     "text": [
      "[array([-0.038194  , -0.24487001,  0.72812003, -0.39961001,  0.083172  ,\n",
      "        0.043953  , -0.39140999,  0.3344    , -0.57545   ,  0.087459  ,\n",
      "        0.28786999, -0.06731   ,  0.30906001, -0.26383999, -0.13231   ,\n",
      "       -0.20757   ,  0.33395001, -0.33848   , -0.31742999, -0.48335999,\n",
      "        0.1464    , -0.37303999,  0.34577   ,  0.052041  ,  0.44946   ,\n",
      "       -0.46970999,  0.02628   , -0.54154998, -0.15518001, -0.14106999,\n",
      "       -0.039722  ,  0.28277001,  0.14393   ,  0.23464   , -0.31020999,\n",
      "        0.086173  ,  0.20397   ,  0.52623999,  0.17163999, -0.082378  ,\n",
      "       -0.71787   , -0.41531   ,  0.20334999, -0.12763   ,  0.41367   ,\n",
      "        0.55186999,  0.57907999, -0.33476999, -0.36559001, -0.54856998,\n",
      "       -0.062892  ,  0.26583999,  0.30204999,  0.99774998, -0.80480999,\n",
      "       -3.0243001 ,  0.01254   , -0.36941999,  2.21670008,  0.72201002,\n",
      "       -0.24978   ,  0.92136002,  0.034514  ,  0.46744999,  1.10790002,\n",
      "       -0.19358   , -0.074575  ,  0.23353   , -0.052062  , -0.22044   ,\n",
      "        0.057162  , -0.15806   , -0.30798   , -0.41624999,  0.37972   ,\n",
      "        0.15006   , -0.53211999, -0.20550001, -1.25259995,  0.071624  ,\n",
      "        0.70564997,  0.49744001, -0.42063001,  0.26148   , -1.53799999,\n",
      "       -0.30223   , -0.073438  , -0.28312001,  0.37103999, -0.25217   ,\n",
      "        0.016215  , -0.017099  , -0.38984001,  0.87423998, -0.72569001,\n",
      "       -0.51058   , -0.52028   , -0.1459    ,  0.82779998,  0.27061999], dtype=float32)]\n"
     ]
    }
   ],
   "source": [
    "from itertools import islice\n",
    "print(list(islice(glove_embed.values(), 1)))"
   ]
  },
  {
   "cell_type": "code",
   "execution_count": 87,
   "metadata": {},
   "outputs": [
    {
     "data": {
      "text/plain": [
       "['the', ',']"
      ]
     },
     "execution_count": 87,
     "metadata": {},
     "output_type": "execute_result"
    }
   ],
   "source": [
    "list(glove_embed.keys())[:2]"
   ]
  },
  {
   "cell_type": "code",
   "execution_count": 81,
   "metadata": {},
   "outputs": [
    {
     "data": {
      "text/plain": [
       "100"
      ]
     },
     "execution_count": 81,
     "metadata": {},
     "output_type": "execute_result"
    }
   ],
   "source": [
    "len(glove_embed[list(glove_embed)[0]])"
   ]
  },
  {
   "cell_type": "code",
   "execution_count": 73,
   "metadata": {},
   "outputs": [
    {
     "name": "stdout",
     "output_type": "stream",
     "text": [
      "Train on 200 samples, validate on 10000 samples\n",
      "Epoch 1/10\n",
      "\r",
      " 32/200 [===>..........................] - ETA: 0s - loss: 0.7111 - acc: 0.4688\b\b\b\b\b\b\b\b\b\b\b\b\b\b\b\b\b\b\b\b\b\b\b\b\b\b\b\b\b\b\b\b\b\b\b\b\b\b\b\b\b\b\b\b\b\b\b\b\b\b\b\b\b\b\b\b\b\b\b\b\b\b\b\b\b\b\b\b\b\b\b\b\b\b\b\b\b\b\b\r",
      "200/200 [==============================] - 0s 2ms/step - loss: 1.2641 - acc: 0.6700 - val_loss: 0.5944 - val_acc: 0.7217\n",
      "Epoch 2/10\n",
      "\r",
      " 32/200 [===>..........................] - ETA: 0s - loss: 0.5919 - acc: 0.6562\b\b\b\b\b\b\b\b\b\b\b\b\b\b\b\b\b\b\b\b\b\b\b\b\b\b\b\b\b\b\b\b\b\b\b\b\b\b\b\b\b\b\b\b\b\b\b\b\b\b\b\b\b\b\b\b\b\b\b\b\b\b\b\b\b\b\b\b\b\b\b\b\b\b\b\b\b\b\b\r",
      "200/200 [==============================] - 0s 2ms/step - loss: 0.4953 - acc: 0.7550 - val_loss: 0.6059 - val_acc: 0.7217\n",
      "Epoch 3/10\n",
      "\r",
      " 32/200 [===>..........................] - ETA: 0s - loss: 0.3696 - acc: 0.7812\b\b\b\b\b\b\b\b\b\b\b\b\b\b\b\b\b\b\b\b\b\b\b\b\b\b\b\b\b\b\b\b\b\b\b\b\b\b\b\b\b\b\b\b\b\b\b\b\b\b\b\b\b\b\b\b\b\b\b\b\b\b\b\b\b\b\b\b\b\b\b\b\b\b\b\b\b\b\b\r",
      "200/200 [==============================] - 0s 2ms/step - loss: 0.4280 - acc: 0.7550 - val_loss: 0.7350 - val_acc: 0.7217\n",
      "Epoch 4/10\n",
      "\r",
      " 32/200 [===>..........................] - ETA: 0s - loss: 0.2931 - acc: 0.8125\b\b\b\b\b\b\b\b\b\b\b\b\b\b\b\b\b\b\b\b\b\b\b\b\b\b\b\b\b\b\b\b\b\b\b\b\b\b\b\b\b\b\b\b\b\b\b\b\b\b\b\b\b\b\b\b\b\b\b\b\b\b\b\b\b\b\b\b\b\b\b\b\b\b\b\b\b\b\b\r",
      "200/200 [==============================] - 0s 2ms/step - loss: 0.3590 - acc: 0.7700 - val_loss: 1.2227 - val_acc: 0.7217\n",
      "Epoch 5/10\n",
      "\r",
      " 32/200 [===>..........................] - ETA: 0s - loss: 0.5203 - acc: 0.7188\b\b\b\b\b\b\b\b\b\b\b\b\b\b\b\b\b\b\b\b\b\b\b\b\b\b\b\b\b\b\b\b\b\b\b\b\b\b\b\b\b\b\b\b\b\b\b\b\b\b\b\b\b\b\b\b\b\b\b\b\b\b\b\b\b\b\b\b\b\b\b\b\b\b\b\b\b\b\b\r",
      "200/200 [==============================] - 0s 2ms/step - loss: 0.3211 - acc: 0.8150 - val_loss: 0.8582 - val_acc: 0.7217\n",
      "Epoch 6/10\n",
      "\r",
      " 32/200 [===>..........................] - ETA: 0s - loss: 0.3675 - acc: 0.6562\b\b\b\b\b\b\b\b\b\b\b\b\b\b\b\b\b\b\b\b\b\b\b\b\b\b\b\b\b\b\b\b\b\b\b\b\b\b\b\b\b\b\b\b\b\b\b\b\b\b\b\b\b\b\b\b\b\b\b\b\b\b\b\b\b\b\b\b\b\b\b\b\b\b\b\b\b\b\b\r",
      "200/200 [==============================] - 0s 2ms/step - loss: 0.2689 - acc: 0.8200 - val_loss: 0.5930 - val_acc: 0.7215\n",
      "Epoch 7/10\n",
      "\r",
      " 32/200 [===>..........................] - ETA: 0s - loss: 0.4009 - acc: 0.8125\b\b\b\b\b\b\b\b\b\b\b\b\b\b\b\b\b\b\b\b\b\b\b\b\b\b\b\b\b\b\b\b\b\b\b\b\b\b\b\b\b\b\b\b\b\b\b\b\b\b\b\b\b\b\b\b\b\b\b\b\b\b\b\b\b\b\b\b\b\b\b\b\b\b\b\b\b\b\b\r",
      "200/200 [==============================] - 0s 2ms/step - loss: 0.2569 - acc: 0.8350 - val_loss: 0.6071 - val_acc: 0.7219\n",
      "Epoch 8/10\n",
      "\r",
      " 32/200 [===>..........................] - ETA: 0s - loss: 0.1944 - acc: 0.9062\b\b\b\b\b\b\b\b\b\b\b\b\b\b\b\b\b\b\b\b\b\b\b\b\b\b\b\b\b\b\b\b\b\b\b\b\b\b\b\b\b\b\b\b\b\b\b\b\b\b\b\b\b\b\b\b\b\b\b\b\b\b\b\b\b\b\b\b\b\b\b\b\b\b\b\b\b\b\b\r",
      "200/200 [==============================] - 0s 2ms/step - loss: 0.2150 - acc: 0.8550 - val_loss: 0.6915 - val_acc: 0.7217\n",
      "Epoch 9/10\n",
      "\r",
      " 32/200 [===>..........................] - ETA: 0s - loss: 0.2326 - acc: 0.9375\b\b\b\b\b\b\b\b\b\b\b\b\b\b\b\b\b\b\b\b\b\b\b\b\b\b\b\b\b\b\b\b\b\b\b\b\b\b\b\b\b\b\b\b\b\b\b\b\b\b\b\b\b\b\b\b\b\b\b\b\b\b\b\b\b\b\b\b\b\b\b\b\b\b\b\b\b\b\b\r",
      "200/200 [==============================] - 0s 2ms/step - loss: 0.1876 - acc: 0.9250 - val_loss: 0.9983 - val_acc: 0.7217\n",
      "Epoch 10/10\n",
      "\r",
      " 32/200 [===>..........................] - ETA: 0s - loss: 0.1605 - acc: 0.8125\b\b\b\b\b\b\b\b\b\b\b\b\b\b\b\b\b\b\b\b\b\b\b\b\b\b\b\b\b\b\b\b\b\b\b\b\b\b\b\b\b\b\b\b\b\b\b\b\b\b\b\b\b\b\b\b\b\b\b\b\b\b\b\b\b\b\b\b\b\b\b\b\b\b\b\b\b\b\b\r",
      "200/200 [==============================] - 0s 2ms/step - loss: 0.1873 - acc: 0.9100 - val_loss: 0.6989 - val_acc: 0.7217\n"
     ]
    }
   ],
   "source": [
    "hist = model_glove.fit(x_train, y_train,\n",
    "                       epochs=10,\n",
    "                       batch_size=32,\n",
    "                       validation_data=(x_val, y_val))\n",
    "\n",
    "model_glove.save_weights('pre_trained_glove_model.h5')"
   ]
  },
  {
   "cell_type": "code",
   "execution_count": 74,
   "metadata": {},
   "outputs": [],
   "source": [
    "import matplotlib.pyplot as plt"
   ]
  },
  {
   "cell_type": "code",
   "execution_count": 75,
   "metadata": {},
   "outputs": [],
   "source": [
    "def plotting_keras_acc(history):\n",
    "    history = history.history\n",
    "    train_acc = history['acc']\n",
    "    val_acc = history['val_acc']\n",
    "    train_loss = history['loss']\n",
    "    val_loss = history['val_loss']\n",
    "    \n",
    "    epochs = np.arange(1, len(train_acc)+1)\n",
    "    \n",
    "    plt.plot(epochs, train_acc, '.-', label='Train Accuracy')\n",
    "    plt.plot(epochs, val_acc, '-', label='Validation Accuracy')\n",
    "    plt.xlabel(\"epochs\")\n",
    "    plt.ylabel(\"Accuracy\")\n",
    "    plt.grid()\n",
    "    plt.legend()\n",
    "    plt.show()\n",
    "    \n",
    "    plt.clf()\n",
    "    \n",
    "    plt.plot(epochs, train_loss, '.-', label='Train Loss')\n",
    "    plt.plot(epochs, val_loss, '-', label='Validation Loss')\n",
    "    plt.xlabel(\"epochs\")\n",
    "    plt.ylabel(\"Loss\")\n",
    "    plt.grid()\n",
    "    plt.legend()\n",
    "    plt.show()"
   ]
  },
  {
   "cell_type": "code",
   "execution_count": 76,
   "metadata": {},
   "outputs": [
    {
     "data": {
      "image/png": "[encoded data removed]",
      "text/plain": [
       "<matplotlib.figure.Figure at 0x1aabb088080>"
      ]
     },
     "metadata": {},
     "output_type": "display_data"
    },
    {
     "data": {
      "image/png": "[encoded data removed]",
      "text/plain": [
       "<matplotlib.figure.Figure at 0x1aabb0cbf60>"
      ]
     },
     "metadata": {},
     "output_type": "display_data"
    }
   ],
   "source": [
    "plotting_keras_acc(hist)"
   ]
  },
  {
   "cell_type": "code",
   "execution_count": null,
   "metadata": {},
   "outputs": [],
   "source": []
  }
 ],
 "metadata": {
  "kernelspec": {
   "display_name": "Python 3",
   "language": "python",
   "name": "python3"
  },
  "language_info": {
   "codemirror_mode": {
    "name": "ipython",
    "version": 3
   },
   "file_extension": ".py",
   "mimetype": "text/x-python",
   "name": "python",
   "nbconvert_exporter": "python",
   "pygments_lexer": "ipython3",
   "version": "3.6.3"
  }
 },
 "nbformat": 4,
 "nbformat_minor": 2
}
