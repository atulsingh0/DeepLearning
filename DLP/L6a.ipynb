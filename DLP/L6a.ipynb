{
 "cells": [
  {
   "cell_type": "markdown",
   "metadata": {},
   "source": [
    "## 6. Deep Learning for Texts and Sequences"
   ]
  },
  {
   "cell_type": "code",
   "execution_count": 1,
   "metadata": {},
   "outputs": [],
   "source": [
    "# importing module\n",
    "import sys\n",
    "module='../modules'\n",
    "if module not in sys.path: sys.path.append(module)\n",
    "import myutils"
   ]
  },
  {
   "cell_type": "code",
   "execution_count": 2,
   "metadata": {},
   "outputs": [],
   "source": [
    "# import\n",
    "import numpy as np"
   ]
  },
  {
   "cell_type": "code",
   "execution_count": 3,
   "metadata": {},
   "outputs": [
    {
     "name": "stderr",
     "output_type": "stream",
     "text": [
      "Using TensorFlow backend.\n"
     ]
    }
   ],
   "source": [
    "from keras.preprocessing.text import Tokenizer"
   ]
  },
  {
   "cell_type": "code",
   "execution_count": 4,
   "metadata": {},
   "outputs": [],
   "source": [
    "samples = ['The cat sat on the mat.', 'The dog ate my homework.']"
   ]
  },
  {
   "cell_type": "markdown",
   "metadata": {},
   "source": [
    "### Using One-Hot encoder technique"
   ]
  },
  {
   "cell_type": "code",
   "execution_count": 5,
   "metadata": {},
   "outputs": [
    {
     "data": {
      "text/plain": [
       "{'The': 1,\n",
       " 'ate': 8,\n",
       " 'cat': 2,\n",
       " 'dog': 7,\n",
       " 'homework.': 10,\n",
       " 'mat.': 6,\n",
       " 'my': 9,\n",
       " 'on': 4,\n",
       " 'sat': 3,\n",
       " 'the': 5}"
      ]
     },
     "execution_count": 5,
     "metadata": {},
     "output_type": "execute_result"
    }
   ],
   "source": [
    "word_index = {}\n",
    "for sen in samples:\n",
    "    for word in sen.split():\n",
    "        if word not in word_index:\n",
    "            word_index[word] = len(word_index)+1\n",
    "word_index"
   ]
  },
  {
   "cell_type": "code",
   "execution_count": 6,
   "metadata": {},
   "outputs": [
    {
     "data": {
      "text/plain": [
       "array([[[ 0.,  1.,  0.,  0.,  0.,  0.,  0.,  0.,  0.,  0.,  0.],\n",
       "        [ 0.,  0.,  1.,  0.,  0.,  0.,  0.,  0.,  0.,  0.,  0.],\n",
       "        [ 0.,  0.,  0.,  1.,  0.,  0.,  0.,  0.,  0.,  0.,  0.],\n",
       "        [ 0.,  0.,  0.,  0.,  1.,  0.,  0.,  0.,  0.,  0.,  0.],\n",
       "        [ 0.,  0.,  0.,  0.,  0.,  1.,  0.,  0.,  0.,  0.,  0.],\n",
       "        [ 0.,  0.,  0.,  0.,  0.,  0.,  1.,  0.,  0.,  0.,  0.],\n",
       "        [ 0.,  0.,  0.,  0.,  0.,  0.,  0.,  0.,  0.,  0.,  0.],\n",
       "        [ 0.,  0.,  0.,  0.,  0.,  0.,  0.,  0.,  0.,  0.,  0.],\n",
       "        [ 0.,  0.,  0.,  0.,  0.,  0.,  0.,  0.,  0.,  0.,  0.],\n",
       "        [ 0.,  0.,  0.,  0.,  0.,  0.,  0.,  0.,  0.,  0.,  0.]],\n",
       "\n",
       "       [[ 0.,  1.,  0.,  0.,  0.,  0.,  0.,  0.,  0.,  0.,  0.],\n",
       "        [ 0.,  0.,  0.,  0.,  0.,  0.,  0.,  1.,  0.,  0.,  0.],\n",
       "        [ 0.,  0.,  0.,  0.,  0.,  0.,  0.,  0.,  1.,  0.,  0.],\n",
       "        [ 0.,  0.,  0.,  0.,  0.,  0.,  0.,  0.,  0.,  1.,  0.],\n",
       "        [ 0.,  0.,  0.,  0.,  0.,  0.,  0.,  0.,  0.,  0.,  1.],\n",
       "        [ 0.,  0.,  0.,  0.,  0.,  0.,  0.,  0.,  0.,  0.,  0.],\n",
       "        [ 0.,  0.,  0.,  0.,  0.,  0.,  0.,  0.,  0.,  0.,  0.],\n",
       "        [ 0.,  0.,  0.,  0.,  0.,  0.,  0.,  0.,  0.,  0.,  0.],\n",
       "        [ 0.,  0.,  0.,  0.,  0.,  0.,  0.,  0.,  0.,  0.,  0.],\n",
       "        [ 0.,  0.,  0.,  0.,  0.,  0.,  0.,  0.,  0.,  0.,  0.]]])"
      ]
     },
     "execution_count": 6,
     "metadata": {},
     "output_type": "execute_result"
    }
   ],
   "source": [
    "max_len = 10 \n",
    "onehot_samples = np.zeros((len(samples), max_len, len(word_index)+1))\n",
    "\n",
    "for idx, sent in enumerate(samples):\n",
    "    for j, word in list(enumerate(sent.split()))[:max_len]:\n",
    "        onehot_samples[idx, j, word_index.get(word)] = 1\n",
    "onehot_samples"
   ]
  },
  {
   "cell_type": "markdown",
   "metadata": {},
   "source": [
    "### Using Keras "
   ]
  },
  {
   "cell_type": "code",
   "execution_count": 7,
   "metadata": {},
   "outputs": [],
   "source": [
    "tokenizer = Tokenizer(num_words=1000)\n",
    "tokenizer.fit_on_texts(samples)"
   ]
  },
  {
   "cell_type": "code",
   "execution_count": 8,
   "metadata": {},
   "outputs": [
    {
     "data": {
      "text/plain": [
       "array([[ 0.,  1.,  1., ...,  0.,  0.,  0.],\n",
       "       [ 0.,  1.,  0., ...,  0.,  0.,  0.]])"
      ]
     },
     "execution_count": 8,
     "metadata": {},
     "output_type": "execute_result"
    }
   ],
   "source": [
    "oneHot_results = tokenizer.texts_to_matrix(samples)\n",
    "oneHot_results"
   ]
  },
  {
   "cell_type": "code",
   "execution_count": 9,
   "metadata": {},
   "outputs": [
    {
     "data": {
      "text/plain": [
       "[[1, 2, 3, 4, 1, 5], [1, 6, 7, 8, 9]]"
      ]
     },
     "execution_count": 9,
     "metadata": {},
     "output_type": "execute_result"
    }
   ],
   "source": [
    "# print word index in sentences\n",
    "sequncers = tokenizer.texts_to_sequences(samples)\n",
    "sequncers"
   ]
  },
  {
   "cell_type": "code",
   "execution_count": 10,
   "metadata": {},
   "outputs": [
    {
     "data": {
      "text/plain": [
       "{'ate': 7,\n",
       " 'cat': 2,\n",
       " 'dog': 6,\n",
       " 'homework': 9,\n",
       " 'mat': 5,\n",
       " 'my': 8,\n",
       " 'on': 4,\n",
       " 'sat': 3,\n",
       " 'the': 1}"
      ]
     },
     "execution_count": 10,
     "metadata": {},
     "output_type": "execute_result"
    }
   ],
   "source": [
    "# printing index\n",
    "tokenizer.word_index"
   ]
  },
  {
   "cell_type": "markdown",
   "metadata": {},
   "source": [
    "### Using Word Embeddings"
   ]
  },
  {
   "cell_type": "code",
   "execution_count": 11,
   "metadata": {},
   "outputs": [],
   "source": [
    "from keras.layers import Embedding, Dense\n",
    "from keras.datasets import imdb\n",
    "from keras import losses, metrics, optimizers, models, layers, preprocessing"
   ]
  },
  {
   "cell_type": "code",
   "execution_count": 12,
   "metadata": {},
   "outputs": [],
   "source": [
    "max_features = 10000\n",
    "maxlen = 20\n",
    "# loading data\n",
    "(train_data, train_label),(test_data, test_label) = imdb.load_data(num_words=max_features)"
   ]
  },
  {
   "cell_type": "code",
   "execution_count": 13,
   "metadata": {},
   "outputs": [],
   "source": [
    "# this will pad or truncate the data based on maximum length provided\n",
    "\n",
    "train_data = preprocessing.sequence.pad_sequences(train_data, maxlen=maxlen)\n",
    "test_data = preprocessing.sequence.pad_sequences(test_data, maxlen=maxlen)"
   ]
  },
  {
   "cell_type": "code",
   "execution_count": 14,
   "metadata": {},
   "outputs": [
    {
     "data": {
      "text/plain": [
       "(25000, 20)"
      ]
     },
     "execution_count": 14,
     "metadata": {},
     "output_type": "execute_result"
    }
   ],
   "source": [
    "train_data.shape"
   ]
  },
  {
   "cell_type": "code",
   "execution_count": 15,
   "metadata": {},
   "outputs": [
    {
     "data": {
      "text/plain": [
       "array([[  65,   16,   38, 1334,   88,   12,   16,  283,    5,   16, 4472,\n",
       "         113,  103,   32,   15,   16, 5345,   19,  178,   32],\n",
       "       [  23,    4, 1690,   15,   16,    4, 1355,    5,   28,    6,   52,\n",
       "         154,  462,   33,   89,   78,  285,   16,  145,   95]], dtype=int32)"
      ]
     },
     "execution_count": 15,
     "metadata": {},
     "output_type": "execute_result"
    }
   ],
   "source": [
    "train_data[:2]"
   ]
  },
  {
   "cell_type": "code",
   "execution_count": 16,
   "metadata": {},
   "outputs": [
    {
     "data": {
      "text/plain": [
       "20"
      ]
     },
     "execution_count": 16,
     "metadata": {},
     "output_type": "execute_result"
    }
   ],
   "source": [
    "len(train_data[0])"
   ]
  },
  {
   "cell_type": "code",
   "execution_count": 17,
   "metadata": {},
   "outputs": [
    {
     "name": "stdout",
     "output_type": "stream",
     "text": [
      "_________________________________________________________________\n",
      "Layer (type)                 Output Shape              Param #   \n",
      "=================================================================\n",
      "embedding_1 (Embedding)      (None, 20, 8)             80000     \n",
      "_________________________________________________________________\n",
      "flatten_1 (Flatten)          (None, 160)               0         \n",
      "_________________________________________________________________\n",
      "dense_1 (Dense)              (None, 1)                 161       \n",
      "=================================================================\n",
      "Total params: 80,161\n",
      "Trainable params: 80,161\n",
      "Non-trainable params: 0\n",
      "_________________________________________________________________\n",
      "Train on 20000 samples, validate on 5000 samples\n",
      "Epoch 1/10\n",
      "20000/20000 [==============================] - 20s 1ms/step - loss: 0.6759 - acc: 0.6050 - val_loss: 0.6398 - val_acc: 0.6814\n",
      "Epoch 2/10\n",
      "20000/20000 [==============================] - 3s 126us/step - loss: 0.5657 - acc: 0.7427 - val_loss: 0.5467 - val_acc: 0.7206\n",
      "Epoch 3/10\n",
      "20000/20000 [==============================] - 2s 124us/step - loss: 0.4752 - acc: 0.7808 - val_loss: 0.5113 - val_acc: 0.7384\n",
      "Epoch 4/10\n",
      "20000/20000 [==============================] - 3s 132us/step - loss: 0.4263 - acc: 0.8077 - val_loss: 0.5008 - val_acc: 0.7452\n",
      "Epoch 5/10\n",
      "20000/20000 [==============================] - 3s 156us/step - loss: 0.3930 - acc: 0.8258 - val_loss: 0.4981 - val_acc: 0.7538\n",
      "Epoch 6/10\n",
      "20000/20000 [==============================] - 3s 162us/step - loss: 0.3668 - acc: 0.8395 - val_loss: 0.5014 - val_acc: 0.7530\n",
      "Epoch 7/10\n",
      "20000/20000 [==============================] - 4s 176us/step - loss: 0.3435 - acc: 0.8533 - val_loss: 0.5052 - val_acc: 0.7520\n",
      "Epoch 8/10\n",
      "20000/20000 [==============================] - 3s 160us/step - loss: 0.3223 - acc: 0.8657 - val_loss: 0.5132 - val_acc: 0.7486\n",
      "Epoch 9/10\n",
      "20000/20000 [==============================] - 3s 129us/step - loss: 0.3022 - acc: 0.8766 - val_loss: 0.5213 - val_acc: 0.7490\n",
      "Epoch 10/10\n",
      "20000/20000 [==============================] - 3s 154us/step - loss: 0.2839 - acc: 0.8860 - val_loss: 0.5303 - val_acc: 0.7466\n"
     ]
    }
   ],
   "source": [
    "# creating Embeddings Models\n",
    "model = models.Sequential()\n",
    "model.add(layers.Embedding(10000, 8, input_length=maxlen))\n",
    "model.add(layers.Flatten())\n",
    "model.add(layers.Dense(1, activation='sigmoid'))\n",
    "\n",
    "model.compile(optimizer='RMSprop', loss='binary_crossentropy', metrics=['acc'])\n",
    "\n",
    "model.summary()\n",
    "\n",
    "hist = model.fit(train_data, train_label,\n",
    "                epochs=10,\n",
    "                batch_size=32,\n",
    "                validation_split=0.2)"
   ]
  },
  {
   "cell_type": "code",
   "execution_count": 18,
   "metadata": {},
   "outputs": [
    {
     "data": {
      "text/plain": [
       "dict_keys(['val_loss', 'val_acc', 'loss', 'acc'])"
      ]
     },
     "execution_count": 18,
     "metadata": {},
     "output_type": "execute_result"
    }
   ],
   "source": [
    "history = hist.history\n",
    "history.keys()"
   ]
  },
  {
   "cell_type": "code",
   "execution_count": 19,
   "metadata": {},
   "outputs": [
    {
     "name": "stdout",
     "output_type": "stream",
     "text": [
      "validation accuracy =  0.73886\n"
     ]
    }
   ],
   "source": [
    "print(\"validation accuracy = \", np.mean(history['val_acc']))"
   ]
  },
  {
   "cell_type": "code",
   "execution_count": 20,
   "metadata": {},
   "outputs": [
    {
     "data": {
      "image/png": "[encoded data removed]",
      "text/plain": [
       "<matplotlib.figure.Figure at 0x7faf4daaadd8>"
      ]
     },
     "metadata": {},
     "output_type": "display_data"
    }
   ],
   "source": [
    "myutils.plot_keras_acc_ax(hist)"
   ]
  },
  {
   "cell_type": "markdown",
   "metadata": {},
   "source": [
    "### Word2Vec "
   ]
  },
  {
   "cell_type": "code",
   "execution_count": 22,
   "metadata": {},
   "outputs": [],
   "source": [
    "path='../../datasets/imdb/test/'\n",
    "data=[]\n",
    "labels=[]"
   ]
  },
  {
   "cell_type": "code",
   "execution_count": 24,
   "metadata": {},
   "outputs": [
    {
     "data": {
      "text/plain": [
       "['4853_7.txt',\n",
       " '8637_10.txt',\n",
       " '799_7.txt',\n",
       " '2126_9.txt',\n",
       " '2443_10.txt',\n",
       " '8103_10.txt',\n",
       " '3939_7.txt',\n",
       " '67_10.txt',\n",
       " '12432_7.txt',\n",
       " '1755_10.txt',\n",
       " '11281_9.txt',\n",
       " '12387_8.txt',\n",
       " '7597_10.txt',\n",
       " '1204_8.txt',\n",
       " '6381_9.txt',\n",
       " '2104_10.txt',\n",
       " '11706_8.txt',\n",
       " '11543_10.txt',\n",
       " '922_8.txt',\n",
       " '2223_10.txt',\n",
       " '5678_10.txt',\n",
       " '11783_10.txt',\n",
       " '2049_10.txt',\n",
       " '7750_7.txt',\n",
       " '9300_9.txt',\n",
       " '2989_8.txt',\n",
       " '6383_10.txt',\n",
       " '3141_10.txt',\n",
       " '1856_7.txt',\n",
       " '4461_8.txt',\n",
       " '4397_7.txt',\n",
       " '5953_8.txt',\n",
       " '8656_7.txt',\n",
       " '2567_9.txt',\n",
       " '5355_10.txt',\n",
       " '4702_10.txt',\n",
       " '8208_7.txt',\n",
       " '6867_8.txt',\n",
       " '3549_8.txt',\n",
       " '4777_10.txt',\n",
       " '6130_9.txt',\n",
       " '10178_10.txt',\n",
       " '7833_9.txt',\n",
       " '6662_9.txt',\n",
       " '12147_10.txt',\n",
       " '8394_9.txt',\n",
       " '464_10.txt',\n",
       " '8841_9.txt',\n",
       " '6505_8.txt',\n",
       " '10512_9.txt',\n",
       " '7440_10.txt',\n",
       " '11115_7.txt',\n",
       " '2467_9.txt',\n",
       " '11197_7.txt',\n",
       " '5373_7.txt',\n",
       " '10908_8.txt',\n",
       " '8069_8.txt',\n",
       " '3458_9.txt',\n",
       " '11828_7.txt',\n",
       " '6973_7.txt',\n",
       " '9688_10.txt',\n",
       " '11040_8.txt',\n",
       " '3763_7.txt',\n",
       " '6982_10.txt',\n",
       " '6271_9.txt',\n",
       " '6830_9.txt',\n",
       " '528_7.txt',\n",
       " '12067_7.txt',\n",
       " '8192_9.txt',\n",
       " '5080_8.txt',\n",
       " '7557_10.txt',\n",
       " '6955_9.txt',\n",
       " '10480_8.txt',\n",
       " '7869_10.txt',\n",
       " '8111_10.txt',\n",
       " '4212_7.txt',\n",
       " '5045_8.txt',\n",
       " '12050_9.txt',\n",
       " '2465_7.txt',\n",
       " '11254_10.txt',\n",
       " '5035_7.txt',\n",
       " '5488_8.txt',\n",
       " '11599_7.txt',\n",
       " '1072_8.txt',\n",
       " '9571_10.txt',\n",
       " '1212_7.txt',\n",
       " '9661_10.txt',\n",
       " '8882_8.txt',\n",
       " '233_8.txt',\n",
       " '5220_10.txt',\n",
       " '11434_9.txt',\n",
       " '11039_8.txt',\n",
       " '9934_8.txt',\n",
       " '7105_8.txt',\n",
       " '12353_7.txt',\n",
       " '1337_10.txt',\n",
       " '1931_10.txt',\n",
       " '7998_10.txt',\n",
       " '8620_7.txt',\n",
       " '5120_9.txt',\n",
       " '4741_10.txt',\n",
       " '10722_7.txt',\n",
       " '6047_10.txt',\n",
       " '2939_8.txt',\n",
       " '4252_10.txt',\n",
       " '3930_8.txt',\n",
       " '10686_7.txt',\n",
       " '3792_8.txt',\n",
       " '2446_10.txt',\n",
       " '6847_10.txt',\n",
       " '12109_10.txt',\n",
       " '4567_10.txt',\n",
       " '11146_7.txt',\n",
       " '1689_8.txt',\n",
       " '7563_9.txt',\n",
       " '10957_10.txt',\n",
       " '10934_8.txt',\n",
       " '717_8.txt',\n",
       " '4944_10.txt',\n",
       " '43_10.txt',\n",
       " '9781_10.txt',\n",
       " '2930_10.txt',\n",
       " '10502_7.txt',\n",
       " '4939_10.txt',\n",
       " '8642_10.txt',\n",
       " '2965_7.txt',\n",
       " '3374_10.txt',\n",
       " '12471_8.txt',\n",
       " '8312_10.txt',\n",
       " '10445_10.txt',\n",
       " '8089_9.txt',\n",
       " '7677_10.txt',\n",
       " '2099_7.txt',\n",
       " '1427_10.txt',\n",
       " '4098_8.txt',\n",
       " '4992_8.txt',\n",
       " '12404_10.txt',\n",
       " '898_9.txt',\n",
       " '5904_10.txt',\n",
       " '11563_8.txt',\n",
       " '6808_9.txt',\n",
       " '2370_8.txt',\n",
       " '2556_8.txt',\n",
       " '3635_9.txt',\n",
       " '7057_7.txt',\n",
       " '5330_8.txt',\n",
       " '2349_8.txt',\n",
       " '5531_9.txt',\n",
       " '5675_9.txt',\n",
       " '11752_10.txt',\n",
       " '7509_10.txt',\n",
       " '11676_10.txt',\n",
       " '5026_10.txt',\n",
       " '5587_8.txt',\n",
       " '577_8.txt',\n",
       " '11487_8.txt',\n",
       " '11811_10.txt',\n",
       " '3878_10.txt',\n",
       " '3373_8.txt',\n",
       " '7339_10.txt',\n",
       " '11255_9.txt',\n",
       " '5525_7.txt',\n",
       " '6181_8.txt',\n",
       " '4804_7.txt',\n",
       " '10789_8.txt',\n",
       " '3858_10.txt',\n",
       " '6097_10.txt',\n",
       " '2296_9.txt',\n",
       " '5458_9.txt',\n",
       " '5513_10.txt',\n",
       " '2051_7.txt',\n",
       " '5896_10.txt',\n",
       " '5873_10.txt',\n",
       " '12091_8.txt',\n",
       " '5992_10.txt',\n",
       " '6069_10.txt',\n",
       " '3350_8.txt',\n",
       " '3729_8.txt',\n",
       " '10529_7.txt',\n",
       " '10973_7.txt',\n",
       " '7951_7.txt',\n",
       " '6117_10.txt',\n",
       " '4922_10.txt',\n",
       " '5311_9.txt',\n",
       " '736_8.txt',\n",
       " '1599_7.txt',\n",
       " '2384_8.txt',\n",
       " '2579_9.txt',\n",
       " '3_7.txt',\n",
       " '10817_8.txt',\n",
       " '2023_7.txt',\n",
       " '7277_10.txt',\n",
       " '3192_8.txt',\n",
       " '3310_8.txt',\n",
       " '1178_10.txt',\n",
       " '11827_10.txt',\n",
       " '10418_8.txt',\n",
       " '1642_10.txt',\n",
       " '12201_10.txt',\n",
       " '1076_8.txt',\n",
       " '12260_7.txt',\n",
       " '9954_8.txt',\n",
       " '8218_9.txt',\n",
       " '2168_10.txt',\n",
       " '4978_9.txt',\n",
       " '9493_10.txt',\n",
       " '9189_10.txt',\n",
       " '556_7.txt',\n",
       " '180_10.txt',\n",
       " '7545_10.txt',\n",
       " '10203_10.txt',\n",
       " '6878_9.txt',\n",
       " '11238_10.txt',\n",
       " '6389_8.txt',\n",
       " '2609_7.txt',\n",
       " '12009_10.txt',\n",
       " '1370_10.txt',\n",
       " '11554_10.txt',\n",
       " '10212_7.txt',\n",
       " '5368_8.txt',\n",
       " '4068_9.txt',\n",
       " '8108_10.txt',\n",
       " '155_8.txt',\n",
       " '5209_10.txt',\n",
       " '3145_9.txt',\n",
       " '4513_8.txt',\n",
       " '5299_8.txt',\n",
       " '8559_7.txt',\n",
       " '12129_10.txt',\n",
       " '9122_8.txt',\n",
       " '12210_10.txt',\n",
       " '3235_9.txt',\n",
       " '6699_8.txt',\n",
       " '3610_8.txt',\n",
       " '3542_9.txt',\n",
       " '2782_8.txt',\n",
       " '6994_8.txt',\n",
       " '12107_9.txt',\n",
       " '7196_8.txt',\n",
       " '6213_8.txt',\n",
       " '3590_9.txt',\n",
       " '6433_7.txt',\n",
       " '6463_10.txt',\n",
       " '5093_10.txt',\n",
       " '3991_8.txt',\n",
       " '9071_8.txt',\n",
       " '9612_10.txt',\n",
       " '3887_10.txt',\n",
       " '3040_8.txt',\n",
       " '11708_7.txt',\n",
       " '2211_7.txt',\n",
       " '4325_9.txt',\n",
       " '9241_7.txt',\n",
       " '6591_7.txt',\n",
       " '5387_8.txt',\n",
       " '5958_9.txt',\n",
       " '6854_7.txt',\n",
       " '10306_8.txt',\n",
       " '4525_8.txt',\n",
       " '10990_8.txt',\n",
       " '3127_8.txt',\n",
       " '3292_7.txt',\n",
       " '6030_9.txt',\n",
       " '11764_7.txt',\n",
       " '3016_8.txt',\n",
       " '12086_9.txt',\n",
       " '5154_10.txt',\n",
       " '9787_8.txt',\n",
       " '5830_10.txt',\n",
       " '11418_7.txt',\n",
       " '9213_10.txt',\n",
       " '8860_10.txt',\n",
       " '5777_10.txt',\n",
       " '1417_9.txt',\n",
       " '8085_9.txt',\n",
       " '10118_8.txt',\n",
       " '5700_9.txt',\n",
       " '3204_7.txt',\n",
       " '10037_7.txt',\n",
       " '10764_10.txt',\n",
       " '6694_9.txt',\n",
       " '4031_7.txt',\n",
       " '4822_8.txt',\n",
       " '12288_7.txt',\n",
       " '5947_7.txt',\n",
       " '5135_9.txt',\n",
       " '686_8.txt',\n",
       " '11887_8.txt',\n",
       " '1656_7.txt',\n",
       " '3606_7.txt',\n",
       " '5599_10.txt',\n",
       " '7787_10.txt',\n",
       " '9048_7.txt',\n",
       " '4581_8.txt',\n",
       " '815_7.txt',\n",
       " '11947_10.txt',\n",
       " '631_10.txt',\n",
       " '9103_10.txt',\n",
       " '11474_10.txt',\n",
       " '10180_8.txt',\n",
       " '7728_9.txt',\n",
       " '2885_9.txt',\n",
       " '8286_9.txt',\n",
       " '2003_10.txt',\n",
       " '11608_9.txt',\n",
       " '6286_10.txt',\n",
       " '495_10.txt',\n",
       " '8429_8.txt',\n",
       " '1003_8.txt',\n",
       " '7102_8.txt',\n",
       " '10006_7.txt',\n",
       " '1600_10.txt',\n",
       " '10395_10.txt',\n",
       " '9446_8.txt',\n",
       " '2337_9.txt',\n",
       " '6806_10.txt',\n",
       " '9414_10.txt',\n",
       " '596_10.txt',\n",
       " '6190_8.txt',\n",
       " '7594_8.txt',\n",
       " '10580_10.txt',\n",
       " '8912_10.txt',\n",
       " '7080_9.txt',\n",
       " '2234_7.txt',\n",
       " '10610_7.txt',\n",
       " '6844_10.txt',\n",
       " '7887_7.txt',\n",
       " '5271_10.txt',\n",
       " '6206_7.txt',\n",
       " '3244_9.txt',\n",
       " '2694_10.txt',\n",
       " '8005_10.txt',\n",
       " '1844_9.txt',\n",
       " '9732_10.txt',\n",
       " '4593_8.txt',\n",
       " '8675_10.txt',\n",
       " '1375_10.txt',\n",
       " '2415_7.txt',\n",
       " '502_7.txt',\n",
       " '958_10.txt',\n",
       " '8018_10.txt',\n",
       " '10976_8.txt',\n",
       " '5752_7.txt',\n",
       " '2011_10.txt',\n",
       " '9988_10.txt',\n",
       " '2675_7.txt',\n",
       " '11943_7.txt',\n",
       " '1367_10.txt',\n",
       " '7910_10.txt',\n",
       " '6453_10.txt',\n",
       " '487_10.txt',\n",
       " '1626_7.txt',\n",
       " '11778_10.txt',\n",
       " '4691_10.txt',\n",
       " '3966_10.txt',\n",
       " '4426_10.txt',\n",
       " '8097_7.txt',\n",
       " '4906_10.txt',\n",
       " '6191_10.txt',\n",
       " '4090_7.txt',\n",
       " '11949_9.txt',\n",
       " '10633_8.txt',\n",
       " '10625_8.txt',\n",
       " '12286_10.txt',\n",
       " '5861_8.txt',\n",
       " '5963_10.txt',\n",
       " '1309_7.txt',\n",
       " '707_10.txt',\n",
       " '11416_7.txt',\n",
       " '6233_8.txt',\n",
       " '7161_10.txt',\n",
       " '12049_8.txt',\n",
       " '1211_8.txt',\n",
       " '11282_10.txt',\n",
       " '866_10.txt',\n",
       " '11539_10.txt',\n",
       " '7682_10.txt',\n",
       " '7965_9.txt',\n",
       " '2256_9.txt',\n",
       " '3669_8.txt',\n",
       " '8668_8.txt',\n",
       " '10888_10.txt',\n",
       " '2588_8.txt',\n",
       " '12170_9.txt',\n",
       " '2217_8.txt',\n",
       " '10835_9.txt',\n",
       " '8862_9.txt',\n",
       " '315_8.txt',\n",
       " '9592_10.txt',\n",
       " '7159_10.txt',\n",
       " '8035_10.txt',\n",
       " '4167_10.txt',\n",
       " '9496_8.txt',\n",
       " '4390_8.txt',\n",
       " '2768_10.txt',\n",
       " '3184_10.txt',\n",
       " '8468_8.txt',\n",
       " '5785_8.txt',\n",
       " '11217_9.txt',\n",
       " '7815_7.txt',\n",
       " '6267_7.txt',\n",
       " '1721_10.txt',\n",
       " '10015_8.txt',\n",
       " '4653_10.txt',\n",
       " '11301_10.txt',\n",
       " '3455_8.txt',\n",
       " '12106_10.txt',\n",
       " '11359_8.txt',\n",
       " '4725_7.txt',\n",
       " '7260_7.txt',\n",
       " '10412_8.txt',\n",
       " '4626_8.txt',\n",
       " '2165_8.txt',\n",
       " '322_8.txt',\n",
       " '1186_10.txt',\n",
       " '1192_10.txt',\n",
       " '9623_8.txt',\n",
       " '6605_10.txt',\n",
       " '2618_10.txt',\n",
       " '5784_9.txt',\n",
       " '3034_10.txt',\n",
       " '1138_8.txt',\n",
       " '6987_10.txt',\n",
       " '9357_8.txt',\n",
       " '8509_10.txt',\n",
       " '1238_8.txt',\n",
       " '2117_10.txt',\n",
       " '88_10.txt',\n",
       " '10777_9.txt',\n",
       " '10407_10.txt',\n",
       " '12424_7.txt',\n",
       " '5040_8.txt',\n",
       " '1862_8.txt',\n",
       " '263_10.txt',\n",
       " '1596_8.txt',\n",
       " '7216_10.txt',\n",
       " '4238_7.txt',\n",
       " '10080_10.txt',\n",
       " '3599_7.txt',\n",
       " '1631_7.txt',\n",
       " '1486_9.txt',\n",
       " '8299_8.txt',\n",
       " '6754_10.txt',\n",
       " '11395_10.txt',\n",
       " '11773_10.txt',\n",
       " '3675_7.txt',\n",
       " '1313_9.txt',\n",
       " '4013_7.txt',\n",
       " '12383_10.txt',\n",
       " '10467_9.txt',\n",
       " '77_10.txt',\n",
       " '9384_7.txt',\n",
       " '5800_7.txt',\n",
       " '5218_7.txt',\n",
       " '11903_10.txt',\n",
       " '371_8.txt',\n",
       " '646_9.txt',\n",
       " '1167_10.txt',\n",
       " '4352_9.txt',\n",
       " '7649_7.txt',\n",
       " '7992_9.txt',\n",
       " '1171_8.txt',\n",
       " '7283_9.txt',\n",
       " '10144_8.txt',\n",
       " '6832_7.txt',\n",
       " '1769_10.txt',\n",
       " '11421_10.txt',\n",
       " '963_8.txt',\n",
       " '2089_10.txt',\n",
       " '6170_10.txt',\n",
       " '218_10.txt',\n",
       " '3089_8.txt',\n",
       " '9251_10.txt',\n",
       " '2759_8.txt',\n",
       " '6300_7.txt',\n",
       " '6816_10.txt',\n",
       " '5604_8.txt',\n",
       " '5788_10.txt',\n",
       " '5312_7.txt',\n",
       " '10877_10.txt',\n",
       " '4795_8.txt',\n",
       " '603_8.txt',\n",
       " '1542_7.txt',\n",
       " '8994_10.txt',\n",
       " '11619_9.txt',\n",
       " '5127_10.txt',\n",
       " '7695_10.txt',\n",
       " '7595_10.txt',\n",
       " '12261_7.txt',\n",
       " '4185_9.txt',\n",
       " '5874_10.txt',\n",
       " '500_10.txt',\n",
       " '11163_8.txt',\n",
       " '193_9.txt',\n",
       " '7515_9.txt',\n",
       " '119_9.txt',\n",
       " '445_9.txt',\n",
       " '9309_8.txt',\n",
       " '9724_10.txt',\n",
       " '7514_7.txt',\n",
       " '8458_8.txt',\n",
       " '6709_9.txt',\n",
       " '10354_7.txt',\n",
       " '11829_8.txt',\n",
       " '142_8.txt',\n",
       " '4570_7.txt',\n",
       " '11452_7.txt',\n",
       " '11414_7.txt',\n",
       " '8564_10.txt',\n",
       " '3631_7.txt',\n",
       " '8158_8.txt',\n",
       " '6656_8.txt',\n",
       " '7741_10.txt',\n",
       " '5067_10.txt',\n",
       " '12476_8.txt',\n",
       " '4279_8.txt',\n",
       " '1442_8.txt',\n",
       " '9335_8.txt',\n",
       " '11971_8.txt',\n",
       " '2131_8.txt',\n",
       " '12347_10.txt',\n",
       " '9436_8.txt',\n",
       " '7851_8.txt',\n",
       " '6751_8.txt',\n",
       " '4259_10.txt',\n",
       " '1289_8.txt',\n",
       " '6308_8.txt',\n",
       " '10812_9.txt',\n",
       " '3625_8.txt',\n",
       " '8692_8.txt',\n",
       " '832_7.txt',\n",
       " '9993_10.txt',\n",
       " '7687_10.txt',\n",
       " '3424_8.txt',\n",
       " '8712_10.txt',\n",
       " '8411_10.txt',\n",
       " '11491_10.txt',\n",
       " '314_10.txt',\n",
       " '12315_10.txt',\n",
       " '5845_10.txt',\n",
       " '9857_10.txt',\n",
       " '5081_10.txt',\n",
       " '3568_8.txt',\n",
       " '10277_10.txt',\n",
       " '4750_8.txt',\n",
       " '2497_7.txt',\n",
       " '3506_9.txt',\n",
       " '5895_10.txt',\n",
       " '6616_8.txt',\n",
       " '6883_10.txt',\n",
       " '6072_10.txt',\n",
       " '115_9.txt',\n",
       " '3215_10.txt',\n",
       " '5419_10.txt',\n",
       " '3067_7.txt',\n",
       " '7100_7.txt',\n",
       " '3340_10.txt',\n",
       " '2862_9.txt',\n",
       " '4852_8.txt',\n",
       " '1388_8.txt',\n",
       " '11837_9.txt',\n",
       " '5582_10.txt',\n",
       " '505_9.txt',\n",
       " '10462_10.txt',\n",
       " '1764_8.txt',\n",
       " '5948_9.txt',\n",
       " '1040_9.txt',\n",
       " '1553_10.txt',\n",
       " '9606_10.txt',\n",
       " '2336_10.txt',\n",
       " '10894_10.txt',\n",
       " '11117_7.txt',\n",
       " '1202_9.txt',\n",
       " '7241_9.txt',\n",
       " '5461_7.txt',\n",
       " '11413_10.txt',\n",
       " '4233_8.txt',\n",
       " '11327_8.txt',\n",
       " '5810_7.txt',\n",
       " '7503_8.txt',\n",
       " '875_10.txt',\n",
       " '3557_9.txt',\n",
       " '6010_10.txt',\n",
       " '10302_7.txt',\n",
       " '6553_10.txt',\n",
       " '6587_9.txt',\n",
       " '4989_7.txt',\n",
       " '1580_8.txt',\n",
       " '701_8.txt',\n",
       " '857_7.txt',\n",
       " '810_9.txt',\n",
       " '4504_7.txt',\n",
       " '7353_10.txt',\n",
       " '935_10.txt',\n",
       " '8190_9.txt',\n",
       " '8311_8.txt',\n",
       " '4267_10.txt',\n",
       " '6971_8.txt',\n",
       " '12333_7.txt',\n",
       " '8803_8.txt',\n",
       " '3287_10.txt',\n",
       " '1777_10.txt',\n",
       " '4736_8.txt',\n",
       " '9153_9.txt',\n",
       " '12285_10.txt',\n",
       " '9035_9.txt',\n",
       " '7939_10.txt',\n",
       " '4761_7.txt',\n",
       " '11747_10.txt',\n",
       " '10491_7.txt',\n",
       " '8255_8.txt',\n",
       " '8863_10.txt',\n",
       " '9842_7.txt',\n",
       " '8648_10.txt',\n",
       " '9852_9.txt',\n",
       " '2330_10.txt',\n",
       " '12244_8.txt',\n",
       " '8646_8.txt',\n",
       " '8709_10.txt',\n",
       " '9256_8.txt',\n",
       " '4131_9.txt',\n",
       " '2278_10.txt',\n",
       " '3904_9.txt',\n",
       " '11575_10.txt',\n",
       " '7785_10.txt',\n",
       " '6539_9.txt',\n",
       " '8224_10.txt',\n",
       " '6985_7.txt',\n",
       " '9055_7.txt',\n",
       " '5235_8.txt',\n",
       " '11045_8.txt',\n",
       " '6529_10.txt',\n",
       " '3677_9.txt',\n",
       " '5269_9.txt',\n",
       " '6803_9.txt',\n",
       " '6512_7.txt',\n",
       " '5848_7.txt',\n",
       " '1562_8.txt',\n",
       " '397_7.txt',\n",
       " '3120_10.txt',\n",
       " '10978_10.txt',\n",
       " '380_9.txt',\n",
       " '4459_9.txt',\n",
       " '4723_8.txt',\n",
       " '8961_9.txt',\n",
       " '4097_7.txt',\n",
       " '2616_10.txt',\n",
       " '1172_7.txt',\n",
       " '1910_8.txt',\n",
       " '3672_9.txt',\n",
       " '2706_10.txt',\n",
       " '2653_10.txt',\n",
       " '5997_7.txt',\n",
       " '1979_10.txt',\n",
       " '678_7.txt',\n",
       " '1400_7.txt',\n",
       " '9416_9.txt',\n",
       " '10819_9.txt',\n",
       " '1548_10.txt',\n",
       " '6379_8.txt',\n",
       " '2801_10.txt',\n",
       " '8349_10.txt',\n",
       " '8563_10.txt',\n",
       " '7722_7.txt',\n",
       " '1323_9.txt',\n",
       " '4378_7.txt',\n",
       " '10658_9.txt',\n",
       " '9565_9.txt',\n",
       " '8076_10.txt',\n",
       " '8500_10.txt',\n",
       " '1702_7.txt',\n",
       " '4744_9.txt',\n",
       " '553_9.txt',\n",
       " '5437_8.txt',\n",
       " '3786_9.txt',\n",
       " '4780_10.txt',\n",
       " '2061_8.txt',\n",
       " '8128_8.txt',\n",
       " '6108_8.txt',\n",
       " '1149_8.txt',\n",
       " '928_10.txt',\n",
       " '10307_7.txt',\n",
       " '805_10.txt',\n",
       " '6210_8.txt',\n",
       " '12181_10.txt',\n",
       " '9405_7.txt',\n",
       " '1320_9.txt',\n",
       " '7964_9.txt',\n",
       " '4147_8.txt',\n",
       " '4018_10.txt',\n",
       " '5650_10.txt',\n",
       " '2295_8.txt',\n",
       " '2758_9.txt',\n",
       " '11890_10.txt',\n",
       " '11718_7.txt',\n",
       " '250_10.txt',\n",
       " '2470_9.txt',\n",
       " '222_10.txt',\n",
       " '3419_9.txt',\n",
       " '4571_7.txt',\n",
       " '3003_10.txt',\n",
       " '3656_10.txt',\n",
       " '10285_9.txt',\n",
       " '11573_10.txt',\n",
       " '8271_10.txt',\n",
       " '1877_7.txt',\n",
       " '1753_7.txt',\n",
       " '6745_7.txt',\n",
       " '5920_7.txt',\n",
       " '8538_8.txt',\n",
       " '11385_10.txt',\n",
       " '1728_10.txt',\n",
       " '1630_7.txt',\n",
       " '9803_9.txt',\n",
       " '2778_10.txt',\n",
       " '3843_7.txt',\n",
       " '1398_8.txt',\n",
       " '9801_10.txt',\n",
       " '735_7.txt',\n",
       " '8896_8.txt',\n",
       " '5429_8.txt',\n",
       " '2175_8.txt',\n",
       " '3285_8.txt',\n",
       " '6608_9.txt',\n",
       " '6355_9.txt',\n",
       " '9167_8.txt',\n",
       " '1298_8.txt',\n",
       " '52_10.txt',\n",
       " '7601_8.txt',\n",
       " '6435_10.txt',\n",
       " '3882_8.txt',\n",
       " '8415_10.txt',\n",
       " '11693_10.txt',\n",
       " '8657_7.txt',\n",
       " '1592_10.txt',\n",
       " '2538_10.txt',\n",
       " '3478_9.txt',\n",
       " '7832_8.txt',\n",
       " '786_10.txt',\n",
       " '10376_10.txt',\n",
       " '3014_7.txt',\n",
       " '1906_7.txt',\n",
       " '8258_10.txt',\n",
       " '10273_10.txt',\n",
       " '329_10.txt',\n",
       " '11782_8.txt',\n",
       " '9018_7.txt',\n",
       " '7950_8.txt',\n",
       " '4334_10.txt',\n",
       " '6571_10.txt',\n",
       " '3371_9.txt',\n",
       " '3046_8.txt',\n",
       " '8001_9.txt',\n",
       " '10394_9.txt',\n",
       " '5664_10.txt',\n",
       " '496_9.txt',\n",
       " '10243_9.txt',\n",
       " '2222_10.txt',\n",
       " '8842_9.txt',\n",
       " '266_8.txt',\n",
       " '12122_10.txt',\n",
       " '11342_10.txt',\n",
       " '2994_8.txt',\n",
       " '7766_10.txt',\n",
       " '5645_10.txt',\n",
       " '2257_10.txt',\n",
       " '1319_10.txt',\n",
       " '5456_9.txt',\n",
       " '7884_9.txt',\n",
       " '1195_10.txt',\n",
       " '691_7.txt',\n",
       " '348_7.txt',\n",
       " '9768_10.txt',\n",
       " '6287_7.txt',\n",
       " '11584_10.txt',\n",
       " '8667_10.txt',\n",
       " '12098_10.txt',\n",
       " '11679_10.txt',\n",
       " '8330_9.txt',\n",
       " '9056_10.txt',\n",
       " '10930_7.txt',\n",
       " '3453_8.txt',\n",
       " '9491_10.txt',\n",
       " '1361_9.txt',\n",
       " '8945_7.txt',\n",
       " '11502_10.txt',\n",
       " '7948_8.txt',\n",
       " '8491_8.txt',\n",
       " '2791_8.txt',\n",
       " '9046_10.txt',\n",
       " '2207_10.txt',\n",
       " '2642_8.txt',\n",
       " '5581_10.txt',\n",
       " '7296_10.txt',\n",
       " '6398_9.txt',\n",
       " '10236_10.txt',\n",
       " '4718_8.txt',\n",
       " '6834_10.txt',\n",
       " '10694_10.txt',\n",
       " '6618_7.txt',\n",
       " '8570_8.txt',\n",
       " '7512_10.txt',\n",
       " '2986_10.txt',\n",
       " '7334_10.txt',\n",
       " '11236_10.txt',\n",
       " '10673_9.txt',\n",
       " '1883_9.txt',\n",
       " '12321_9.txt',\n",
       " '6348_8.txt',\n",
       " '8973_7.txt',\n",
       " '2631_9.txt',\n",
       " '11111_10.txt',\n",
       " '1264_9.txt',\n",
       " '4526_7.txt',\n",
       " '11139_10.txt',\n",
       " '11193_7.txt',\n",
       " '695_10.txt',\n",
       " '5122_10.txt',\n",
       " '2274_10.txt',\n",
       " '8666_9.txt',\n",
       " '1629_8.txt',\n",
       " '529_10.txt',\n",
       " '6577_10.txt',\n",
       " '494_10.txt',\n",
       " '11898_9.txt',\n",
       " '4224_9.txt',\n",
       " '8718_10.txt',\n",
       " '3960_10.txt',\n",
       " '10343_9.txt',\n",
       " '9658_8.txt',\n",
       " '450_10.txt',\n",
       " '2630_10.txt',\n",
       " '9192_7.txt',\n",
       " '12296_9.txt',\n",
       " '5659_10.txt',\n",
       " '12407_10.txt',\n",
       " '8748_10.txt',\n",
       " '11841_9.txt',\n",
       " '9689_10.txt',\n",
       " '3736_7.txt',\n",
       " '9707_7.txt',\n",
       " '5451_8.txt',\n",
       " '7331_7.txt',\n",
       " '3758_8.txt',\n",
       " '5492_10.txt',\n",
       " '97_7.txt',\n",
       " '3045_9.txt',\n",
       " '7926_7.txt',\n",
       " '7378_7.txt',\n",
       " '8332_10.txt',\n",
       " '883_8.txt',\n",
       " '645_10.txt',\n",
       " '7042_8.txt',\n",
       " '1017_7.txt',\n",
       " '8029_8.txt',\n",
       " '3165_10.txt',\n",
       " '4902_8.txt',\n",
       " '1423_10.txt',\n",
       " '7094_7.txt',\n",
       " '7077_10.txt',\n",
       " '4163_8.txt',\n",
       " '2683_10.txt',\n",
       " '3773_8.txt',\n",
       " '7969_10.txt',\n",
       " '10968_8.txt',\n",
       " '8212_9.txt',\n",
       " '11292_10.txt',\n",
       " '11175_10.txt',\n",
       " '7155_9.txt',\n",
       " '613_10.txt',\n",
       " '8514_10.txt',\n",
       " '10020_8.txt',\n",
       " '1544_10.txt',\n",
       " '7315_7.txt',\n",
       " '8285_10.txt',\n",
       " '9758_10.txt',\n",
       " '5409_7.txt',\n",
       " '8022_7.txt',\n",
       " '7827_10.txt',\n",
       " '3153_10.txt',\n",
       " '11305_7.txt',\n",
       " '9345_10.txt',\n",
       " '8808_9.txt',\n",
       " '4256_10.txt',\n",
       " '7846_9.txt',\n",
       " '11689_7.txt',\n",
       " '262_9.txt',\n",
       " '4012_10.txt',\n",
       " '3090_8.txt',\n",
       " '6154_10.txt',\n",
       " '1267_8.txt',\n",
       " '11165_10.txt',\n",
       " '3276_10.txt',\n",
       " '2676_10.txt',\n",
       " '4646_10.txt',\n",
       " '10093_10.txt',\n",
       " '6890_10.txt',\n",
       " '6414_9.txt',\n",
       " '3169_9.txt',\n",
       " '3263_10.txt',\n",
       " '2886_7.txt',\n",
       " '6728_9.txt',\n",
       " '1654_10.txt',\n",
       " '5243_7.txt',\n",
       " '2418_8.txt',\n",
       " '1343_10.txt',\n",
       " '2572_10.txt',\n",
       " '11515_7.txt',\n",
       " '3280_10.txt',\n",
       " '12014_10.txt',\n",
       " '9331_7.txt',\n",
       " '12322_8.txt',\n",
       " '10124_8.txt',\n",
       " '887_8.txt',\n",
       " '11937_9.txt',\n",
       " '1729_10.txt',\n",
       " '8609_7.txt',\n",
       " '75_10.txt',\n",
       " '10719_7.txt',\n",
       " '836_9.txt',\n",
       " '10380_7.txt',\n",
       " '11867_8.txt',\n",
       " '280_10.txt',\n",
       " '8211_9.txt',\n",
       " '3946_10.txt',\n",
       " '7114_8.txt',\n",
       " '9114_10.txt',\n",
       " '6153_10.txt',\n",
       " '9841_8.txt',\n",
       " '10556_10.txt',\n",
       " '132_9.txt',\n",
       " '5969_10.txt',\n",
       " '6203_10.txt',\n",
       " '1543_7.txt',\n",
       " '9916_8.txt',\n",
       " '11733_10.txt',\n",
       " '8475_7.txt',\n",
       " '6225_8.txt',\n",
       " '3556_9.txt',\n",
       " '6162_10.txt',\n",
       " '3249_9.txt',\n",
       " '3855_10.txt',\n",
       " '4913_10.txt',\n",
       " '5049_9.txt',\n",
       " '11918_10.txt',\n",
       " '5233_9.txt',\n",
       " '791_10.txt',\n",
       " '2313_8.txt',\n",
       " '9748_9.txt',\n",
       " '4297_8.txt',\n",
       " '10440_7.txt',\n",
       " '6730_7.txt',\n",
       " '57_10.txt',\n",
       " '6622_9.txt',\n",
       " '2880_10.txt',\n",
       " '11300_8.txt',\n",
       " '12195_10.txt',\n",
       " '1477_8.txt',\n",
       " '10786_7.txt',\n",
       " '10147_7.txt',\n",
       " '8331_10.txt',\n",
       " '7188_7.txt',\n",
       " '4134_7.txt',\n",
       " '1432_10.txt',\n",
       " '7167_8.txt',\n",
       " '3546_8.txt',\n",
       " '7679_9.txt',\n",
       " '831_7.txt',\n",
       " '2420_8.txt',\n",
       " '2118_10.txt',\n",
       " '817_7.txt',\n",
       " '5063_8.txt',\n",
       " '5564_10.txt',\n",
       " '8868_7.txt',\n",
       " '11042_8.txt',\n",
       " '891_9.txt',\n",
       " '1784_8.txt',\n",
       " '7732_9.txt',\n",
       " '822_10.txt',\n",
       " '8575_7.txt',\n",
       " '12205_10.txt',\n",
       " '1644_9.txt',\n",
       " '12006_10.txt',\n",
       " '5268_10.txt',\n",
       " '2640_8.txt',\n",
       " '3258_7.txt',\n",
       " '1168_10.txt',\n",
       " '1944_9.txt',\n",
       " '3992_8.txt',\n",
       " '7401_10.txt',\n",
       " '3540_9.txt',\n",
       " '6826_7.txt',\n",
       " '10432_10.txt',\n",
       " '4870_10.txt',\n",
       " '4699_10.txt',\n",
       " '10317_10.txt',\n",
       " '7758_8.txt',\n",
       " '11442_10.txt',\n",
       " '5638_10.txt',\n",
       " '8243_7.txt',\n",
       " ...]"
      ]
     },
     "execution_count": 24,
     "metadata": {},
     "output_type": "execute_result"
    }
   ],
   "source": [
    "import os\n",
    "os.listdir(path+'pos')"
   ]
  },
  {
   "cell_type": "code",
   "execution_count": 25,
   "metadata": {},
   "outputs": [],
   "source": [
    "# Reading the Positive/Negative sentences\n",
    "\n",
    "for label in ['pos', 'neg']:\n",
    "    dir_name = os.path.join(path+label)\n",
    "    for file in os.listdir(dir_name):\n",
    "        with open(os.path.join(dir_name, file), encoding='utf8') as f:\n",
    "            data.append(f.read())\n",
    "            if label == 'pos':\n",
    "                labels.append(1)\n",
    "            else:\n",
    "                labels.append(0)   "
   ]
  },
  {
   "cell_type": "code",
   "execution_count": 26,
   "metadata": {},
   "outputs": [
    {
     "name": "stdout",
     "output_type": "stream",
     "text": [
      "[\"Well acted drama based on a novel by Arthur Miller. Something as simple as a pair of glasses becomes life altering. Lawrence Newman(William H. Macy)is a man that has chosen to be satisfied with his mundane life; the same job for twenty years and still living with his mother. He is told by his boss to correct his vision with a pair of glasses. Newman's life drastically changes and delves him into hell. The glasses he chose makes him look Jewish. He looses his job and becomes the object of heavy scrutiny by his Brooklyn neighborhood. Searching for a job, he encounters the attractive and outspoken Gertrude(Laura Dern), herself living with conflict because of her Jewish appearance. Soon the couple's new life together becomes a nightmare filled with humiliation and bigotry driven attacks. A very apt cast that features: Joseph Ziegler, Peter Oldring, Kay Hawtrey and of musical fame, Meat Loaf.\", \"Mullholland Drive proves once again that David Lynch is the Master of cinematic expression. At the screening last night I witnessed a brilliant addition to the history of cinema. The performances are astounding, the score entrancing, and the photography mesmerizing. David's ability to weave the many elements of film making into a unique and stunning cinematic experience is unequalled. As I watched Mullholland Drive I couldn't help but realize that with David Lynch in this world we are truly blessed. The cinema is blessed as well for, in the films of David Lynch, we are shown that one man's vision can be realized with stunning results. We realize that blockbusters are not the only path. We realize that a true cinematic artist has a chance in this world and in that we are blessed indeed.\"]\n",
      "[1, 1]\n"
     ]
    }
   ],
   "source": [
    "print(data[:2])\n",
    "print(labels[:2])"
   ]
  },
  {
   "cell_type": "code",
   "execution_count": 27,
   "metadata": {},
   "outputs": [],
   "source": [
    "# preprocessing the data\n",
    "from keras.preprocessing.text import Tokenizer"
   ]
  },
  {
   "cell_type": "code",
   "execution_count": 28,
   "metadata": {},
   "outputs": [],
   "source": [
    "maxlen = 100\n",
    "training_samples = 200\n",
    "validation_samples = 10000\n",
    "max_words = 10000"
   ]
  },
  {
   "cell_type": "code",
   "execution_count": 29,
   "metadata": {},
   "outputs": [],
   "source": [
    "tokenizer = Tokenizer(num_words=max_words)\n",
    "tokenizer.fit_on_texts(data)"
   ]
  },
  {
   "cell_type": "code",
   "execution_count": 30,
   "metadata": {},
   "outputs": [],
   "source": [
    "sequence = tokenizer.texts_to_sequences(data)"
   ]
  },
  {
   "cell_type": "code",
   "execution_count": 31,
   "metadata": {},
   "outputs": [
    {
     "name": "stdout",
     "output_type": "stream",
     "text": [
      "Unique words are :  87393\n"
     ]
    }
   ],
   "source": [
    "word_index = tokenizer.word_index\n",
    "print(\"Unique words are : \", len(word_index))"
   ]
  },
  {
   "cell_type": "code",
   "execution_count": 32,
   "metadata": {},
   "outputs": [],
   "source": [
    "from keras.preprocessing.sequence import pad_sequences"
   ]
  },
  {
   "cell_type": "code",
   "execution_count": 33,
   "metadata": {},
   "outputs": [],
   "source": [
    "data = pad_sequences(sequence, maxlen=maxlen)\n",
    "labels = np.asarray(labels)"
   ]
  },
  {
   "cell_type": "code",
   "execution_count": 34,
   "metadata": {},
   "outputs": [
    {
     "name": "stdout",
     "output_type": "stream",
     "text": [
      "Shape of data :  (25000, 100)\n",
      "Shape of labels :  (25000,)\n"
     ]
    }
   ],
   "source": [
    "print(\"Shape of data : \", data.shape)\n",
    "print(\"Shape of labels : \", labels.shape)"
   ]
  },
  {
   "cell_type": "code",
   "execution_count": 35,
   "metadata": {},
   "outputs": [
    {
     "data": {
      "text/plain": [
       "'\\n# suffling the data \\ndata_labels = list(zip(data, labels))\\nnp.random.shuffle(data_labels)\\n\\ndata1, labels1 = data_labels \\n'"
      ]
     },
     "execution_count": 35,
     "metadata": {},
     "output_type": "execute_result"
    }
   ],
   "source": [
    "'''\n",
    "# suffling the data \n",
    "data_labels = list(zip(data, labels))\n",
    "np.random.shuffle(data_labels)\n",
    "\n",
    "data1, labels1 = data_labels \n",
    "'''"
   ]
  },
  {
   "cell_type": "code",
   "execution_count": 36,
   "metadata": {},
   "outputs": [],
   "source": [
    "# for shuffling the data , best way to shuffle the indices of data\n",
    "indices = np.arange(labels.shape[0])\n",
    "np.random.shuffle(indices)\n",
    "\n",
    "data1 = data[indices]\n",
    "labels1 = labels[indices]"
   ]
  },
  {
   "cell_type": "code",
   "execution_count": 37,
   "metadata": {},
   "outputs": [],
   "source": [
    "# splitting the data into train and test\n",
    "x_train = data1[:training_samples]\n",
    "y_train = labels1[:training_samples]\n",
    "x_val = data1[training_samples: training_samples + validation_samples]   # validation data will have all the input data\n",
    "y_val = labels1[training_samples: training_samples + validation_samples]"
   ]
  },
  {
   "cell_type": "code",
   "execution_count": 38,
   "metadata": {},
   "outputs": [
    {
     "name": "stdout",
     "output_type": "stream",
     "text": [
      "(200, 100) (200,) (10000, 100) (10000,)\n"
     ]
    }
   ],
   "source": [
    "print(x_train.shape,  y_train.shape, x_val.shape, y_val.shape)"
   ]
  },
  {
   "cell_type": "markdown",
   "metadata": {},
   "source": [
    "#### Downloaded the glove pre-trained embeddings and loadded "
   ]
  },
  {
   "cell_type": "code",
   "execution_count": 40,
   "metadata": {},
   "outputs": [],
   "source": [
    "glove_dir='../../datasets/glove/'\n",
    "\n",
    "glove_embed = {}\n",
    "with open(os.path.join(glove_dir, 'glove.6B.100d.txt'), encoding='utf8') as fh:\n",
    "    for line in fh:\n",
    "        words = line.split()\n",
    "        word = words[0]\n",
    "        embed = np.asarray(words[1:], dtype='float32')\n",
    "        glove_embed[word] = embed"
   ]
  },
  {
   "cell_type": "code",
   "execution_count": 41,
   "metadata": {},
   "outputs": [
    {
     "name": "stdout",
     "output_type": "stream",
     "text": [
      "Glove word embeddings:  400000\n"
     ]
    }
   ],
   "source": [
    "print(\"Glove word embeddings: \", len(glove_embed))\n",
    "#print(\"Glove word embeddings shaoe: \", len(glove_embed.values()[0]))"
   ]
  },
  {
   "cell_type": "code",
   "execution_count": 42,
   "metadata": {},
   "outputs": [
    {
     "name": "stdout",
     "output_type": "stream",
     "text": [
      "Embedding Matrix Shape:  (10000, 100)\n"
     ]
    }
   ],
   "source": [
    "embedding_dim = 100\n",
    "embedding_matrix = np.zeros((max_words, embedding_dim))\n",
    "for word, i in word_index.items():\n",
    "    if i < max_words:\n",
    "        embedding_vector = glove_embed.get(word)\n",
    "        if embedding_vector is not None:\n",
    "            embedding_matrix[i] = embedding_vector\n",
    "            \n",
    "print(\"Embedding Matrix Shape: \", embedding_matrix.shape)"
   ]
  },
  {
   "cell_type": "code",
   "execution_count": 43,
   "metadata": {},
   "outputs": [
    {
     "name": "stdout",
     "output_type": "stream",
     "text": [
      "_________________________________________________________________\n",
      "Layer (type)                 Output Shape              Param #   \n",
      "=================================================================\n",
      "embedding_2 (Embedding)      (None, 100, 100)          1000000   \n",
      "_________________________________________________________________\n",
      "flatten_2 (Flatten)          (None, 10000)             0         \n",
      "_________________________________________________________________\n",
      "dense_2 (Dense)              (None, 32)                320032    \n",
      "_________________________________________________________________\n",
      "dense_3 (Dense)              (None, 1)                 33        \n",
      "=================================================================\n",
      "Total params: 1,320,065\n",
      "Trainable params: 1,320,065\n",
      "Non-trainable params: 0\n",
      "_________________________________________________________________\n"
     ]
    }
   ],
   "source": [
    "# building the model\n",
    "\n",
    "model_glove = models.Sequential()\n",
    "model_glove.add(layers.Embedding(input_dim=10000, output_dim=100, input_length=maxlen))\n",
    "model_glove.add(layers.Flatten())\n",
    "model_glove.add(Dense(32, activation='relu'))\n",
    "model_glove.add(Dense(1, activation='sigmoid'))\n",
    "model_glove.summary()"
   ]
  },
  {
   "cell_type": "markdown",
   "metadata": {},
   "source": [
    "#### LOADING THE GLOVE EMBEDDINGS IN THE MODEL"
   ]
  },
  {
   "cell_type": "code",
   "execution_count": 44,
   "metadata": {},
   "outputs": [],
   "source": [
    "model_glove.layers[0].set_weights([embedding_matrix])\n",
    "model_glove.layers[0].trainable = False"
   ]
  },
  {
   "cell_type": "code",
   "execution_count": 45,
   "metadata": {},
   "outputs": [],
   "source": [
    "model_glove.compile(optimizer='rmsprop', loss='binary_crossentropy', metrics=['acc'])"
   ]
  },
  {
   "cell_type": "code",
   "execution_count": 46,
   "metadata": {},
   "outputs": [
    {
     "name": "stdout",
     "output_type": "stream",
     "text": [
      "3.6.3 |Anaconda custom (64-bit)| (default, Oct 13 2017, 12:02:49) \n",
      "[GCC 7.2.0]\n"
     ]
    }
   ],
   "source": [
    "next(iter(glove_embed))\n",
    "\n",
    "import sys\n",
    "print(sys.version)"
   ]
  },
  {
   "cell_type": "code",
   "execution_count": 47,
   "metadata": {},
   "outputs": [
    {
     "name": "stdout",
     "output_type": "stream",
     "text": [
      "[array([-0.038194  , -0.24487001,  0.72812003, -0.39961001,  0.083172  ,\n",
      "        0.043953  , -0.39140999,  0.3344    , -0.57545   ,  0.087459  ,\n",
      "        0.28786999, -0.06731   ,  0.30906001, -0.26383999, -0.13231   ,\n",
      "       -0.20757   ,  0.33395001, -0.33848   , -0.31742999, -0.48335999,\n",
      "        0.1464    , -0.37303999,  0.34577   ,  0.052041  ,  0.44946   ,\n",
      "       -0.46970999,  0.02628   , -0.54154998, -0.15518001, -0.14106999,\n",
      "       -0.039722  ,  0.28277001,  0.14393   ,  0.23464   , -0.31020999,\n",
      "        0.086173  ,  0.20397   ,  0.52623999,  0.17163999, -0.082378  ,\n",
      "       -0.71787   , -0.41531   ,  0.20334999, -0.12763   ,  0.41367   ,\n",
      "        0.55186999,  0.57907999, -0.33476999, -0.36559001, -0.54856998,\n",
      "       -0.062892  ,  0.26583999,  0.30204999,  0.99774998, -0.80480999,\n",
      "       -3.0243001 ,  0.01254   , -0.36941999,  2.21670008,  0.72201002,\n",
      "       -0.24978   ,  0.92136002,  0.034514  ,  0.46744999,  1.10790002,\n",
      "       -0.19358   , -0.074575  ,  0.23353   , -0.052062  , -0.22044   ,\n",
      "        0.057162  , -0.15806   , -0.30798   , -0.41624999,  0.37972   ,\n",
      "        0.15006   , -0.53211999, -0.20550001, -1.25259995,  0.071624  ,\n",
      "        0.70564997,  0.49744001, -0.42063001,  0.26148   , -1.53799999,\n",
      "       -0.30223   , -0.073438  , -0.28312001,  0.37103999, -0.25217   ,\n",
      "        0.016215  , -0.017099  , -0.38984001,  0.87423998, -0.72569001,\n",
      "       -0.51058   , -0.52028   , -0.1459    ,  0.82779998,  0.27061999], dtype=float32)]\n"
     ]
    }
   ],
   "source": [
    "from itertools import islice\n",
    "print(list(islice(glove_embed.values(), 1)))"
   ]
  },
  {
   "cell_type": "code",
   "execution_count": 48,
   "metadata": {},
   "outputs": [
    {
     "data": {
      "text/plain": [
       "['the', ',']"
      ]
     },
     "execution_count": 48,
     "metadata": {},
     "output_type": "execute_result"
    }
   ],
   "source": [
    "list(glove_embed.keys())[:2]"
   ]
  },
  {
   "cell_type": "code",
   "execution_count": 49,
   "metadata": {},
   "outputs": [
    {
     "data": {
      "text/plain": [
       "100"
      ]
     },
     "execution_count": 49,
     "metadata": {},
     "output_type": "execute_result"
    }
   ],
   "source": [
    "len(glove_embed[list(glove_embed)[0]])"
   ]
  },
  {
   "cell_type": "code",
   "execution_count": 50,
   "metadata": {},
   "outputs": [
    {
     "name": "stdout",
     "output_type": "stream",
     "text": [
      "Train on 200 samples, validate on 10000 samples\n",
      "Epoch 1/10\n",
      "200/200 [==============================] - 1s 7ms/step - loss: 1.6166 - acc: 0.5150 - val_loss: 0.8668 - val_acc: 0.5064\n",
      "Epoch 2/10\n",
      "200/200 [==============================] - 1s 3ms/step - loss: 0.5898 - acc: 0.6300 - val_loss: 0.8374 - val_acc: 0.5082\n",
      "Epoch 3/10\n",
      "200/200 [==============================] - 1s 4ms/step - loss: 0.4362 - acc: 0.7250 - val_loss: 0.7898 - val_acc: 0.5056\n",
      "Epoch 4/10\n",
      "200/200 [==============================] - 1s 6ms/step - loss: 0.3329 - acc: 0.8650 - val_loss: 1.2838 - val_acc: 0.4940\n",
      "Epoch 5/10\n",
      "200/200 [==============================] - 1s 3ms/step - loss: 0.2801 - acc: 0.8900 - val_loss: 0.7241 - val_acc: 0.5468\n",
      "Epoch 6/10\n",
      "200/200 [==============================] - 1s 4ms/step - loss: 0.1612 - acc: 0.9850 - val_loss: 0.8731 - val_acc: 0.5112\n",
      "Epoch 7/10\n",
      "200/200 [==============================] - 1s 5ms/step - loss: 0.3039 - acc: 0.8650 - val_loss: 0.7214 - val_acc: 0.5640\n",
      "Epoch 8/10\n",
      "200/200 [==============================] - 1s 5ms/step - loss: 0.0650 - acc: 1.0000 - val_loss: 1.4427 - val_acc: 0.4956\n",
      "Epoch 9/10\n",
      "200/200 [==============================] - 1s 4ms/step - loss: 0.0881 - acc: 0.9800 - val_loss: 0.7710 - val_acc: 0.5646\n",
      "Epoch 10/10\n",
      "200/200 [==============================] - 1s 4ms/step - loss: 0.0246 - acc: 1.0000 - val_loss: 0.8503 - val_acc: 0.5524\n"
     ]
    }
   ],
   "source": [
    "hist = model_glove.fit(x_train, y_train,\n",
    "                       epochs=10,\n",
    "                       batch_size=32,\n",
    "                       validation_data=(x_val, y_val))\n",
    "\n",
    "model_glove.save_weights('pre_trained_glove_model.h5')"
   ]
  },
  {
   "cell_type": "code",
   "execution_count": 52,
   "metadata": {},
   "outputs": [
    {
     "data": {
      "image/png": "[encoded data removed]",
      "text/plain": [
       "<matplotlib.figure.Figure at 0x7faef80710f0>"
      ]
     },
     "metadata": {},
     "output_type": "display_data"
    }
   ],
   "source": [
    "myutils.plot_keras_acc_ax(hist)"
   ]
  },
  {
   "cell_type": "code",
   "execution_count": null,
   "metadata": {},
   "outputs": [],
   "source": []
  }
 ],
 "metadata": {
  "kernelspec": {
   "display_name": "Python 3",
   "language": "python",
   "name": "python3"
  },
  "language_info": {
   "codemirror_mode": {
    "name": "ipython",
    "version": 3
   },
   "file_extension": ".py",
   "mimetype": "text/x-python",
   "name": "python",
   "nbconvert_exporter": "python",
   "pygments_lexer": "ipython3",
   "version": "3.6.4"
  }
 },
 "nbformat": 4,
 "nbformat_minor": 2
}
