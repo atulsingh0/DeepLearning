{
 "cells": [
  {
   "cell_type": "markdown",
   "metadata": {},
   "source": [
    "### Regression Problem : Predicting the house price"
   ]
  },
  {
   "cell_type": "code",
   "execution_count": 76,
   "metadata": {},
   "outputs": [],
   "source": [
    "from myutils import *"
   ]
  },
  {
   "cell_type": "code",
   "execution_count": 77,
   "metadata": {},
   "outputs": [],
   "source": [
    "#import\n",
    "from keras import layers, models, optimizers, losses, metrics\n",
    "from keras.datasets import boston_housing\n",
    "from keras.utils.np_utils import to_categorical\n",
    "import numpy as np"
   ]
  },
  {
   "cell_type": "code",
   "execution_count": 78,
   "metadata": {},
   "outputs": [],
   "source": [
    "(train_data, train_price),(test_data, test_price) = boston_housing.load_data()"
   ]
  },
  {
   "cell_type": "code",
   "execution_count": 79,
   "metadata": {},
   "outputs": [
    {
     "name": "stdout",
     "output_type": "stream",
     "text": [
      "(404, 13)\n",
      "(102, 13)\n"
     ]
    }
   ],
   "source": [
    "print(train_data.shape)\n",
    "print(test_data.shape)"
   ]
  },
  {
   "cell_type": "code",
   "execution_count": 80,
   "metadata": {},
   "outputs": [
    {
     "name": "stdout",
     "output_type": "stream",
     "text": [
      "(404,)\n",
      "(102,)\n"
     ]
    }
   ],
   "source": [
    "print(train_price.shape)\n",
    "print(test_price.shape)"
   ]
  },
  {
   "cell_type": "markdown",
   "metadata": {},
   "source": [
    "**Standarization the data points**  \n",
    "standardization transforms data to have a mean of zero and a standard deviation of 1. This standardization is called a z-score"
   ]
  },
  {
   "cell_type": "code",
   "execution_count": 81,
   "metadata": {},
   "outputs": [],
   "source": [
    "mean = np.mean(train_data,axis=0)\n",
    "train_data = train_data-mean\n",
    "std = np.std(train_data,axis=0)\n",
    "train_data = train_data / std\n",
    "\n",
    "\n",
    "test_data = (test_data - mean)/std"
   ]
  },
  {
   "cell_type": "markdown",
   "metadata": {},
   "source": [
    "### Building the network"
   ]
  },
  {
   "cell_type": "code",
   "execution_count": 82,
   "metadata": {},
   "outputs": [],
   "source": [
    "def build_model():\n",
    "    model = models.Sequential()\n",
    "    model.add(layers.Dense(64, activation='relu', input_shape=(train_data.shape[1],)))\n",
    "    model.add(layers.Dense(64, activation='relu'))\n",
    "    model.add(layers.Dense(1))      # Network with Single Layer and NO Activation means - It is linear and can predict any continuous value\n",
    "    model.compile(optimizer='rmsprop', loss='mse', metrics=['mae'])\n",
    "    return model"
   ]
  },
  {
   "cell_type": "markdown",
   "metadata": {},
   "source": [
    "    Network with Single Layer and NO Activation means - It is linear and can predict any continuous value  \n",
    "    Applying the activation function can constraints the output values, if we use Sigmoid, it will be between 0 and 1  \n",
    "    mse - mean squared error  \n",
    "    mae - mean absolute error   \n",
    "    \n",
    "    As we have very limited data, we will not go for training and validation data split which can cause very less no  \n",
    "    for validation data but use the K-Fold CV technique to provide the enough data for training and validation"
   ]
  },
  {
   "cell_type": "code",
   "execution_count": 83,
   "metadata": {},
   "outputs": [
    {
     "data": {
      "text/plain": [
       "101"
      ]
     },
     "execution_count": 83,
     "metadata": {},
     "output_type": "execute_result"
    }
   ],
   "source": [
    "num_epochs = 100\n",
    "k = 4\n",
    "num_val_samples = len(train_data)//k\n",
    "num_val_samples"
   ]
  },
  {
   "cell_type": "code",
   "execution_count": 84,
   "metadata": {},
   "outputs": [
    {
     "name": "stdout",
     "output_type": "stream",
     "text": [
      "CV:  1\n",
      "Training Set Size:  303 303\n",
      "Validation Set Size:  101 101\n",
      "Processing.....\n",
      "Processing Completed.\n",
      "CV:  2\n",
      "Training Set Size:  303 303\n",
      "Validation Set Size:  101 101\n",
      "Processing.....\n",
      "Processing Completed.\n",
      "CV:  3\n",
      "Training Set Size:  303 303\n",
      "Validation Set Size:  101 101\n",
      "Processing.....\n",
      "Processing Completed.\n",
      "CV:  4\n",
      "Training Set Size:  303 303\n",
      "Validation Set Size:  101 101\n",
      "Processing.....\n",
      "Processing Completed.\n",
      "\n",
      "\n",
      "Scores:  [1.9100549858395417, 2.4096976483222283, 2.6506179866224233, 2.6126940923162025]\n",
      "Mean Scores:  2.39576617828\n"
     ]
    }
   ],
   "source": [
    "scores = []\n",
    "\n",
    "for i in range(k):\n",
    "    x_val_data = train_data[i*num_val_samples:(i+1)*num_val_samples]\n",
    "    y_val_data = train_price[i*num_val_samples:(i+1)*num_val_samples]\n",
    "    \n",
    "    x_partial_data = np.concatenate([train_data[(i+1)*num_val_samples:], \n",
    "                                     train_data[:i*num_val_samples]], \n",
    "                                    axis=0)\n",
    "    \n",
    "    y_partial_data = np.concatenate([train_price[(i+1)*num_val_samples:], \n",
    "                                     train_price[:i*num_val_samples]], \n",
    "                                    axis=0)\n",
    "    \n",
    "    print(\"CV: \",i+1)\n",
    "    print(\"Training Set Size: \",len(x_partial_data), len(y_partial_data))\n",
    "    print(\"Validation Set Size: \",len(x_val_data), len(y_val_data))\n",
    "    \n",
    "    print(\"Processing.....\")\n",
    "    model = build_model()\n",
    "    history = model.fit(x_partial_data, \n",
    "              y_partial_data,\n",
    "             epochs = num_epochs,\n",
    "             batch_size=1,\n",
    "             verbose=0)\n",
    "    val_mse, val_mae = model.evaluate(x_val_data, y_val_data, verbose=0)\n",
    "    \n",
    "    scores.append(val_mae)\n",
    "    print(\"Processing Completed.\")\n",
    "\n",
    "print(\"\\n\")\n",
    "print(\"Scores: \", scores)\n",
    "print(\"Mean Scores: \", np.mean(scores))"
   ]
  },
  {
   "cell_type": "markdown",
   "metadata": {},
   "source": [
    "    verbose =0, Building the model in silent mode"
   ]
  },
  {
   "cell_type": "code",
   "execution_count": 85,
   "metadata": {},
   "outputs": [
    {
     "name": "stdout",
     "output_type": "stream",
     "text": [
      "CV Processing.....:  1\n",
      "Processing Completed.\n",
      "CV Processing.....:  2\n",
      "Processing Completed.\n",
      "CV Processing.....:  3\n",
      "Processing Completed.\n",
      "CV Processing.....:  4\n",
      "Processing Completed.\n"
     ]
    }
   ],
   "source": [
    "num_epochs = 500\n",
    "all_mae_hist = []\n",
    "for i in range(k):\n",
    "    x_val_data = train_data[i*num_val_samples:(i+1)*num_val_samples]\n",
    "    y_val_data = train_price[i*num_val_samples:(i+1)*num_val_samples]\n",
    "    \n",
    "    x_partial_data = np.concatenate([train_data[(i+1)*num_val_samples:], \n",
    "                                     train_data[:i*num_val_samples]], \n",
    "                                    axis=0)\n",
    "    \n",
    "    y_partial_data = np.concatenate([train_price[(i+1)*num_val_samples:], \n",
    "                                     train_price[:i*num_val_samples]], \n",
    "                                    axis=0)\n",
    "    \n",
    "    print(\"CV Processing.....: \",i+1)\n",
    "    #print(\"Training Set Size: \",len(x_partial_data), len(y_partial_data))\n",
    "    #print(\"Validation Set Size: \",len(x_val_data), len(y_val_data))\n",
    "    \n",
    "    #print(\"Processing.....\")\n",
    "    model = build_model()\n",
    "    history = model.fit(x_partial_data, \n",
    "              y_partial_data,\n",
    "              validation_data = (x_val_data, y_val_data),\n",
    "             epochs = num_epochs,\n",
    "             batch_size=1,\n",
    "             verbose=0)\n",
    "    # val_mse, val_mae = model.evaluate(x_val_data, y_val_data, verbose=0)\n",
    "    \n",
    "    all_mae_hist.append(history.history['val_mean_absolute_error'])\n",
    "    print(\"Processing Completed.\")"
   ]
  },
  {
   "cell_type": "code",
   "execution_count": 86,
   "metadata": {},
   "outputs": [],
   "source": [
    "avg_mean_hist = [np.mean([x[i] for x in all_mae_hist]) for i in range(num_epochs)]"
   ]
  },
  {
   "cell_type": "code",
   "execution_count": 87,
   "metadata": {},
   "outputs": [
    {
     "data": {
      "image/png": "[encoded data removed]",
      "text/plain": [
       "<matplotlib.figure.Figure at 0x24f1d471cc0>"
      ]
     },
     "metadata": {},
     "output_type": "display_data"
    }
   ],
   "source": [
    "import matplotlib.pyplot as plt\n",
    "\n",
    "plt.plot(np.arange(1, num_epochs+1), avg_mean_hist)\n",
    "plt.xlabel('Epochs')\n",
    "plt.ylabel('Validation Error')\n",
    "plt.show()"
   ]
  },
  {
   "cell_type": "code",
   "execution_count": 88,
   "metadata": {},
   "outputs": [
    {
     "data": {
      "text/plain": [
       "[1.9100549858395417,\n",
       " 2.4096976483222283,\n",
       " 2.6506179866224233,\n",
       " 2.6126940923162025]"
      ]
     },
     "execution_count": 88,
     "metadata": {},
     "output_type": "execute_result"
    }
   ],
   "source": [
    "scores"
   ]
  },
  {
   "cell_type": "code",
   "execution_count": 89,
   "metadata": {},
   "outputs": [
    {
     "data": {
      "text/plain": [
       "2.3957661782750987"
      ]
     },
     "execution_count": 89,
     "metadata": {},
     "output_type": "execute_result"
    }
   ],
   "source": [
    "np.mean(scores)"
   ]
  },
  {
   "cell_type": "code",
   "execution_count": null,
   "metadata": {},
   "outputs": [],
   "source": []
  }
 ],
 "metadata": {
  "kernelspec": {
   "display_name": "Python 3",
   "language": "python",
   "name": "python3"
  },
  "language_info": {
   "codemirror_mode": {
    "name": "ipython",
    "version": 3
   },
   "file_extension": ".py",
   "mimetype": "text/x-python",
   "name": "python",
   "nbconvert_exporter": "python",
   "pygments_lexer": "ipython3",
   "version": "3.6.3"
  }
 },
 "nbformat": 4,
 "nbformat_minor": 2
}
